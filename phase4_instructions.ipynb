{
 "cells": [
  {
   "cell_type": "markdown",
   "id": "5805011f-1c81-4428-98b2-7290098ec201",
   "metadata": {},
   "source": [
    "# INFO 2950 Final Project - Phase IV\n",
    "##### Janice Shen (js3678), Khai Xin Kuan (kk996), Sandy Lin (sl2534), David Park (yp358)"
   ]
  },
  {
   "cell_type": "markdown",
   "id": "4382a679-2ab4-4854-8334-e3007c13dbce",
   "metadata": {},
   "source": [
    "## Table of Content\n",
    "1. [Introduction](#introduction) \n",
    "2. [Data Collection and Cleaning](#data-collection-and-cleaning) \n",
    "3. [Preregistration Statements](#preregistration-statements) \n",
    "4. [Data Analysis](#data-analysis) \n",
    "5. [Evaluation of significance](#evaluation-of-significance)\n",
    "6. [Conclusion](#conclusion)\n",
    "7. [Limitations](#limitations)\n",
    "8. [Acknowledgements and Bibliography](#references)"
   ]
  },
  {
   "cell_type": "markdown",
   "id": "d14c75b3-49b2-4f23-b50e-00a657fb0078",
   "metadata": {},
   "source": [
    "## Introduction <a id=\"introduction\"></a> REVISE INTRO AFTER FINDINGS\n",
    "*State your research question(s) clearly.*\n",
    "\n",
    "*rubric: All expectations of typical projects + clearly describes why the setting is important and what is at stake in the results of the analysis. Citations to related literature are included that might clarify why the research questions are important, or introduce related research.\n",
    "Even if the reader doesn’t know much about the subject, they know why they care about the results of your analysis.*\n",
    "\n",
    "A common interest in both music and finance led the four of us to explore a unique intersection between these fields. Specifically, we asked: could individual music preferences be related to broader economic trends in the United States? Inspired by prior research that suggested promising correlations between music sentiment and market performance (e.g., weekly equity returns) , we decided to investigate further. While excited by the potential connections, our initial data analysis revealed only weak correlations between music sentiment and economic indicators. This prompted us to refine our approaches and think about regression models we could run for the next phase, hoping to reveal hidden trends. \n",
    "\n",
    "## Research Questions:\n",
    "1. **Can the valence of the general population's music preference be predicted by economic indicators such as the unemployment rate, the federal funds rate, and other macroeconomic variables?**\n",
    "   - *Valence* represents the spectrum of emotions in music, ranging from negative (0) to positive (1).\n",
    "   - **Goal:** We sought to determine whether broader economic conditions influence the general emotional tone of music that people gravitate toward.\n",
    "\n",
    "2. **How does danceability correlate with valence, and can we predict the danceability of the general population's music preference based on key economic variables?**\n",
    "   - *Danceability* measures how suitable a track is for dancing, ranging from 0.0 (least danceable) to 1.0 (most danceable).\n",
    "   - **Goal:** We explored whether this characteristic, often linked to musical enjoyment, also showed any connections to economic conditions.\n",
    "\n",
    "### Initial Findings and Methodological Refinement:\n",
    "Our original analysis included all songs in our dataset and yielded extremely weak correlations. We hypothesized that the inclusion of a large volume of less popular songs may have distorted the results, as these songs might not accurately reflect public sentiment or consumption patterns. To address this, we filtered out less popular songs using a *popularity* metric (a scale from 0 to 100, where 100 indicates the most popular songs). We created a cutoff of 70, focusing on the songs with popularity greater than 70 in our analysis to better capture the music that resonates with the general public.\n",
    "\n",
    "**Goal:** Even after refining our data, we found weak correlations between music sentiment and the wider US economy. However, in future phases, we aim to obtain more meaningful insights into the relationship between music sentiments and economic variables, with the potential to reveal subtle but significant patterns. "
   ]
  },
  {
   "cell_type": "markdown",
   "id": "2387c925-3f82-4164-90c5-3dea8f05954a",
   "metadata": {},
   "source": [
    "## Data description and cleaning <a id = \"data-collection-and-cleaning\"></a>CHANGE TO SANDY'S DATA SCRAPING + FRED ECON DATA\n",
    "*Refer to the Phase 2 rubric for instructions on\n",
    "“Datasheets for Datasets” questions. Additionally, describe the data cleaning steps taken for your project, and provide a link to the ipynb on GitHub that performs these data cleaning steps. If it would be helpful for understanding your research question, feel free to include some figures from your Phase 2 EDA to better explain your data.*\n",
    "\n",
    "*rubric: All expectations of typical projects + credits and values data sources. Thoughtfully addresses whether the datasets are trustworthy and reliable as per Discussion 7.\n",
    "Includes a comprehensive and clear discussion of different aspects of the data. The reader understands where the data comes from, why it’s useful for the analysis, and any relevant limitations. If needed, another data scientist could easily find the original data using this description and begin to replicate the analysis.\n",
    "The data cleaning steps are clear and well-commented with markdown text comprehensively explaining the purpose for each step.*\n",
    "\n",
    "## Data Description\n",
    "\n",
    "#### What are the observations (rows) and the attributes (columns)?\n",
    "**Observations**: Each row represents a song or an economic indicator for a specific time period. In the music dataset (musicdata), rows represent individual songs, while in the economic datasets (undata, econdata, us_gdp_data, us_entertainmentgdp_data), rows represent time intervals (e.g., months or quarters).  \n",
    "**Attributes**: In the **music dataset**, the columns include variables like **valence** (a measure of positivity in music), **danceability**, **popularity**, **year**, and other sentiment-related metrics. For the **economic datasets** columns include **unemployment rate**, **GDP**, **federal funds rate**, and other economic indicators.\n",
    "\n",
    "\n",
    "#### Why was this dataset created?  \n",
    "The **music sentiment datasets** were created to explore the relationship between musical attributes (such as valence, danceability, and popularity) and factors like popularity or music trends over time. The **economic datasets** were generated by governmental agencies like the **Federal Reserve** to monitor key economic indicators for research, policy analysis, and public transparency.\n",
    "\n",
    "\n",
    "#### Who funded the creation of the dataset?\n",
    "The **music sentiment dataset** were compiled by independent researchers, such as Caleb Elgut, likely with no explicit funding. These data sources rely on platforms like **Spotify**, **Billboard**, and **ARIA**, which collected the original data. The **economic datasets** were funded by the U.S. government through organizations like the **Federal Reserve** and the **Federal Reserve Bank of St. Louis**, as part of their regular efforts to report and track national economic trends.\n",
    "\n",
    "\n",
    "#### What processes might have influenced what data was observed and recorded and what was not?  \n",
    "In the **music datasets**, factors like availability on Spotify, scraping techniques, and modern-day popularity metrics may have influenced the data observed. For example, older songs that were popular in the 1990s may have lower popularity today, potentially skewing the results when comparing them to historical economic data. In the **economic datasets**, revisions in how economic indicators like GDP and unemployment are calculated, government adjustments, and data collection methodologies could have impacted the recorded data. Additionally, the time series nature of the data means there may be adjustments due to seasonal variations or changes in reporting practices.\n",
    "\n",
    "\n",
    "#### What preprocessing was done, and how did the data come to be in the form that you are using?  \n",
    "- **Music datasets**: The data was scraped from platforms like **Spotify**. Preprocessing included cleaning missing values, and ensuring compatibility between different time periods in the analysis (there was no missing values when we loaded the files).  \n",
    "- **Economic datasets**: The raw data provided by the **Federal Reserve** was merged and aligned with the music data for time-series analysis. Preprocessing involved cleaning missing values, ensuring consistent date formats, and aligning economic metrics with the appropriate historical periods for comparison with music data.\n",
    "\n",
    "\n",
    "#### If people are involved, were they aware of the data collection and if so, what purpose did they expect the data to be used for?\n",
    "- **Music datasets**: The data originates from public platforms like **Spotify**, where users are generally aware that their listening habits are tracked. However, artists and listeners would likely be unaware of this specific usage of the data for correlating music preferences with economic trends.  \n",
    "- **Economic datasets**: Data on economic indicators is collected by government agencies like the **Federal Reserve**, with the understanding that it will be publicly available for research, policy analysis, and economic forecasting.\n",
    "\n",
    "\n",
    "#### Where can your raw source data be found, if applicable?\n",
    "1. **Music sentiment datasets**:  \n",
    "   - Caleb Elgut's dataset scraped from Spotify can be found on GitHub: [Spotify-LSTM Data](https://github.com/calebelgut/spotify-lstm/tree/main/Data)  \n",
    "\n",
    "\n",
    "2. **Economic datasets**:  \n",
    "   - Abigail Larion’s dataset on economic indicators (including federal funds rate, real GDP, and unemployment rate) can be found on Kaggle: [Interest Rates Dataset](https://www.kaggle.com/datasets/federalreserve/interest-rates)  \n",
    "   - Unemployment rate data from Jan 1948 – Sep 2024 is available through the Federal Reserve Economic Data (FRED) platform: [Unemployment Rate](https://fred.stlouisfed.org/series/UNRATE)  \n",
    "   - Quarterly GDP from Jan 1997 – 2019: [Quarterly GDP](https://fred.stlouisfed.org/series/GDP)  \n",
    "   - Yearly GDP of the Music/Entertainment Industry from 1997 – 2019: [Entertainment Industry GDP](https://fred.stlouisfed.org/series/USPRFRMSPRTMSMNGSP)"
   ]
  },
  {
   "cell_type": "markdown",
   "id": "0b5c99bb-8c41-47f5-bd5f-3e7667bcfd2e",
   "metadata": {},
   "source": [
    "## Preregistration statement <a id=\"preregistration-statements\"></a>\n",
    "*Provide at least 2 preregistration statements. Each statement contains a hypothesis and a description of analysis to study the hypothesis. It should also include context for why you believe in your hypothesis\n",
    "by referencing domain knowledge or other literature. Refer to Phase 3 rubric for\n",
    "more details.*\n",
    "\n",
    "*rubric: At least 2 statements are detailed. Each statement includes 1 hypothesis and 1 description of the analysis. The preregistered analyses reflect deep and critical thinking about the real-world application from which the data originates. The hypothesis is substantiated by a description of domain knowledge and likely includes some citations. The analyses are described in a way that persuades the reader that their results will be interesting, whether or not they turn out to be\n",
    "statistically significant.\n",
    "The analyses referenced are scientifically valid and compelling.*\n",
    "\n",
    "Hypothesis 1: The average valence of popular songs by year from 1960-2016 in the US has an inverse relationship with the corresponding US Gross Domestic Product (GDP) of the given year.\n",
    "\n",
    "Analysis: \n",
    "We plan to run a linear regression where we input the US GDP (which is the total value of final goods and services of the country and thus indicates an aspect of the US economy) and output the average valence (a measure from 0.0 to 1.0 describing the musical positiveness conveyed by a track) of each year’s popular (scraped from Billboard top 100) songs. Therefore, we expect to see β<0. Based on our prior EDA, there is a negative correlation between the US GDP and valence. \n",
    "\n",
    "\n",
    "Hypothesis 2: The average danceability of the most popular songs per year from 1960-2016 in the US has an inverse relationship with corresponding US unemployment rate of the given year.\n",
    "\n",
    "Analysis: \n",
    "We will run a linear regression where the input is the average danceability (a measure from 0.0 to 1.0 describing how suitable a track is for dancing based on a combination of musical elements including tempo and rhythm) of each year’s popular songs (scraped from Billboard’s top 100 songs), and output the unemployment rate, which is the percentage of unemployed people actively seeking for jobs. Since we are trying to test the inverse relationship, we expect to see that β < 0. Based on our prior EDA, there is a negative correlation between the US unemployment rate and danceability. \n",
    "__________-^notes from phase 3\n",
    "### First Research Question: Music Valence vs US GDP\n",
    "**The average valence of popular songs by year from 1960-2016 in the US has an inverse relationship with the corresponding US Gross Domestic Product (GDP) of the given year.** \n",
    "- $\\beta$ < 0\n",
    "- $H_0$: The valence of the top 100 Spotify songs per year has no relationship to the US GDP each year.\n",
    "- $H_A$: The valence of the top 100 Spotify songs per year has an inverse relationship to the US GDP each year.\n",
    "\n",
    "### Second Research Question: Music Danceability vs US Unemployment\n",
    "**The average danceability of the most popular songs per year from 1960-2016 in the US has an inverse relationship with corresponding US unemployment rate of the given year.** \n",
    "- $\\beta$ < 0\n",
    "- $H_0$: The danceability of the top 100 Spotify songs per year has no relationship to the US unemployment each year.\n",
    "- $H_A$: The danceability of the top 100 Spotify songs per year has an inverse relationship to the US unemployment each year."
   ]
  },
  {
   "cell_type": "code",
   "execution_count": null,
   "id": "b0f1e792-770c-4068-a518-a8be9bfa9505",
   "metadata": {},
   "outputs": [],
   "source": []
  },
  {
   "cell_type": "markdown",
   "id": "7512d6ab-3e12-4356-8119-54f781921a5b",
   "metadata": {},
   "source": [
    "## Data analysis\n",
    "Carry out the analysis for each preregistration statement.\n",
    "Interpret analyses appropriately (e.g., regressions should be interpreted using the\n",
    "summarizing, predicting, and outliers/oddities framework from class).\n",
    "rubric: All expectations of typical projects + analyses are carefully selected to answer all reasonable questions.\n",
    "Questions raised by one analysis are addressed in subsequent analyses.\n",
    "There is not “analysis barf”: i.e., analyses are chosen to clearly answer the research questions. All analyses are interpreted clearly (i.e., there is markdown text describing what is being done, and what the result is, for each analysis)."
   ]
  },
  {
   "cell_type": "markdown",
   "id": "1c18abbe-7cc9-48df-80c5-1a834ed343e7",
   "metadata": {},
   "source": [
    "## Evaluation of significance <a id=\"evaluation-of-significance\"></a>\n",
    "Determine statistical significance of observed data.\n",
    "Interpret findings and conclude whether to reject or fail to reject hypotheses\n",
    "outlined in preregistration statements.\n",
    "rubric: Metrics of statistical significance appropriate to the analysis performed are presented. Description of metrics / interpretations of discovered p-values are correct and clear.\n",
    "Numeric values are interpreted in a way that supports a clear story and leads to a conclusion that creatively ties the analysis together. Overall, presents the results of the analysis through a well-written and cohesive discussion.\n",
    "Values are presented in context and with clear labels.\n",
    "No “chart barf”. All figures include an explanation as to why they are shown and interpretations for each figure or table."
   ]
  },
  {
   "cell_type": "markdown",
   "id": "a35374dd-f48e-4ac2-adde-6b76acd55dfa",
   "metadata": {},
   "source": [
    "## Conclusions <a id=\"conclusion\"></a>\n",
    "Summarize your answers to your opening research questions.\n",
    "rubric: Research questions are answered clearly and concisely, using rigorous findings from the previous sections to back up claims.\n",
    "Substantively engages with the data analysis and the evaluation of significance sections.\n",
    "Uses key findings from these sections as evidence to support claims in the conclusion."
   ]
  },
  {
   "cell_type": "markdown",
   "id": "68f98a33-72b2-4f49-b05c-83a26a01953f",
   "metadata": {},
   "source": [
    "## Limitations <a id=\"limitations\"></a>\n",
    "Outline any potential harms and data gaps and describe how this\n",
    "could affect conclusions made.\n",
    "rubric: Creatively identifies potential harms and data gaps, and describes how these could affect the meaning of results, as well as the impact of results on people. Limitations of significance metrics are acknowledged."
   ]
  },
  {
   "cell_type": "markdown",
   "id": "f4c147ed-5288-40b5-928d-b80c06eb2bf6",
   "metadata": {},
   "source": [
    "## Acknowledgements and Bibliography <a id=\"references\"></a>\n",
    "Think of this as your Problem 0: what\n",
    "tools, data, or resources did you use that you should cite? You may format this\n",
    "section with any citation style.\n",
    "rubric: Clearly marked and formatted. The group thoughtfully engages with relevant literature on their topic in order to motivate and/or contextualize their findings. All external sources are properly cited in the bibliography and with appropriate in-text citations."
   ]
  },
  {
   "cell_type": "code",
   "execution_count": null,
   "id": "dbdc8f1c-6e86-4a0d-bb09-2eed520765a7",
   "metadata": {},
   "outputs": [],
   "source": []
  },
  {
   "cell_type": "code",
   "execution_count": null,
   "id": "7d3cfed2-2842-4d6d-bc1c-2fc873ce6e71",
   "metadata": {},
   "outputs": [],
   "source": []
  },
  {
   "cell_type": "code",
   "execution_count": null,
   "id": "738dd124-c107-40e7-bff2-3385e0e7683a",
   "metadata": {},
   "outputs": [],
   "source": []
  }
 ],
 "metadata": {
  "kernelspec": {
   "display_name": "Python 3 (ipykernel)",
   "language": "python",
   "name": "python3"
  },
  "language_info": {
   "codemirror_mode": {
    "name": "ipython",
    "version": 3
   },
   "file_extension": ".py",
   "mimetype": "text/x-python",
   "name": "python",
   "nbconvert_exporter": "python",
   "pygments_lexer": "ipython3",
   "version": "3.12.2"
  }
 },
 "nbformat": 4,
 "nbformat_minor": 5
}
