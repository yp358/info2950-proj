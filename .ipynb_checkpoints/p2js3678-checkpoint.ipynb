{
 "cells": [
  {
   "cell_type": "markdown",
   "id": "6f59af0d-e52f-4e04-84f6-e556d8d2b60a",
   "metadata": {},
   "source": [
    "# INFO 2950 Final Project - Phase II\n",
    "##### Janice Shen (js3678), Khai Xin Kuan (kk996), Sandy Lin (sl2534), David Park (yp358)"
   ]
  },
  {
   "cell_type": "markdown",
   "id": "dd336814-dc68-489c-a8c4-323855d57d0f",
   "metadata": {},
   "source": [
    "## Research Questions\n",
    "Something we found in common between the four of us is our love for music and aspiration in finance. We wondered, can something as personal as individual music preference be somehow related to the greater US economy. This conversation sparked us to research into previous work about music sentiments and the us economy, which seems to give us very promising correlation (such as music sentiment with weekly equity: https://www.sciencedirect.com/science/article/pii/S0304405X21003718#:~:text=We%20find%20that%20music%20sentiment,when%20trading%20restrictions%20limit%20arbitrage).\n",
    "\n",
    "However, excited as we are, we ask a range of questions, from daring to more pessimistic:\n",
    "\n",
    "1. Can we predict the valence (a spectrum indicating negative or positive emotions, with 0 indicating most negative and 1 indicating most positive) of the general population’s music preference based on the unemployment rate, fed fund rate and other economic variables?\n",
    "2. Through this journey, we also wondered how danceability correlated with valence, and subsequently, can we predict the danceability (with 0.0 being the least danceable and 1.0 being the most danceable) of the general population’s music preference based on the unemployment rate, fed fund rate and other economic variables?\n",
    "\n",
    "Originally, we went and included all songs in our analysis and found the correlation to be extremely weak. We wondered if this was because the data included a large quantity of songs but people didn't listen to some of them, making them irrelevant. Therefore, we revised our data and filter out unpopular songs with a metric of popularity (a scale out of 100, 100 being the most popular), creating a bottleneck of 70 for our top 10000 song data. \n",
    "\n",
    "Even then, we saw a weak correlation and wondered if there even is a relation betwen broad music/entertainment with the economy. Does the way people consumer entertainment effect the economy at all? Thus, coming to our final research question:\n",
    "\n",
    "3. Lastly, taking a huge step back, is there any relationship between the music industry and the economy? More specifically, we ask is there any relation between the GDP and the music/entertainment growth?"
   ]
  },
  {
   "cell_type": "code",
   "execution_count": 1,
   "id": "0e24e6bf-2da8-4303-a534-b517261015eb",
   "metadata": {},
   "outputs": [],
   "source": [
    "import pandas as pd\n",
    "import numpy as np\n",
    "import duckdb\n",
    "import seaborn as sns\n",
    "import matplotlib.pyplot as plt\n",
    "import datetime\n",
    "from sklearn.linear_model import LinearRegression, LogisticRegression"
   ]
  },
  {
   "cell_type": "markdown",
   "id": "7acae5b7-900c-413d-856e-606c0d8037c5",
   "metadata": {},
   "source": [
    "## Data Descriptions\n",
    "\n",
    "1. *First source for different elements of music sentiments (specifically testing danceability and valence)*\n",
    "This file, named data.csv, was a dataset we found on calebelgut’s github that was said to be scraped directly from Spotify about songs (rows) released from 1921-2020 and different music sentiment element (columns). This data set was original produced to predict popularity from music elements and thus the popularity metric is calculated from today's popularity of a song which could be an issue comparing historic economic data (since huge hits in the 90s for example, could be not so popular today but we are comparing that song in the context of 90s economic data in our project). \n",
    "Source:https://github.com/calebelgut/spotify-lstm/tree/main/Data\n",
    " \n",
    "2. *Second source for different elements of music sentiments (specifically testing danceability and valence)*\n",
    "This file, named top10000song.csv, was a dataset we found on kraggle by Sean Miller who scraped the data from Billboard and ARIA (Australian Recording Industry Association) from the 1950-now, detailing 10,000 most popular Spotify songs (rows) and there music sentiment elements (columns such as Popularity, Energy, and Valence). This again was meant for music fanatics interested in the popularity of musics, but for our project, we liked how the popularity metric was measured from a historitical point of view which we compare with historical economic data (such as unemployment rate). \n",
    "Source:https://www.kaggle.com/datasets/joebeachcapital/top-10000-spotify-songs-1960-now\t\n",
    "\n",
    "4. *Source for different economic indicators (specifically testing interest rate, unemployment rate, GDP)*\n",
    "This file, named Index.csv, is a dataset from kraggle by Abigail Larion, created from the Federal Reserve. This dataset contains data on economic variables such the monthly federal funds rate, real GDP, and unemployment rate from Jul 1954 - Mar 2017.  \n",
    "Source:https://www.kaggle.com/datasets/federalreserve/interest-rates\n",
    " \n",
    "6. *Source From Federal Reserve Bank of St. Louis about monthly unemployment rate data from Jan 1948- Sep 2024*\n",
    "Source:https://fred.stlouisfed.org/series/UNRATE\n",
    "\n",
    "7. *Source From Federal Reserve Bank of St. Louis about yearly GDP from 1997-2019*\n",
    "Source: https://fred.stlouisfed.org/series/GDP\n",
    "\n",
    "9. *Source From Federal Reserve Bank of St. Louis about yearly Music/entertainment industry GDP from 1997-2019*\n",
    "Source:https://fred.stlouisfed.org/series/USPRFRMSPRTMSMNGSP\n"
   ]
  },
  {
   "cell_type": "code",
   "execution_count": null,
   "id": "4f727a82-4b8e-4d70-a472-37dd0b304b67",
   "metadata": {},
   "outputs": [],
   "source": []
  },
  {
   "cell_type": "code",
   "execution_count": 2,
   "id": "70cd6423-60b5-4022-a065-ca79c5c63522",
   "metadata": {},
   "outputs": [],
   "source": [
    "#load all datasets\n",
    "musicdata = pd.read_csv(\"data.csv\")\n",
    "econdata = pd.read_csv(\"index.csv\")\n",
    "undata= pd.read_csv(\"un.csv\")\n",
    "songdata=pd.read_csv(\"top10000song.csv\")\n",
    "us_gdp_data = pd.read_csv(\"GDP.csv\")\n",
    "us_entertainmentgdp_data = pd.read_csv(\"USPRFRMSPRTMSMNGSP.csv\")"
   ]
  },
  {
   "cell_type": "markdown",
   "id": "9c74a3ea-ccd2-4f5b-8d9f-a4474422d6f1",
   "metadata": {},
   "source": [
    "### Data Collection and Cleaning\n",
    "Summary:\n",
    "We begin to inspect the first 3 datasets by using .head() and .shape to ensure we have enough data. Then we check if there is any NaN value. If there is, we dropped the value. For the interest rate, since the raw data gives us each month's interest rate, we average the 12 months to a by-yearly scale. We then create a new dataset that contains the average interest rate of the year that matches the yearly scale of the music sentiments. \n",
    "\n",
    "After cleaning, we created a new dataframe that contains only data that we are interested in exploring the relationship such as danceability, valence, year, interest rate, and unemployment rate by using Inner Join on year (SQL). \n",
    "\n",
    "However, after running our analysis, we realized that there was a weak correlation and wanted another dataset to cross check. Thus, we used the top10000 songdata in the second part of this project after inspecting and analyzing the first 3 data sets with the spotify dataset of music sentiments. "
   ]
  },
  {
   "cell_type": "code",
   "execution_count": 3,
   "id": "803b3f3f-1333-4ba8-bede-f37f97e576b9",
   "metadata": {},
   "outputs": [
    {
     "name": "stdout",
     "output_type": "stream",
     "text": [
      "   acousticness                                   artists  danceability  \\\n",
      "0         0.995                       ['Carl Woitschach']         0.708   \n",
      "1         0.994  ['Robert Schumann', 'Vladimir Horowitz']         0.379   \n",
      "2         0.604                   ['Seweryn Goszczyński']         0.749   \n",
      "3         0.995                      ['Francisco Canaro']         0.781   \n",
      "4         0.990  ['Frédéric Chopin', 'Vladimir Horowitz']         0.210   \n",
      "\n",
      "   duration_ms  energy  explicit                      id  instrumentalness  \\\n",
      "0       158648  0.1950         0  6KbQ3uYMLKb5jDxLF7wYDD             0.563   \n",
      "1       282133  0.0135         0  6KuQTIu1KoTTkLXKrwlLPV             0.901   \n",
      "2       104300  0.2200         0  6L63VW0PibdM1HDSBoqnoM             0.000   \n",
      "3       180760  0.1300         0  6M94FkXd15sOAOQYRnWPN8             0.887   \n",
      "4       687733  0.2040         0  6N6tiFZ9vLTSOIxkj8qKrd             0.908   \n",
      "\n",
      "   key  liveness  loudness  mode  \\\n",
      "0   10    0.1510   -12.428     1   \n",
      "1    8    0.0763   -28.454     1   \n",
      "2    5    0.1190   -19.924     0   \n",
      "3    1    0.1110   -14.734     0   \n",
      "4   11    0.0980   -16.829     1   \n",
      "\n",
      "                                            name  popularity release_date  \\\n",
      "0                    Singende Bataillone 1. Teil           0         1928   \n",
      "1       Fantasiestücke, Op. 111: Più tosto lento           0         1928   \n",
      "2                 Chapter 1.18 - Zamek kaniowski           0         1928   \n",
      "3  Bebamos Juntos - Instrumental (Remasterizado)           0   1928-09-25   \n",
      "4    Polonaise-Fantaisie in A-Flat Major, Op. 61           1         1928   \n",
      "\n",
      "   speechiness    tempo  valence  year  \n",
      "0       0.0506  118.469   0.7790  1928  \n",
      "1       0.0462   83.972   0.0767  1928  \n",
      "2       0.9290  107.177   0.8800  1928  \n",
      "3       0.0926  108.003   0.7200  1928  \n",
      "4       0.0424   62.149   0.0693  1928  \n",
      "(169909, 19)\n"
     ]
    }
   ],
   "source": [
    "#understand the all musicdata we have in the dataset and check the shape to see if we have enough data\n",
    "print(musicdata.head())\n",
    "print(musicdata.shape)"
   ]
  },
  {
   "cell_type": "code",
   "execution_count": 4,
   "id": "b8be3e71-50a8-41cc-9751-d020e6d60617",
   "metadata": {},
   "outputs": [
    {
     "name": "stdout",
     "output_type": "stream",
     "text": [
      "Number of music valence:  169909\n",
      "Nan is present:  False\n"
     ]
    }
   ],
   "source": [
    "# checking to see if we have NaN values\n",
    "print(\"Number of music valence: \", len(musicdata['valence']))\n",
    "print(\"Nan is present: \",\\\n",
    "      np.isnan(musicdata['valence']).any())"
   ]
  },
  {
   "cell_type": "code",
   "execution_count": 5,
   "id": "aa0623ab-4a5c-4ee4-9916-5544a676e58c",
   "metadata": {},
   "outputs": [
    {
     "name": "stdout",
     "output_type": "stream",
     "text": [
      "Number of music danceability:  169909\n",
      "Nan is present:  False\n"
     ]
    }
   ],
   "source": [
    "# checking to see if we have NaN values\n",
    "print(\"Number of music danceability: \", len(musicdata['danceability']))\n",
    "print(\"Nan is present: \",\\\n",
    "      np.isnan(musicdata['danceability']).any())"
   ]
  },
  {
   "cell_type": "code",
   "execution_count": 6,
   "id": "c2b0eab1-ec75-4679-8bfd-d5c6d7d14170",
   "metadata": {},
   "outputs": [
    {
     "data": {
      "text/plain": [
       "array([  0,   1,   2,   3,   7,   6,   5,   4,   8,  14,  13,  11,  10,\n",
       "        12,   9,  15,  19,  17,  18,  16,  20,  24,  21,  23,  22,  25,\n",
       "        42,  28,  27,  37,  36,  35,  30,  26,  29,  44,  32,  33,  31,\n",
       "        41,  46,  34,  45,  40,  38,  39,  54,  48,  58,  52,  47,  43,\n",
       "        49,  51,  56,  55,  50,  57,  59,  66,  53,  61,  60,  62,  64,\n",
       "        65,  69,  72,  63,  70,  68,  67,  71,  74,  75,  78,  81,  77,\n",
       "        73,  80,  76,  79,  82,  83,  85,  84,  91,  92,  87,  86,  89,\n",
       "        95,  93,  88,  90,  94,  99,  96, 100,  97])"
      ]
     },
     "execution_count": 6,
     "metadata": {},
     "output_type": "execute_result"
    }
   ],
   "source": [
    "# confirm the scale of popularity\n",
    "musicdata['popularity'].unique()"
   ]
  },
  {
   "cell_type": "code",
   "execution_count": 7,
   "id": "d19a4ec4-a452-4d93-9ae7-43d9bac0de1c",
   "metadata": {},
   "outputs": [
    {
     "name": "stdout",
     "output_type": "stream",
     "text": [
      "31.55660971461194\n",
      "0    0\n",
      "Name: popularity, dtype: int64\n",
      "33.0\n"
     ]
    }
   ],
   "source": [
    "#check the mean, mode and median of songs' popularity\n",
    "print(musicdata['popularity'].mean())\n",
    "print(musicdata['popularity'].mode())\n",
    "print(musicdata['popularity'].median())"
   ]
  },
  {
   "cell_type": "code",
   "execution_count": 8,
   "id": "6848fd51-3afb-432d-8002-b733fc3c88cf",
   "metadata": {},
   "outputs": [],
   "source": [
    "# create a new music dataset that only contain songs with popularity more than 70"
   ]
  },
  {
   "cell_type": "code",
   "execution_count": 10,
   "id": "b2078e95-30c8-466e-a0cb-b9f25c8662a9",
   "metadata": {},
   "outputs": [
    {
     "data": {
      "text/html": [
       "<div>\n",
       "<style scoped>\n",
       "    .dataframe tbody tr th:only-of-type {\n",
       "        vertical-align: middle;\n",
       "    }\n",
       "\n",
       "    .dataframe tbody tr th {\n",
       "        vertical-align: top;\n",
       "    }\n",
       "\n",
       "    .dataframe thead th {\n",
       "        text-align: right;\n",
       "    }\n",
       "</style>\n",
       "<table border=\"1\" class=\"dataframe\">\n",
       "  <thead>\n",
       "    <tr style=\"text-align: right;\">\n",
       "      <th></th>\n",
       "      <th>danceability</th>\n",
       "      <th>valence</th>\n",
       "      <th>year</th>\n",
       "      <th>popularity</th>\n",
       "    </tr>\n",
       "  </thead>\n",
       "  <tbody>\n",
       "    <tr>\n",
       "      <th>0</th>\n",
       "      <td>0.704</td>\n",
       "      <td>0.636</td>\n",
       "      <td>2007</td>\n",
       "      <td>72</td>\n",
       "    </tr>\n",
       "    <tr>\n",
       "      <th>1</th>\n",
       "      <td>0.816</td>\n",
       "      <td>0.886</td>\n",
       "      <td>2012</td>\n",
       "      <td>70</td>\n",
       "    </tr>\n",
       "    <tr>\n",
       "      <th>2</th>\n",
       "      <td>0.394</td>\n",
       "      <td>0.441</td>\n",
       "      <td>2015</td>\n",
       "      <td>71</td>\n",
       "    </tr>\n",
       "    <tr>\n",
       "      <th>3</th>\n",
       "      <td>0.496</td>\n",
       "      <td>0.239</td>\n",
       "      <td>2015</td>\n",
       "      <td>70</td>\n",
       "    </tr>\n",
       "    <tr>\n",
       "      <th>4</th>\n",
       "      <td>0.663</td>\n",
       "      <td>0.678</td>\n",
       "      <td>2016</td>\n",
       "      <td>70</td>\n",
       "    </tr>\n",
       "    <tr>\n",
       "      <th>...</th>\n",
       "      <td>...</td>\n",
       "      <td>...</td>\n",
       "      <td>...</td>\n",
       "      <td>...</td>\n",
       "    </tr>\n",
       "    <tr>\n",
       "      <th>4536</th>\n",
       "      <td>0.636</td>\n",
       "      <td>0.506</td>\n",
       "      <td>2020</td>\n",
       "      <td>74</td>\n",
       "    </tr>\n",
       "    <tr>\n",
       "      <th>4537</th>\n",
       "      <td>0.618</td>\n",
       "      <td>0.359</td>\n",
       "      <td>2020</td>\n",
       "      <td>71</td>\n",
       "    </tr>\n",
       "    <tr>\n",
       "      <th>4538</th>\n",
       "      <td>0.875</td>\n",
       "      <td>0.306</td>\n",
       "      <td>2020</td>\n",
       "      <td>75</td>\n",
       "    </tr>\n",
       "    <tr>\n",
       "      <th>4539</th>\n",
       "      <td>0.514</td>\n",
       "      <td>0.153</td>\n",
       "      <td>2020</td>\n",
       "      <td>70</td>\n",
       "    </tr>\n",
       "    <tr>\n",
       "      <th>4540</th>\n",
       "      <td>0.646</td>\n",
       "      <td>0.472</td>\n",
       "      <td>2020</td>\n",
       "      <td>70</td>\n",
       "    </tr>\n",
       "  </tbody>\n",
       "</table>\n",
       "<p>4541 rows × 4 columns</p>\n",
       "</div>"
      ],
      "text/plain": [
       "      danceability  valence  year  popularity\n",
       "0            0.704    0.636  2007          72\n",
       "1            0.816    0.886  2012          70\n",
       "2            0.394    0.441  2015          71\n",
       "3            0.496    0.239  2015          70\n",
       "4            0.663    0.678  2016          70\n",
       "...            ...      ...   ...         ...\n",
       "4536         0.636    0.506  2020          74\n",
       "4537         0.618    0.359  2020          71\n",
       "4538         0.875    0.306  2020          75\n",
       "4539         0.514    0.153  2020          70\n",
       "4540         0.646    0.472  2020          70\n",
       "\n",
       "[4541 rows x 4 columns]"
      ]
     },
     "execution_count": 10,
     "metadata": {},
     "output_type": "execute_result"
    }
   ],
   "source": [
    "newmusicdata= duckdb.sql(\"SELECT danceability, valence, year, popularity FROM musicdata WHERE popularity>=70\").df()\n",
    "newmusicdata"
   ]
  },
  {
   "cell_type": "code",
   "execution_count": 11,
   "id": "cc3371b9-b46c-43e5-b4ae-2b1212bd2111",
   "metadata": {},
   "outputs": [
    {
     "data": {
      "text/html": [
       "<div>\n",
       "<style scoped>\n",
       "    .dataframe tbody tr th:only-of-type {\n",
       "        vertical-align: middle;\n",
       "    }\n",
       "\n",
       "    .dataframe tbody tr th {\n",
       "        vertical-align: top;\n",
       "    }\n",
       "\n",
       "    .dataframe thead th {\n",
       "        text-align: right;\n",
       "    }\n",
       "</style>\n",
       "<table border=\"1\" class=\"dataframe\">\n",
       "  <thead>\n",
       "    <tr style=\"text-align: right;\">\n",
       "      <th></th>\n",
       "      <th>count(\"Year\")</th>\n",
       "      <th>year</th>\n",
       "    </tr>\n",
       "  </thead>\n",
       "  <tbody>\n",
       "    <tr>\n",
       "      <th>0</th>\n",
       "      <td>45</td>\n",
       "      <td>2007</td>\n",
       "    </tr>\n",
       "    <tr>\n",
       "      <th>1</th>\n",
       "      <td>88</td>\n",
       "      <td>2012</td>\n",
       "    </tr>\n",
       "    <tr>\n",
       "      <th>2</th>\n",
       "      <td>159</td>\n",
       "      <td>2015</td>\n",
       "    </tr>\n",
       "    <tr>\n",
       "      <th>3</th>\n",
       "      <td>227</td>\n",
       "      <td>2016</td>\n",
       "    </tr>\n",
       "    <tr>\n",
       "      <th>4</th>\n",
       "      <td>410</td>\n",
       "      <td>2017</td>\n",
       "    </tr>\n",
       "    <tr>\n",
       "      <th>...</th>\n",
       "      <td>...</td>\n",
       "      <td>...</td>\n",
       "    </tr>\n",
       "    <tr>\n",
       "      <th>59</th>\n",
       "      <td>42</td>\n",
       "      <td>2009</td>\n",
       "    </tr>\n",
       "    <tr>\n",
       "      <th>60</th>\n",
       "      <td>59</td>\n",
       "      <td>2010</td>\n",
       "    </tr>\n",
       "    <tr>\n",
       "      <th>61</th>\n",
       "      <td>71</td>\n",
       "      <td>2011</td>\n",
       "    </tr>\n",
       "    <tr>\n",
       "      <th>62</th>\n",
       "      <td>101</td>\n",
       "      <td>2014</td>\n",
       "    </tr>\n",
       "    <tr>\n",
       "      <th>63</th>\n",
       "      <td>13</td>\n",
       "      <td>1989</td>\n",
       "    </tr>\n",
       "  </tbody>\n",
       "</table>\n",
       "<p>64 rows × 2 columns</p>\n",
       "</div>"
      ],
      "text/plain": [
       "    count(\"Year\")  year\n",
       "0              45  2007\n",
       "1              88  2012\n",
       "2             159  2015\n",
       "3             227  2016\n",
       "4             410  2017\n",
       "..            ...   ...\n",
       "59             42  2009\n",
       "60             59  2010\n",
       "61             71  2011\n",
       "62            101  2014\n",
       "63             13  1989\n",
       "\n",
       "[64 rows x 2 columns]"
      ]
     },
     "execution_count": 11,
     "metadata": {},
     "output_type": "execute_result"
    }
   ],
   "source": [
    "# count the number of songs available for each year\n",
    "songsinyear = duckdb.sql(\"SELECT COUNT(Year), Year FROM newmusicdata GROUP BY Year\").df()\n",
    "songsinyear"
   ]
  },
  {
   "cell_type": "markdown",
   "id": "86bb1d33-5447-4c6b-95f1-4a428276ee53",
   "metadata": {},
   "source": [
    "As we have uneven number of songs for each year, we need to find mean and median. Mode is not suitable in this case."
   ]
  },
  {
   "cell_type": "code",
   "execution_count": 12,
   "id": "f5660087-70aa-4010-ab3b-6b292183215c",
   "metadata": {},
   "outputs": [
    {
     "data": {
      "text/plain": [
       "Index(['avg_danceability', 'median_danceability', 'avg_valence',\n",
       "       'median_valence', 'year'],\n",
       "      dtype='object')"
      ]
     },
     "execution_count": 12,
     "metadata": {},
     "output_type": "execute_result"
    }
   ],
   "source": [
    "# look at the mean, median of danceability and valence for each year \n",
    "newmusicdata = duckdb.sql(\"SELECT AVG(danceability) AS avg_danceability, MEDIAN(danceability) AS median_danceability, \\\n",
    "        AVG(valence) AS avg_valence, MEDIAN(valence) AS median_valence, year FROM newmusicdata GROUP BY year\").df()\n",
    "newmusicdata.columns\n"
   ]
  },
  {
   "cell_type": "code",
   "execution_count": 13,
   "id": "7b750c3f-1cd1-43a9-b40e-fee59f1f865d",
   "metadata": {},
   "outputs": [
    {
     "name": "stdout",
     "output_type": "stream",
     "text": [
      "   Year  Month  Day  Federal Funds Target Rate  Federal Funds Upper Target  \\\n",
      "0  1954      7    1                        NaN                         NaN   \n",
      "1  1954      8    1                        NaN                         NaN   \n",
      "2  1954      9    1                        NaN                         NaN   \n",
      "3  1954     10    1                        NaN                         NaN   \n",
      "4  1954     11    1                        NaN                         NaN   \n",
      "\n",
      "   Federal Funds Lower Target  Effective Federal Funds Rate  \\\n",
      "0                         NaN                          0.80   \n",
      "1                         NaN                          1.22   \n",
      "2                         NaN                          1.06   \n",
      "3                         NaN                          0.85   \n",
      "4                         NaN                          0.83   \n",
      "\n",
      "   Real GDP (Percent Change)  Unemployment Rate  Inflation Rate  \n",
      "0                        4.6                5.8             NaN  \n",
      "1                        NaN                6.0             NaN  \n",
      "2                        NaN                6.1             NaN  \n",
      "3                        8.0                5.7             NaN  \n",
      "4                        NaN                5.3             NaN  \n",
      "(904, 10)\n"
     ]
    }
   ],
   "source": [
    "#understand the all econdata we have in the dataset and check the shape to see if we have enough data\n",
    "print(econdata.head())\n",
    "print(econdata.shape)"
   ]
  },
  {
   "cell_type": "code",
   "execution_count": 14,
   "id": "1c8cab37-2d1b-47f1-85a9-c958a3cafb1d",
   "metadata": {},
   "outputs": [
    {
     "name": "stdout",
     "output_type": "stream",
     "text": [
      "Number of rows in fed fund rate:  904\n",
      "Nan is present:  True\n"
     ]
    }
   ],
   "source": [
    "# checking to see if we have NaN values\n",
    "print(\"Number of rows in fed fund rate: \", len(econdata['Effective Federal Funds Rate']))\n",
    "print(\"Nan is present: \",\\\n",
    "      np.isnan(econdata['Effective Federal Funds Rate']).any())"
   ]
  },
  {
   "cell_type": "code",
   "execution_count": 15,
   "id": "b5f3cace-266c-48b2-a82a-2484e15fd589",
   "metadata": {},
   "outputs": [
    {
     "name": "stdout",
     "output_type": "stream",
     "text": [
      "False\n",
      "(752, 10)\n"
     ]
    }
   ],
   "source": [
    "#Nan vaue is found, drop it \n",
    "econdata.dropna(subset=['Effective Federal Funds Rate'], inplace=True)\n",
    "print(np.isnan(econdata['Effective Federal Funds Rate']).any())\n",
    "#check the shape to see if we have enough data\n",
    "print(econdata.shape)\n"
   ]
  },
  {
   "cell_type": "code",
   "execution_count": 16,
   "id": "573df2ca-ad32-4a7c-8f24-21e1f3887ad7",
   "metadata": {},
   "outputs": [
    {
     "name": "stdout",
     "output_type": "stream",
     "text": [
      "Index(['Year', 'Month', 'Day', 'Federal Funds Target Rate',\n",
      "       'Federal Funds Upper Target', 'Federal Funds Lower Target',\n",
      "       'Effective Federal Funds Rate', 'Real GDP (Percent Change)',\n",
      "       'Unemployment Rate', 'Inflation Rate'],\n",
      "      dtype='object')\n",
      "Index(['Year', 'Month', 'Day', 'Federal Funds Target Rate',\n",
      "       'Federal Funds Upper Target', 'Federal Funds Lower Target',\n",
      "       'fedfundrate', 'Real GDP (Percent Change)', 'Unemployment Rate',\n",
      "       'Inflation Rate'],\n",
      "      dtype='object')\n"
     ]
    }
   ],
   "source": [
    "#rename the Effective Federal Funds Rate col, easier without space for writing SQL later\n",
    "print(econdata.columns)\n",
    "econdata.rename(columns={\"Effective Federal Funds Rate\": \"fedfundrate\"}, inplace=True)\n",
    "print(econdata.columns)"
   ]
  },
  {
   "cell_type": "code",
   "execution_count": 17,
   "id": "21171b67-40dc-4cff-86c2-5c9608ddc9ce",
   "metadata": {},
   "outputs": [
    {
     "data": {
      "text/html": [
       "<div>\n",
       "<style scoped>\n",
       "    .dataframe tbody tr th:only-of-type {\n",
       "        vertical-align: middle;\n",
       "    }\n",
       "\n",
       "    .dataframe tbody tr th {\n",
       "        vertical-align: top;\n",
       "    }\n",
       "\n",
       "    .dataframe thead th {\n",
       "        text-align: right;\n",
       "    }\n",
       "</style>\n",
       "<table border=\"1\" class=\"dataframe\">\n",
       "  <thead>\n",
       "    <tr style=\"text-align: right;\">\n",
       "      <th></th>\n",
       "      <th>Year</th>\n",
       "      <th>fedfundrate</th>\n",
       "    </tr>\n",
       "  </thead>\n",
       "  <tbody>\n",
       "    <tr>\n",
       "      <th>0</th>\n",
       "      <td>1954</td>\n",
       "      <td>1.006667</td>\n",
       "    </tr>\n",
       "    <tr>\n",
       "      <th>1</th>\n",
       "      <td>1955</td>\n",
       "      <td>1.785000</td>\n",
       "    </tr>\n",
       "    <tr>\n",
       "      <th>2</th>\n",
       "      <td>1956</td>\n",
       "      <td>2.728333</td>\n",
       "    </tr>\n",
       "    <tr>\n",
       "      <th>3</th>\n",
       "      <td>1957</td>\n",
       "      <td>3.105000</td>\n",
       "    </tr>\n",
       "    <tr>\n",
       "      <th>4</th>\n",
       "      <td>1958</td>\n",
       "      <td>1.572500</td>\n",
       "    </tr>\n",
       "    <tr>\n",
       "      <th>...</th>\n",
       "      <td>...</td>\n",
       "      <td>...</td>\n",
       "    </tr>\n",
       "    <tr>\n",
       "      <th>59</th>\n",
       "      <td>2014</td>\n",
       "      <td>0.089167</td>\n",
       "    </tr>\n",
       "    <tr>\n",
       "      <th>60</th>\n",
       "      <td>2015</td>\n",
       "      <td>0.132500</td>\n",
       "    </tr>\n",
       "    <tr>\n",
       "      <th>61</th>\n",
       "      <td>2016</td>\n",
       "      <td>0.395000</td>\n",
       "    </tr>\n",
       "    <tr>\n",
       "      <th>62</th>\n",
       "      <td>2017</td>\n",
       "      <td>0.655000</td>\n",
       "    </tr>\n",
       "    <tr>\n",
       "      <th>63</th>\n",
       "      <td>1989</td>\n",
       "      <td>9.216667</td>\n",
       "    </tr>\n",
       "  </tbody>\n",
       "</table>\n",
       "<p>64 rows × 2 columns</p>\n",
       "</div>"
      ],
      "text/plain": [
       "    Year  fedfundrate\n",
       "0   1954     1.006667\n",
       "1   1955     1.785000\n",
       "2   1956     2.728333\n",
       "3   1957     3.105000\n",
       "4   1958     1.572500\n",
       "..   ...          ...\n",
       "59  2014     0.089167\n",
       "60  2015     0.132500\n",
       "61  2016     0.395000\n",
       "62  2017     0.655000\n",
       "63  1989     9.216667\n",
       "\n",
       "[64 rows x 2 columns]"
      ]
     },
     "execution_count": 17,
     "metadata": {},
     "output_type": "execute_result"
    }
   ],
   "source": [
    "# modify econdata to find avg feadfundrate for each year\n",
    "econdata = duckdb.sql(\"SELECT Year, AVG(fedfundrate) AS fedfundrate FROM econdata GROUP BY Year\").df()\n",
    "econdata"
   ]
  },
  {
   "cell_type": "code",
   "execution_count": 18,
   "id": "5e0367ed-657e-488b-bac2-8b33f62a6b1b",
   "metadata": {},
   "outputs": [
    {
     "name": "stdout",
     "output_type": "stream",
     "text": [
      "         DATE  UNRATE\n",
      "0  1948-01-01     3.4\n",
      "1  1948-02-01     3.8\n",
      "2  1948-03-01     4.0\n",
      "3  1948-04-01     3.9\n",
      "4  1948-05-01     3.5\n",
      "(921, 2)\n"
     ]
    }
   ],
   "source": [
    "#understand the all interestdata we have in the dataset and check the shape to see if we have enough data\n",
    "print(undata.head())\n",
    "print(undata.shape)"
   ]
  },
  {
   "cell_type": "code",
   "execution_count": 19,
   "id": "ff858cbd-7d49-4b60-9521-49a2a48556c6",
   "metadata": {},
   "outputs": [
    {
     "name": "stdout",
     "output_type": "stream",
     "text": [
      "Number of rows in UNRate:  921\n",
      "Nan is present:  False\n"
     ]
    }
   ],
   "source": [
    "# checking to see if we have NaN values\n",
    "print(\"Number of rows in UNRate: \", len(undata['UNRATE']))\n",
    "print(\"Nan is present: \",\\\n",
    "      np.isnan(undata['UNRATE']).any())"
   ]
  },
  {
   "cell_type": "code",
   "execution_count": 20,
   "id": "825ccede-8330-4b1d-bcd9-f80179d38543",
   "metadata": {},
   "outputs": [
    {
     "name": "stdout",
     "output_type": "stream",
     "text": [
      "object\n"
     ]
    },
    {
     "data": {
      "text/html": [
       "<div>\n",
       "<style scoped>\n",
       "    .dataframe tbody tr th:only-of-type {\n",
       "        vertical-align: middle;\n",
       "    }\n",
       "\n",
       "    .dataframe tbody tr th {\n",
       "        vertical-align: top;\n",
       "    }\n",
       "\n",
       "    .dataframe thead th {\n",
       "        text-align: right;\n",
       "    }\n",
       "</style>\n",
       "<table border=\"1\" class=\"dataframe\">\n",
       "  <thead>\n",
       "    <tr style=\"text-align: right;\">\n",
       "      <th></th>\n",
       "      <th>DATE</th>\n",
       "      <th>UNRATE</th>\n",
       "    </tr>\n",
       "  </thead>\n",
       "  <tbody>\n",
       "    <tr>\n",
       "      <th>0</th>\n",
       "      <td>1948-01-01</td>\n",
       "      <td>3.4</td>\n",
       "    </tr>\n",
       "    <tr>\n",
       "      <th>1</th>\n",
       "      <td>1948-02-01</td>\n",
       "      <td>3.8</td>\n",
       "    </tr>\n",
       "    <tr>\n",
       "      <th>2</th>\n",
       "      <td>1948-03-01</td>\n",
       "      <td>4.0</td>\n",
       "    </tr>\n",
       "    <tr>\n",
       "      <th>3</th>\n",
       "      <td>1948-04-01</td>\n",
       "      <td>3.9</td>\n",
       "    </tr>\n",
       "    <tr>\n",
       "      <th>4</th>\n",
       "      <td>1948-05-01</td>\n",
       "      <td>3.5</td>\n",
       "    </tr>\n",
       "    <tr>\n",
       "      <th>...</th>\n",
       "      <td>...</td>\n",
       "      <td>...</td>\n",
       "    </tr>\n",
       "    <tr>\n",
       "      <th>916</th>\n",
       "      <td>2024-05-01</td>\n",
       "      <td>4.0</td>\n",
       "    </tr>\n",
       "    <tr>\n",
       "      <th>917</th>\n",
       "      <td>2024-06-01</td>\n",
       "      <td>4.1</td>\n",
       "    </tr>\n",
       "    <tr>\n",
       "      <th>918</th>\n",
       "      <td>2024-07-01</td>\n",
       "      <td>4.3</td>\n",
       "    </tr>\n",
       "    <tr>\n",
       "      <th>919</th>\n",
       "      <td>2024-08-01</td>\n",
       "      <td>4.2</td>\n",
       "    </tr>\n",
       "    <tr>\n",
       "      <th>920</th>\n",
       "      <td>2024-09-01</td>\n",
       "      <td>4.1</td>\n",
       "    </tr>\n",
       "  </tbody>\n",
       "</table>\n",
       "<p>921 rows × 2 columns</p>\n",
       "</div>"
      ],
      "text/plain": [
       "          DATE  UNRATE\n",
       "0   1948-01-01     3.4\n",
       "1   1948-02-01     3.8\n",
       "2   1948-03-01     4.0\n",
       "3   1948-04-01     3.9\n",
       "4   1948-05-01     3.5\n",
       "..         ...     ...\n",
       "916 2024-05-01     4.0\n",
       "917 2024-06-01     4.1\n",
       "918 2024-07-01     4.3\n",
       "919 2024-08-01     4.2\n",
       "920 2024-09-01     4.1\n",
       "\n",
       "[921 rows x 2 columns]"
      ]
     },
     "execution_count": 20,
     "metadata": {},
     "output_type": "execute_result"
    }
   ],
   "source": [
    "# in order to merge the data, we need to convert the date format into datetime\n",
    "\n",
    "#check date type\n",
    "print(undata[\"DATE\"].dtype)\n",
    "# convert to datetime format\n",
    "undata['DATE']= pd.to_datetime(undata['DATE'], format='%Y-%m-%d', errors='coerce')\n",
    "undata"
   ]
  },
  {
   "cell_type": "markdown",
   "id": "7d9520d2-9629-491a-8883-f4b22f4b7429",
   "metadata": {},
   "source": [
    "Data manipulation: we average the interest rate and grouped by year to be the same scale as the spotify dataset. "
   ]
  },
  {
   "cell_type": "code",
   "execution_count": 21,
   "id": "cdc94b39-fcaf-4cbc-a2c4-e6891f701dbb",
   "metadata": {},
   "outputs": [
    {
     "data": {
      "text/html": [
       "<div>\n",
       "<style scoped>\n",
       "    .dataframe tbody tr th:only-of-type {\n",
       "        vertical-align: middle;\n",
       "    }\n",
       "\n",
       "    .dataframe tbody tr th {\n",
       "        vertical-align: top;\n",
       "    }\n",
       "\n",
       "    .dataframe thead th {\n",
       "        text-align: right;\n",
       "    }\n",
       "</style>\n",
       "<table border=\"1\" class=\"dataframe\">\n",
       "  <thead>\n",
       "    <tr style=\"text-align: right;\">\n",
       "      <th></th>\n",
       "      <th>Year</th>\n",
       "      <th>UnemploymentRate</th>\n",
       "    </tr>\n",
       "  </thead>\n",
       "  <tbody>\n",
       "    <tr>\n",
       "      <th>0</th>\n",
       "      <td>1948</td>\n",
       "      <td>3.750000</td>\n",
       "    </tr>\n",
       "    <tr>\n",
       "      <th>1</th>\n",
       "      <td>1949</td>\n",
       "      <td>6.050000</td>\n",
       "    </tr>\n",
       "    <tr>\n",
       "      <th>2</th>\n",
       "      <td>1950</td>\n",
       "      <td>5.208333</td>\n",
       "    </tr>\n",
       "    <tr>\n",
       "      <th>3</th>\n",
       "      <td>1951</td>\n",
       "      <td>3.283333</td>\n",
       "    </tr>\n",
       "    <tr>\n",
       "      <th>4</th>\n",
       "      <td>1952</td>\n",
       "      <td>3.025000</td>\n",
       "    </tr>\n",
       "    <tr>\n",
       "      <th>...</th>\n",
       "      <td>...</td>\n",
       "      <td>...</td>\n",
       "    </tr>\n",
       "    <tr>\n",
       "      <th>72</th>\n",
       "      <td>2021</td>\n",
       "      <td>5.350000</td>\n",
       "    </tr>\n",
       "    <tr>\n",
       "      <th>73</th>\n",
       "      <td>2022</td>\n",
       "      <td>3.633333</td>\n",
       "    </tr>\n",
       "    <tr>\n",
       "      <th>74</th>\n",
       "      <td>2023</td>\n",
       "      <td>3.625000</td>\n",
       "    </tr>\n",
       "    <tr>\n",
       "      <th>75</th>\n",
       "      <td>2024</td>\n",
       "      <td>4.000000</td>\n",
       "    </tr>\n",
       "    <tr>\n",
       "      <th>76</th>\n",
       "      <td>1989</td>\n",
       "      <td>5.258333</td>\n",
       "    </tr>\n",
       "  </tbody>\n",
       "</table>\n",
       "<p>77 rows × 2 columns</p>\n",
       "</div>"
      ],
      "text/plain": [
       "    Year  UnemploymentRate\n",
       "0   1948          3.750000\n",
       "1   1949          6.050000\n",
       "2   1950          5.208333\n",
       "3   1951          3.283333\n",
       "4   1952          3.025000\n",
       "..   ...               ...\n",
       "72  2021          5.350000\n",
       "73  2022          3.633333\n",
       "74  2023          3.625000\n",
       "75  2024          4.000000\n",
       "76  1989          5.258333\n",
       "\n",
       "[77 rows x 2 columns]"
      ]
     },
     "execution_count": 21,
     "metadata": {},
     "output_type": "execute_result"
    }
   ],
   "source": [
    "# modify undata to find avg unrate for each year\n",
    "newundata = duckdb.sql(\"SELECT year(DATE) AS Year, AVG(UNRATE) AS UnemploymentRate FROM undata GROUP BY year(DATE)\").df()\n",
    "newundata"
   ]
  },
  {
   "cell_type": "code",
   "execution_count": 22,
   "id": "28a5d5e8-89d8-4224-9921-4abd84441eb5",
   "metadata": {},
   "outputs": [
    {
     "name": "stdout",
     "output_type": "stream",
     "text": [
      "         DATE      GDP\n",
      "0  1947-01-01  243.164\n",
      "1  1947-04-01  245.968\n",
      "2  1947-07-01  249.585\n",
      "3  1947-10-01  259.745\n",
      "4  1948-01-01  265.742\n"
     ]
    },
    {
     "data": {
      "text/plain": [
       "(310, 2)"
      ]
     },
     "execution_count": 22,
     "metadata": {},
     "output_type": "execute_result"
    }
   ],
   "source": [
    "#understand the all usgdp data we have in the dataset and check the shape to see if we have enough data\n",
    "print(us_gdp_data.head())\n",
    "us_gdp_data.shape"
   ]
  },
  {
   "cell_type": "code",
   "execution_count": 23,
   "id": "3b04b5e6-65d4-4267-90bb-d92f7d2c012d",
   "metadata": {},
   "outputs": [
    {
     "data": {
      "text/html": [
       "<div>\n",
       "<style scoped>\n",
       "    .dataframe tbody tr th:only-of-type {\n",
       "        vertical-align: middle;\n",
       "    }\n",
       "\n",
       "    .dataframe tbody tr th {\n",
       "        vertical-align: top;\n",
       "    }\n",
       "\n",
       "    .dataframe thead th {\n",
       "        text-align: right;\n",
       "    }\n",
       "</style>\n",
       "<table border=\"1\" class=\"dataframe\">\n",
       "  <thead>\n",
       "    <tr style=\"text-align: right;\">\n",
       "      <th></th>\n",
       "      <th>DATE</th>\n",
       "      <th>US_GDP</th>\n",
       "    </tr>\n",
       "  </thead>\n",
       "  <tbody>\n",
       "    <tr>\n",
       "      <th>0</th>\n",
       "      <td>1947-01-01</td>\n",
       "      <td>243.164</td>\n",
       "    </tr>\n",
       "    <tr>\n",
       "      <th>1</th>\n",
       "      <td>1947-04-01</td>\n",
       "      <td>245.968</td>\n",
       "    </tr>\n",
       "    <tr>\n",
       "      <th>2</th>\n",
       "      <td>1947-07-01</td>\n",
       "      <td>249.585</td>\n",
       "    </tr>\n",
       "    <tr>\n",
       "      <th>3</th>\n",
       "      <td>1947-10-01</td>\n",
       "      <td>259.745</td>\n",
       "    </tr>\n",
       "    <tr>\n",
       "      <th>4</th>\n",
       "      <td>1948-01-01</td>\n",
       "      <td>265.742</td>\n",
       "    </tr>\n",
       "    <tr>\n",
       "      <th>...</th>\n",
       "      <td>...</td>\n",
       "      <td>...</td>\n",
       "    </tr>\n",
       "    <tr>\n",
       "      <th>305</th>\n",
       "      <td>2023-04-01</td>\n",
       "      <td>27453.815</td>\n",
       "    </tr>\n",
       "    <tr>\n",
       "      <th>306</th>\n",
       "      <td>2023-07-01</td>\n",
       "      <td>27967.697</td>\n",
       "    </tr>\n",
       "    <tr>\n",
       "      <th>307</th>\n",
       "      <td>2023-10-01</td>\n",
       "      <td>28296.967</td>\n",
       "    </tr>\n",
       "    <tr>\n",
       "      <th>308</th>\n",
       "      <td>2024-01-01</td>\n",
       "      <td>28624.069</td>\n",
       "    </tr>\n",
       "    <tr>\n",
       "      <th>309</th>\n",
       "      <td>2024-04-01</td>\n",
       "      <td>29016.714</td>\n",
       "    </tr>\n",
       "  </tbody>\n",
       "</table>\n",
       "<p>310 rows × 2 columns</p>\n",
       "</div>"
      ],
      "text/plain": [
       "           DATE     US_GDP\n",
       "0    1947-01-01    243.164\n",
       "1    1947-04-01    245.968\n",
       "2    1947-07-01    249.585\n",
       "3    1947-10-01    259.745\n",
       "4    1948-01-01    265.742\n",
       "..          ...        ...\n",
       "305  2023-04-01  27453.815\n",
       "306  2023-07-01  27967.697\n",
       "307  2023-10-01  28296.967\n",
       "308  2024-01-01  28624.069\n",
       "309  2024-04-01  29016.714\n",
       "\n",
       "[310 rows x 2 columns]"
      ]
     },
     "execution_count": 23,
     "metadata": {},
     "output_type": "execute_result"
    }
   ],
   "source": [
    "# rename entertainmentgdp col for easier reference\n",
    "us_gdp_data = us_gdp_data.rename(columns={\"GDP\": \"US_GDP\"})\n",
    "us_gdp_data"
   ]
  },
  {
   "cell_type": "code",
   "execution_count": 24,
   "id": "8b361920-03f9-4aeb-8280-87c7ad1c5f9c",
   "metadata": {},
   "outputs": [
    {
     "name": "stdout",
     "output_type": "stream",
     "text": [
      "         DATE  USPRFRMSPRTMSMNGSP\n",
      "0  1997-01-01             37156.0\n",
      "1  1998-01-01             40614.0\n",
      "2  1999-01-01             44509.0\n",
      "3  2000-01-01             49295.0\n",
      "4  2001-01-01             51812.0\n"
     ]
    },
    {
     "data": {
      "text/plain": [
       "(27, 2)"
      ]
     },
     "execution_count": 24,
     "metadata": {},
     "output_type": "execute_result"
    }
   ],
   "source": [
    "#understand the all us_entertainmentgdp data we have in the dataset and check the shape to see if we have enough data\n",
    "print(us_entertainmentgdp_data.head())\n",
    "us_entertainmentgdp_data.shape"
   ]
  },
  {
   "cell_type": "code",
   "execution_count": 25,
   "id": "7cccaa9e-d16c-4342-8347-6db370141e90",
   "metadata": {},
   "outputs": [
    {
     "data": {
      "text/html": [
       "<div>\n",
       "<style scoped>\n",
       "    .dataframe tbody tr th:only-of-type {\n",
       "        vertical-align: middle;\n",
       "    }\n",
       "\n",
       "    .dataframe tbody tr th {\n",
       "        vertical-align: top;\n",
       "    }\n",
       "\n",
       "    .dataframe thead th {\n",
       "        text-align: right;\n",
       "    }\n",
       "</style>\n",
       "<table border=\"1\" class=\"dataframe\">\n",
       "  <thead>\n",
       "    <tr style=\"text-align: right;\">\n",
       "      <th></th>\n",
       "      <th>DATE</th>\n",
       "      <th>Entertainment_GDP</th>\n",
       "    </tr>\n",
       "  </thead>\n",
       "  <tbody>\n",
       "    <tr>\n",
       "      <th>0</th>\n",
       "      <td>1997-01-01</td>\n",
       "      <td>37156.0</td>\n",
       "    </tr>\n",
       "    <tr>\n",
       "      <th>1</th>\n",
       "      <td>1998-01-01</td>\n",
       "      <td>40614.0</td>\n",
       "    </tr>\n",
       "    <tr>\n",
       "      <th>2</th>\n",
       "      <td>1999-01-01</td>\n",
       "      <td>44509.0</td>\n",
       "    </tr>\n",
       "    <tr>\n",
       "      <th>3</th>\n",
       "      <td>2000-01-01</td>\n",
       "      <td>49295.0</td>\n",
       "    </tr>\n",
       "    <tr>\n",
       "      <th>4</th>\n",
       "      <td>2001-01-01</td>\n",
       "      <td>51812.0</td>\n",
       "    </tr>\n",
       "    <tr>\n",
       "      <th>5</th>\n",
       "      <td>2002-01-01</td>\n",
       "      <td>56935.0</td>\n",
       "    </tr>\n",
       "    <tr>\n",
       "      <th>6</th>\n",
       "      <td>2003-01-01</td>\n",
       "      <td>61956.0</td>\n",
       "    </tr>\n",
       "    <tr>\n",
       "      <th>7</th>\n",
       "      <td>2004-01-01</td>\n",
       "      <td>65072.0</td>\n",
       "    </tr>\n",
       "    <tr>\n",
       "      <th>8</th>\n",
       "      <td>2005-01-01</td>\n",
       "      <td>67060.0</td>\n",
       "    </tr>\n",
       "    <tr>\n",
       "      <th>9</th>\n",
       "      <td>2006-01-01</td>\n",
       "      <td>73485.0</td>\n",
       "    </tr>\n",
       "    <tr>\n",
       "      <th>10</th>\n",
       "      <td>2007-01-01</td>\n",
       "      <td>75604.0</td>\n",
       "    </tr>\n",
       "    <tr>\n",
       "      <th>11</th>\n",
       "      <td>2008-01-01</td>\n",
       "      <td>81499.0</td>\n",
       "    </tr>\n",
       "    <tr>\n",
       "      <th>12</th>\n",
       "      <td>2009-01-01</td>\n",
       "      <td>84806.0</td>\n",
       "    </tr>\n",
       "    <tr>\n",
       "      <th>13</th>\n",
       "      <td>2010-01-01</td>\n",
       "      <td>87859.0</td>\n",
       "    </tr>\n",
       "    <tr>\n",
       "      <th>14</th>\n",
       "      <td>2011-01-01</td>\n",
       "      <td>93006.0</td>\n",
       "    </tr>\n",
       "    <tr>\n",
       "      <th>15</th>\n",
       "      <td>2012-01-01</td>\n",
       "      <td>101755.0</td>\n",
       "    </tr>\n",
       "    <tr>\n",
       "      <th>16</th>\n",
       "      <td>2013-01-01</td>\n",
       "      <td>104198.0</td>\n",
       "    </tr>\n",
       "    <tr>\n",
       "      <th>17</th>\n",
       "      <td>2014-01-01</td>\n",
       "      <td>111596.0</td>\n",
       "    </tr>\n",
       "    <tr>\n",
       "      <th>18</th>\n",
       "      <td>2015-01-01</td>\n",
       "      <td>111486.0</td>\n",
       "    </tr>\n",
       "    <tr>\n",
       "      <th>19</th>\n",
       "      <td>2016-01-01</td>\n",
       "      <td>120037.0</td>\n",
       "    </tr>\n",
       "    <tr>\n",
       "      <th>20</th>\n",
       "      <td>2017-01-01</td>\n",
       "      <td>126803.0</td>\n",
       "    </tr>\n",
       "    <tr>\n",
       "      <th>21</th>\n",
       "      <td>2018-01-01</td>\n",
       "      <td>135797.0</td>\n",
       "    </tr>\n",
       "    <tr>\n",
       "      <th>22</th>\n",
       "      <td>2019-01-01</td>\n",
       "      <td>140509.0</td>\n",
       "    </tr>\n",
       "    <tr>\n",
       "      <th>23</th>\n",
       "      <td>2020-01-01</td>\n",
       "      <td>100189.0</td>\n",
       "    </tr>\n",
       "    <tr>\n",
       "      <th>24</th>\n",
       "      <td>2021-01-01</td>\n",
       "      <td>118088.0</td>\n",
       "    </tr>\n",
       "    <tr>\n",
       "      <th>25</th>\n",
       "      <td>2022-01-01</td>\n",
       "      <td>149305.0</td>\n",
       "    </tr>\n",
       "    <tr>\n",
       "      <th>26</th>\n",
       "      <td>2023-01-01</td>\n",
       "      <td>171243.0</td>\n",
       "    </tr>\n",
       "  </tbody>\n",
       "</table>\n",
       "</div>"
      ],
      "text/plain": [
       "          DATE  Entertainment_GDP\n",
       "0   1997-01-01            37156.0\n",
       "1   1998-01-01            40614.0\n",
       "2   1999-01-01            44509.0\n",
       "3   2000-01-01            49295.0\n",
       "4   2001-01-01            51812.0\n",
       "5   2002-01-01            56935.0\n",
       "6   2003-01-01            61956.0\n",
       "7   2004-01-01            65072.0\n",
       "8   2005-01-01            67060.0\n",
       "9   2006-01-01            73485.0\n",
       "10  2007-01-01            75604.0\n",
       "11  2008-01-01            81499.0\n",
       "12  2009-01-01            84806.0\n",
       "13  2010-01-01            87859.0\n",
       "14  2011-01-01            93006.0\n",
       "15  2012-01-01           101755.0\n",
       "16  2013-01-01           104198.0\n",
       "17  2014-01-01           111596.0\n",
       "18  2015-01-01           111486.0\n",
       "19  2016-01-01           120037.0\n",
       "20  2017-01-01           126803.0\n",
       "21  2018-01-01           135797.0\n",
       "22  2019-01-01           140509.0\n",
       "23  2020-01-01           100189.0\n",
       "24  2021-01-01           118088.0\n",
       "25  2022-01-01           149305.0\n",
       "26  2023-01-01           171243.0"
      ]
     },
     "execution_count": 25,
     "metadata": {},
     "output_type": "execute_result"
    }
   ],
   "source": [
    "# rename entertainmentgdp col for easier reference\n",
    "us_entertainmentgdp_data = us_entertainmentgdp_data.rename(columns={\"USPRFRMSPRTMSMNGSP\": \"Entertainment_GDP\"})\n",
    "us_entertainmentgdp_data"
   ]
  },
  {
   "cell_type": "code",
   "execution_count": 26,
   "id": "ca69b5d0-fc3f-4527-856e-2d0537d7462f",
   "metadata": {},
   "outputs": [
    {
     "data": {
      "text/html": [
       "<div>\n",
       "<style scoped>\n",
       "    .dataframe tbody tr th:only-of-type {\n",
       "        vertical-align: middle;\n",
       "    }\n",
       "\n",
       "    .dataframe tbody tr th {\n",
       "        vertical-align: top;\n",
       "    }\n",
       "\n",
       "    .dataframe thead th {\n",
       "        text-align: right;\n",
       "    }\n",
       "</style>\n",
       "<table border=\"1\" class=\"dataframe\">\n",
       "  <thead>\n",
       "    <tr style=\"text-align: right;\">\n",
       "      <th></th>\n",
       "      <th>DATE</th>\n",
       "      <th>US_GDP</th>\n",
       "      <th>Entertainment_GDP</th>\n",
       "    </tr>\n",
       "  </thead>\n",
       "  <tbody>\n",
       "    <tr>\n",
       "      <th>0</th>\n",
       "      <td>1997-01-01</td>\n",
       "      <td>8362.655</td>\n",
       "      <td>37156.0</td>\n",
       "    </tr>\n",
       "    <tr>\n",
       "      <th>1</th>\n",
       "      <td>1998-01-01</td>\n",
       "      <td>8866.480</td>\n",
       "      <td>40614.0</td>\n",
       "    </tr>\n",
       "    <tr>\n",
       "      <th>2</th>\n",
       "      <td>1999-01-01</td>\n",
       "      <td>9411.682</td>\n",
       "      <td>44509.0</td>\n",
       "    </tr>\n",
       "    <tr>\n",
       "      <th>3</th>\n",
       "      <td>2000-01-01</td>\n",
       "      <td>10002.179</td>\n",
       "      <td>49295.0</td>\n",
       "    </tr>\n",
       "    <tr>\n",
       "      <th>4</th>\n",
       "      <td>2001-01-01</td>\n",
       "      <td>10470.231</td>\n",
       "      <td>51812.0</td>\n",
       "    </tr>\n",
       "    <tr>\n",
       "      <th>5</th>\n",
       "      <td>2002-01-01</td>\n",
       "      <td>10783.500</td>\n",
       "      <td>56935.0</td>\n",
       "    </tr>\n",
       "    <tr>\n",
       "      <th>6</th>\n",
       "      <td>2003-01-01</td>\n",
       "      <td>11174.129</td>\n",
       "      <td>61956.0</td>\n",
       "    </tr>\n",
       "    <tr>\n",
       "      <th>7</th>\n",
       "      <td>2004-01-01</td>\n",
       "      <td>11923.447</td>\n",
       "      <td>65072.0</td>\n",
       "    </tr>\n",
       "    <tr>\n",
       "      <th>8</th>\n",
       "      <td>2005-01-01</td>\n",
       "      <td>12767.286</td>\n",
       "      <td>67060.0</td>\n",
       "    </tr>\n",
       "    <tr>\n",
       "      <th>9</th>\n",
       "      <td>2006-01-01</td>\n",
       "      <td>13599.160</td>\n",
       "      <td>73485.0</td>\n",
       "    </tr>\n",
       "    <tr>\n",
       "      <th>10</th>\n",
       "      <td>2007-01-01</td>\n",
       "      <td>14215.651</td>\n",
       "      <td>75604.0</td>\n",
       "    </tr>\n",
       "    <tr>\n",
       "      <th>11</th>\n",
       "      <td>2008-01-01</td>\n",
       "      <td>14706.538</td>\n",
       "      <td>81499.0</td>\n",
       "    </tr>\n",
       "    <tr>\n",
       "      <th>12</th>\n",
       "      <td>2009-01-01</td>\n",
       "      <td>14430.902</td>\n",
       "      <td>84806.0</td>\n",
       "    </tr>\n",
       "    <tr>\n",
       "      <th>13</th>\n",
       "      <td>2010-01-01</td>\n",
       "      <td>14764.610</td>\n",
       "      <td>87859.0</td>\n",
       "    </tr>\n",
       "    <tr>\n",
       "      <th>14</th>\n",
       "      <td>2011-01-01</td>\n",
       "      <td>15351.448</td>\n",
       "      <td>93006.0</td>\n",
       "    </tr>\n",
       "    <tr>\n",
       "      <th>15</th>\n",
       "      <td>2012-01-01</td>\n",
       "      <td>16068.805</td>\n",
       "      <td>101755.0</td>\n",
       "    </tr>\n",
       "    <tr>\n",
       "      <th>16</th>\n",
       "      <td>2013-01-01</td>\n",
       "      <td>16648.189</td>\n",
       "      <td>104198.0</td>\n",
       "    </tr>\n",
       "    <tr>\n",
       "      <th>17</th>\n",
       "      <td>2014-01-01</td>\n",
       "      <td>17197.738</td>\n",
       "      <td>111596.0</td>\n",
       "    </tr>\n",
       "    <tr>\n",
       "      <th>18</th>\n",
       "      <td>2015-01-01</td>\n",
       "      <td>18063.529</td>\n",
       "      <td>111486.0</td>\n",
       "    </tr>\n",
       "    <tr>\n",
       "      <th>19</th>\n",
       "      <td>2016-01-01</td>\n",
       "      <td>18525.933</td>\n",
       "      <td>120037.0</td>\n",
       "    </tr>\n",
       "    <tr>\n",
       "      <th>20</th>\n",
       "      <td>2017-01-01</td>\n",
       "      <td>19280.084</td>\n",
       "      <td>126803.0</td>\n",
       "    </tr>\n",
       "    <tr>\n",
       "      <th>21</th>\n",
       "      <td>2018-01-01</td>\n",
       "      <td>20328.553</td>\n",
       "      <td>135797.0</td>\n",
       "    </tr>\n",
       "    <tr>\n",
       "      <th>22</th>\n",
       "      <td>2019-01-01</td>\n",
       "      <td>21111.600</td>\n",
       "      <td>140509.0</td>\n",
       "    </tr>\n",
       "    <tr>\n",
       "      <th>23</th>\n",
       "      <td>2020-01-01</td>\n",
       "      <td>21727.657</td>\n",
       "      <td>100189.0</td>\n",
       "    </tr>\n",
       "    <tr>\n",
       "      <th>24</th>\n",
       "      <td>2021-01-01</td>\n",
       "      <td>22656.793</td>\n",
       "      <td>118088.0</td>\n",
       "    </tr>\n",
       "    <tr>\n",
       "      <th>25</th>\n",
       "      <td>2022-01-01</td>\n",
       "      <td>25215.491</td>\n",
       "      <td>149305.0</td>\n",
       "    </tr>\n",
       "    <tr>\n",
       "      <th>26</th>\n",
       "      <td>2023-01-01</td>\n",
       "      <td>27164.359</td>\n",
       "      <td>171243.0</td>\n",
       "    </tr>\n",
       "  </tbody>\n",
       "</table>\n",
       "</div>"
      ],
      "text/plain": [
       "          DATE     US_GDP  Entertainment_GDP\n",
       "0   1997-01-01   8362.655            37156.0\n",
       "1   1998-01-01   8866.480            40614.0\n",
       "2   1999-01-01   9411.682            44509.0\n",
       "3   2000-01-01  10002.179            49295.0\n",
       "4   2001-01-01  10470.231            51812.0\n",
       "5   2002-01-01  10783.500            56935.0\n",
       "6   2003-01-01  11174.129            61956.0\n",
       "7   2004-01-01  11923.447            65072.0\n",
       "8   2005-01-01  12767.286            67060.0\n",
       "9   2006-01-01  13599.160            73485.0\n",
       "10  2007-01-01  14215.651            75604.0\n",
       "11  2008-01-01  14706.538            81499.0\n",
       "12  2009-01-01  14430.902            84806.0\n",
       "13  2010-01-01  14764.610            87859.0\n",
       "14  2011-01-01  15351.448            93006.0\n",
       "15  2012-01-01  16068.805           101755.0\n",
       "16  2013-01-01  16648.189           104198.0\n",
       "17  2014-01-01  17197.738           111596.0\n",
       "18  2015-01-01  18063.529           111486.0\n",
       "19  2016-01-01  18525.933           120037.0\n",
       "20  2017-01-01  19280.084           126803.0\n",
       "21  2018-01-01  20328.553           135797.0\n",
       "22  2019-01-01  21111.600           140509.0\n",
       "23  2020-01-01  21727.657           100189.0\n",
       "24  2021-01-01  22656.793           118088.0\n",
       "25  2022-01-01  25215.491           149305.0\n",
       "26  2023-01-01  27164.359           171243.0"
      ]
     },
     "execution_count": 26,
     "metadata": {},
     "output_type": "execute_result"
    }
   ],
   "source": [
    "# merge the 2 datasets tgt on date. (only interested in jan 1st since entertainmentgdp dataset only has jan 1st data\n",
    "gdp_entgdp_df = pd.merge(us_gdp_data, us_entertainmentgdp_data, how=\"inner\", on=\"DATE\")\n",
    "gdp_entgdp_df "
   ]
  },
  {
   "cell_type": "code",
   "execution_count": 27,
   "id": "b1c0db17-92e5-4125-9a4b-d9c237f06662",
   "metadata": {},
   "outputs": [
    {
     "name": "stdout",
     "output_type": "stream",
     "text": [
      "object\n"
     ]
    },
    {
     "data": {
      "text/html": [
       "<div>\n",
       "<style scoped>\n",
       "    .dataframe tbody tr th:only-of-type {\n",
       "        vertical-align: middle;\n",
       "    }\n",
       "\n",
       "    .dataframe tbody tr th {\n",
       "        vertical-align: top;\n",
       "    }\n",
       "\n",
       "    .dataframe thead th {\n",
       "        text-align: right;\n",
       "    }\n",
       "</style>\n",
       "<table border=\"1\" class=\"dataframe\">\n",
       "  <thead>\n",
       "    <tr style=\"text-align: right;\">\n",
       "      <th></th>\n",
       "      <th>DATE</th>\n",
       "      <th>US_GDP</th>\n",
       "      <th>Entertainment_GDP</th>\n",
       "    </tr>\n",
       "  </thead>\n",
       "  <tbody>\n",
       "    <tr>\n",
       "      <th>0</th>\n",
       "      <td>1997-01-01</td>\n",
       "      <td>8362.655</td>\n",
       "      <td>37156.0</td>\n",
       "    </tr>\n",
       "    <tr>\n",
       "      <th>1</th>\n",
       "      <td>1998-01-01</td>\n",
       "      <td>8866.480</td>\n",
       "      <td>40614.0</td>\n",
       "    </tr>\n",
       "    <tr>\n",
       "      <th>2</th>\n",
       "      <td>1999-01-01</td>\n",
       "      <td>9411.682</td>\n",
       "      <td>44509.0</td>\n",
       "    </tr>\n",
       "    <tr>\n",
       "      <th>3</th>\n",
       "      <td>2000-01-01</td>\n",
       "      <td>10002.179</td>\n",
       "      <td>49295.0</td>\n",
       "    </tr>\n",
       "    <tr>\n",
       "      <th>4</th>\n",
       "      <td>2001-01-01</td>\n",
       "      <td>10470.231</td>\n",
       "      <td>51812.0</td>\n",
       "    </tr>\n",
       "    <tr>\n",
       "      <th>5</th>\n",
       "      <td>2002-01-01</td>\n",
       "      <td>10783.500</td>\n",
       "      <td>56935.0</td>\n",
       "    </tr>\n",
       "    <tr>\n",
       "      <th>6</th>\n",
       "      <td>2003-01-01</td>\n",
       "      <td>11174.129</td>\n",
       "      <td>61956.0</td>\n",
       "    </tr>\n",
       "    <tr>\n",
       "      <th>7</th>\n",
       "      <td>2004-01-01</td>\n",
       "      <td>11923.447</td>\n",
       "      <td>65072.0</td>\n",
       "    </tr>\n",
       "    <tr>\n",
       "      <th>8</th>\n",
       "      <td>2005-01-01</td>\n",
       "      <td>12767.286</td>\n",
       "      <td>67060.0</td>\n",
       "    </tr>\n",
       "    <tr>\n",
       "      <th>9</th>\n",
       "      <td>2006-01-01</td>\n",
       "      <td>13599.160</td>\n",
       "      <td>73485.0</td>\n",
       "    </tr>\n",
       "    <tr>\n",
       "      <th>10</th>\n",
       "      <td>2007-01-01</td>\n",
       "      <td>14215.651</td>\n",
       "      <td>75604.0</td>\n",
       "    </tr>\n",
       "    <tr>\n",
       "      <th>11</th>\n",
       "      <td>2008-01-01</td>\n",
       "      <td>14706.538</td>\n",
       "      <td>81499.0</td>\n",
       "    </tr>\n",
       "    <tr>\n",
       "      <th>12</th>\n",
       "      <td>2009-01-01</td>\n",
       "      <td>14430.902</td>\n",
       "      <td>84806.0</td>\n",
       "    </tr>\n",
       "    <tr>\n",
       "      <th>13</th>\n",
       "      <td>2010-01-01</td>\n",
       "      <td>14764.610</td>\n",
       "      <td>87859.0</td>\n",
       "    </tr>\n",
       "    <tr>\n",
       "      <th>14</th>\n",
       "      <td>2011-01-01</td>\n",
       "      <td>15351.448</td>\n",
       "      <td>93006.0</td>\n",
       "    </tr>\n",
       "    <tr>\n",
       "      <th>15</th>\n",
       "      <td>2012-01-01</td>\n",
       "      <td>16068.805</td>\n",
       "      <td>101755.0</td>\n",
       "    </tr>\n",
       "    <tr>\n",
       "      <th>16</th>\n",
       "      <td>2013-01-01</td>\n",
       "      <td>16648.189</td>\n",
       "      <td>104198.0</td>\n",
       "    </tr>\n",
       "    <tr>\n",
       "      <th>17</th>\n",
       "      <td>2014-01-01</td>\n",
       "      <td>17197.738</td>\n",
       "      <td>111596.0</td>\n",
       "    </tr>\n",
       "    <tr>\n",
       "      <th>18</th>\n",
       "      <td>2015-01-01</td>\n",
       "      <td>18063.529</td>\n",
       "      <td>111486.0</td>\n",
       "    </tr>\n",
       "    <tr>\n",
       "      <th>19</th>\n",
       "      <td>2016-01-01</td>\n",
       "      <td>18525.933</td>\n",
       "      <td>120037.0</td>\n",
       "    </tr>\n",
       "    <tr>\n",
       "      <th>20</th>\n",
       "      <td>2017-01-01</td>\n",
       "      <td>19280.084</td>\n",
       "      <td>126803.0</td>\n",
       "    </tr>\n",
       "    <tr>\n",
       "      <th>21</th>\n",
       "      <td>2018-01-01</td>\n",
       "      <td>20328.553</td>\n",
       "      <td>135797.0</td>\n",
       "    </tr>\n",
       "    <tr>\n",
       "      <th>22</th>\n",
       "      <td>2019-01-01</td>\n",
       "      <td>21111.600</td>\n",
       "      <td>140509.0</td>\n",
       "    </tr>\n",
       "    <tr>\n",
       "      <th>23</th>\n",
       "      <td>2020-01-01</td>\n",
       "      <td>21727.657</td>\n",
       "      <td>100189.0</td>\n",
       "    </tr>\n",
       "    <tr>\n",
       "      <th>24</th>\n",
       "      <td>2021-01-01</td>\n",
       "      <td>22656.793</td>\n",
       "      <td>118088.0</td>\n",
       "    </tr>\n",
       "    <tr>\n",
       "      <th>25</th>\n",
       "      <td>2022-01-01</td>\n",
       "      <td>25215.491</td>\n",
       "      <td>149305.0</td>\n",
       "    </tr>\n",
       "    <tr>\n",
       "      <th>26</th>\n",
       "      <td>2023-01-01</td>\n",
       "      <td>27164.359</td>\n",
       "      <td>171243.0</td>\n",
       "    </tr>\n",
       "  </tbody>\n",
       "</table>\n",
       "</div>"
      ],
      "text/plain": [
       "         DATE     US_GDP  Entertainment_GDP\n",
       "0  1997-01-01   8362.655            37156.0\n",
       "1  1998-01-01   8866.480            40614.0\n",
       "2  1999-01-01   9411.682            44509.0\n",
       "3  2000-01-01  10002.179            49295.0\n",
       "4  2001-01-01  10470.231            51812.0\n",
       "5  2002-01-01  10783.500            56935.0\n",
       "6  2003-01-01  11174.129            61956.0\n",
       "7  2004-01-01  11923.447            65072.0\n",
       "8  2005-01-01  12767.286            67060.0\n",
       "9  2006-01-01  13599.160            73485.0\n",
       "10 2007-01-01  14215.651            75604.0\n",
       "11 2008-01-01  14706.538            81499.0\n",
       "12 2009-01-01  14430.902            84806.0\n",
       "13 2010-01-01  14764.610            87859.0\n",
       "14 2011-01-01  15351.448            93006.0\n",
       "15 2012-01-01  16068.805           101755.0\n",
       "16 2013-01-01  16648.189           104198.0\n",
       "17 2014-01-01  17197.738           111596.0\n",
       "18 2015-01-01  18063.529           111486.0\n",
       "19 2016-01-01  18525.933           120037.0\n",
       "20 2017-01-01  19280.084           126803.0\n",
       "21 2018-01-01  20328.553           135797.0\n",
       "22 2019-01-01  21111.600           140509.0\n",
       "23 2020-01-01  21727.657           100189.0\n",
       "24 2021-01-01  22656.793           118088.0\n",
       "25 2022-01-01  25215.491           149305.0\n",
       "26 2023-01-01  27164.359           171243.0"
      ]
     },
     "execution_count": 27,
     "metadata": {},
     "output_type": "execute_result"
    }
   ],
   "source": [
    "# in order to merge with other datasets, we need to convert the date format into datetime\n",
    "\n",
    "#check date type\n",
    "print(gdp_entgdp_df[\"DATE\"].dtype)\n",
    "# convert to datetime format\n",
    "gdp_entgdp_df['DATE']= pd.to_datetime(gdp_entgdp_df['DATE'], format='%Y-%m-%d', errors='coerce')\n",
    "gdp_entgdp_df"
   ]
  },
  {
   "cell_type": "code",
   "execution_count": 28,
   "id": "a223705f-b598-4ae9-bdba-3fcd4b0b5de0",
   "metadata": {},
   "outputs": [
    {
     "data": {
      "text/plain": [
       "Index(['Year', 'US_GDP', 'Entertainment_GDP'], dtype='object')"
      ]
     },
     "execution_count": 28,
     "metadata": {},
     "output_type": "execute_result"
    }
   ],
   "source": [
    "gdp_entgdp_df = duckdb.sql(\"SELECT year(DATE) AS Year, US_GDP, Entertainment_GDP FROM gdp_entgdp_df\").df()\n",
    "gdp_entgdp_df.columns"
   ]
  },
  {
   "cell_type": "code",
   "execution_count": 29,
   "id": "3b04a311-68e0-4d20-b3c0-786b50e32770",
   "metadata": {},
   "outputs": [
    {
     "data": {
      "text/html": [
       "<div>\n",
       "<style scoped>\n",
       "    .dataframe tbody tr th:only-of-type {\n",
       "        vertical-align: middle;\n",
       "    }\n",
       "\n",
       "    .dataframe tbody tr th {\n",
       "        vertical-align: top;\n",
       "    }\n",
       "\n",
       "    .dataframe thead th {\n",
       "        text-align: right;\n",
       "    }\n",
       "</style>\n",
       "<table border=\"1\" class=\"dataframe\">\n",
       "  <thead>\n",
       "    <tr style=\"text-align: right;\">\n",
       "      <th></th>\n",
       "      <th>avg_danceability</th>\n",
       "      <th>median_danceability</th>\n",
       "      <th>avg_valence</th>\n",
       "      <th>median_valence</th>\n",
       "      <th>year</th>\n",
       "      <th>fedfundrate</th>\n",
       "      <th>UnemploymentRate</th>\n",
       "      <th>US_GDP</th>\n",
       "      <th>Entertainment_GDP</th>\n",
       "    </tr>\n",
       "  </thead>\n",
       "  <tbody>\n",
       "    <tr>\n",
       "      <th>0</th>\n",
       "      <td>0.605903</td>\n",
       "      <td>0.6290</td>\n",
       "      <td>0.599555</td>\n",
       "      <td>0.6470</td>\n",
       "      <td>1997</td>\n",
       "      <td>5.460000</td>\n",
       "      <td>4.941667</td>\n",
       "      <td>8362.655</td>\n",
       "      <td>37156.0</td>\n",
       "    </tr>\n",
       "    <tr>\n",
       "      <th>1</th>\n",
       "      <td>0.573105</td>\n",
       "      <td>0.5910</td>\n",
       "      <td>0.603000</td>\n",
       "      <td>0.6090</td>\n",
       "      <td>1998</td>\n",
       "      <td>5.353333</td>\n",
       "      <td>4.500000</td>\n",
       "      <td>8866.480</td>\n",
       "      <td>40614.0</td>\n",
       "    </tr>\n",
       "    <tr>\n",
       "      <th>2</th>\n",
       "      <td>0.653811</td>\n",
       "      <td>0.6450</td>\n",
       "      <td>0.650081</td>\n",
       "      <td>0.6500</td>\n",
       "      <td>1999</td>\n",
       "      <td>4.970000</td>\n",
       "      <td>4.216667</td>\n",
       "      <td>9411.682</td>\n",
       "      <td>44509.0</td>\n",
       "    </tr>\n",
       "    <tr>\n",
       "      <th>3</th>\n",
       "      <td>0.638282</td>\n",
       "      <td>0.6100</td>\n",
       "      <td>0.601538</td>\n",
       "      <td>0.5650</td>\n",
       "      <td>2000</td>\n",
       "      <td>6.235833</td>\n",
       "      <td>3.966667</td>\n",
       "      <td>10002.179</td>\n",
       "      <td>49295.0</td>\n",
       "    </tr>\n",
       "    <tr>\n",
       "      <th>4</th>\n",
       "      <td>0.629919</td>\n",
       "      <td>0.6530</td>\n",
       "      <td>0.655865</td>\n",
       "      <td>0.6580</td>\n",
       "      <td>2001</td>\n",
       "      <td>3.887500</td>\n",
       "      <td>4.741667</td>\n",
       "      <td>10470.231</td>\n",
       "      <td>51812.0</td>\n",
       "    </tr>\n",
       "    <tr>\n",
       "      <th>5</th>\n",
       "      <td>0.636318</td>\n",
       "      <td>0.6160</td>\n",
       "      <td>0.539209</td>\n",
       "      <td>0.5725</td>\n",
       "      <td>2002</td>\n",
       "      <td>1.666667</td>\n",
       "      <td>5.783333</td>\n",
       "      <td>10783.500</td>\n",
       "      <td>56935.0</td>\n",
       "    </tr>\n",
       "    <tr>\n",
       "      <th>6</th>\n",
       "      <td>0.637778</td>\n",
       "      <td>0.6460</td>\n",
       "      <td>0.581456</td>\n",
       "      <td>0.6330</td>\n",
       "      <td>2003</td>\n",
       "      <td>1.127500</td>\n",
       "      <td>5.991667</td>\n",
       "      <td>11174.129</td>\n",
       "      <td>61956.0</td>\n",
       "    </tr>\n",
       "    <tr>\n",
       "      <th>7</th>\n",
       "      <td>0.601921</td>\n",
       "      <td>0.6420</td>\n",
       "      <td>0.529071</td>\n",
       "      <td>0.5235</td>\n",
       "      <td>2004</td>\n",
       "      <td>1.349167</td>\n",
       "      <td>5.541667</td>\n",
       "      <td>11923.447</td>\n",
       "      <td>65072.0</td>\n",
       "    </tr>\n",
       "    <tr>\n",
       "      <th>8</th>\n",
       "      <td>0.639549</td>\n",
       "      <td>0.6560</td>\n",
       "      <td>0.564043</td>\n",
       "      <td>0.5740</td>\n",
       "      <td>2005</td>\n",
       "      <td>3.213333</td>\n",
       "      <td>5.083333</td>\n",
       "      <td>12767.286</td>\n",
       "      <td>67060.0</td>\n",
       "    </tr>\n",
       "    <tr>\n",
       "      <th>9</th>\n",
       "      <td>0.627136</td>\n",
       "      <td>0.6065</td>\n",
       "      <td>0.573136</td>\n",
       "      <td>0.6055</td>\n",
       "      <td>2006</td>\n",
       "      <td>4.964167</td>\n",
       "      <td>4.608333</td>\n",
       "      <td>13599.160</td>\n",
       "      <td>73485.0</td>\n",
       "    </tr>\n",
       "    <tr>\n",
       "      <th>10</th>\n",
       "      <td>0.583578</td>\n",
       "      <td>0.6110</td>\n",
       "      <td>0.510022</td>\n",
       "      <td>0.5130</td>\n",
       "      <td>2007</td>\n",
       "      <td>5.019167</td>\n",
       "      <td>4.616667</td>\n",
       "      <td>14215.651</td>\n",
       "      <td>75604.0</td>\n",
       "    </tr>\n",
       "    <tr>\n",
       "      <th>11</th>\n",
       "      <td>0.633946</td>\n",
       "      <td>0.6335</td>\n",
       "      <td>0.529564</td>\n",
       "      <td>0.5270</td>\n",
       "      <td>2008</td>\n",
       "      <td>1.927500</td>\n",
       "      <td>5.800000</td>\n",
       "      <td>14706.538</td>\n",
       "      <td>81499.0</td>\n",
       "    </tr>\n",
       "    <tr>\n",
       "      <th>12</th>\n",
       "      <td>0.624548</td>\n",
       "      <td>0.6340</td>\n",
       "      <td>0.584024</td>\n",
       "      <td>0.6050</td>\n",
       "      <td>2009</td>\n",
       "      <td>0.160000</td>\n",
       "      <td>9.283333</td>\n",
       "      <td>14430.902</td>\n",
       "      <td>84806.0</td>\n",
       "    </tr>\n",
       "    <tr>\n",
       "      <th>13</th>\n",
       "      <td>0.657085</td>\n",
       "      <td>0.6880</td>\n",
       "      <td>0.528992</td>\n",
       "      <td>0.5770</td>\n",
       "      <td>2010</td>\n",
       "      <td>0.175000</td>\n",
       "      <td>9.608333</td>\n",
       "      <td>14764.610</td>\n",
       "      <td>87859.0</td>\n",
       "    </tr>\n",
       "    <tr>\n",
       "      <th>14</th>\n",
       "      <td>0.629817</td>\n",
       "      <td>0.6420</td>\n",
       "      <td>0.515942</td>\n",
       "      <td>0.5310</td>\n",
       "      <td>2011</td>\n",
       "      <td>0.101667</td>\n",
       "      <td>8.933333</td>\n",
       "      <td>15351.448</td>\n",
       "      <td>93006.0</td>\n",
       "    </tr>\n",
       "    <tr>\n",
       "      <th>15</th>\n",
       "      <td>0.629822</td>\n",
       "      <td>0.6450</td>\n",
       "      <td>0.557252</td>\n",
       "      <td>0.5680</td>\n",
       "      <td>2012</td>\n",
       "      <td>0.140000</td>\n",
       "      <td>8.075000</td>\n",
       "      <td>16068.805</td>\n",
       "      <td>101755.0</td>\n",
       "    </tr>\n",
       "    <tr>\n",
       "      <th>16</th>\n",
       "      <td>0.610241</td>\n",
       "      <td>0.6120</td>\n",
       "      <td>0.493772</td>\n",
       "      <td>0.5010</td>\n",
       "      <td>2013</td>\n",
       "      <td>0.107500</td>\n",
       "      <td>7.358333</td>\n",
       "      <td>16648.189</td>\n",
       "      <td>104198.0</td>\n",
       "    </tr>\n",
       "    <tr>\n",
       "      <th>17</th>\n",
       "      <td>0.641802</td>\n",
       "      <td>0.6720</td>\n",
       "      <td>0.492418</td>\n",
       "      <td>0.4930</td>\n",
       "      <td>2014</td>\n",
       "      <td>0.089167</td>\n",
       "      <td>6.158333</td>\n",
       "      <td>17197.738</td>\n",
       "      <td>111596.0</td>\n",
       "    </tr>\n",
       "    <tr>\n",
       "      <th>18</th>\n",
       "      <td>0.621937</td>\n",
       "      <td>0.6400</td>\n",
       "      <td>0.430866</td>\n",
       "      <td>0.4000</td>\n",
       "      <td>2015</td>\n",
       "      <td>0.132500</td>\n",
       "      <td>5.275000</td>\n",
       "      <td>18063.529</td>\n",
       "      <td>111486.0</td>\n",
       "    </tr>\n",
       "    <tr>\n",
       "      <th>19</th>\n",
       "      <td>0.643295</td>\n",
       "      <td>0.6490</td>\n",
       "      <td>0.450888</td>\n",
       "      <td>0.4380</td>\n",
       "      <td>2016</td>\n",
       "      <td>0.395000</td>\n",
       "      <td>4.875000</td>\n",
       "      <td>18525.933</td>\n",
       "      <td>120037.0</td>\n",
       "    </tr>\n",
       "    <tr>\n",
       "      <th>20</th>\n",
       "      <td>0.645746</td>\n",
       "      <td>0.6735</td>\n",
       "      <td>0.450092</td>\n",
       "      <td>0.4365</td>\n",
       "      <td>2017</td>\n",
       "      <td>0.655000</td>\n",
       "      <td>4.358333</td>\n",
       "      <td>19280.084</td>\n",
       "      <td>126803.0</td>\n",
       "    </tr>\n",
       "  </tbody>\n",
       "</table>\n",
       "</div>"
      ],
      "text/plain": [
       "    avg_danceability  median_danceability  avg_valence  median_valence  year  \\\n",
       "0           0.605903               0.6290     0.599555          0.6470  1997   \n",
       "1           0.573105               0.5910     0.603000          0.6090  1998   \n",
       "2           0.653811               0.6450     0.650081          0.6500  1999   \n",
       "3           0.638282               0.6100     0.601538          0.5650  2000   \n",
       "4           0.629919               0.6530     0.655865          0.6580  2001   \n",
       "5           0.636318               0.6160     0.539209          0.5725  2002   \n",
       "6           0.637778               0.6460     0.581456          0.6330  2003   \n",
       "7           0.601921               0.6420     0.529071          0.5235  2004   \n",
       "8           0.639549               0.6560     0.564043          0.5740  2005   \n",
       "9           0.627136               0.6065     0.573136          0.6055  2006   \n",
       "10          0.583578               0.6110     0.510022          0.5130  2007   \n",
       "11          0.633946               0.6335     0.529564          0.5270  2008   \n",
       "12          0.624548               0.6340     0.584024          0.6050  2009   \n",
       "13          0.657085               0.6880     0.528992          0.5770  2010   \n",
       "14          0.629817               0.6420     0.515942          0.5310  2011   \n",
       "15          0.629822               0.6450     0.557252          0.5680  2012   \n",
       "16          0.610241               0.6120     0.493772          0.5010  2013   \n",
       "17          0.641802               0.6720     0.492418          0.4930  2014   \n",
       "18          0.621937               0.6400     0.430866          0.4000  2015   \n",
       "19          0.643295               0.6490     0.450888          0.4380  2016   \n",
       "20          0.645746               0.6735     0.450092          0.4365  2017   \n",
       "\n",
       "    fedfundrate  UnemploymentRate     US_GDP  Entertainment_GDP  \n",
       "0      5.460000          4.941667   8362.655            37156.0  \n",
       "1      5.353333          4.500000   8866.480            40614.0  \n",
       "2      4.970000          4.216667   9411.682            44509.0  \n",
       "3      6.235833          3.966667  10002.179            49295.0  \n",
       "4      3.887500          4.741667  10470.231            51812.0  \n",
       "5      1.666667          5.783333  10783.500            56935.0  \n",
       "6      1.127500          5.991667  11174.129            61956.0  \n",
       "7      1.349167          5.541667  11923.447            65072.0  \n",
       "8      3.213333          5.083333  12767.286            67060.0  \n",
       "9      4.964167          4.608333  13599.160            73485.0  \n",
       "10     5.019167          4.616667  14215.651            75604.0  \n",
       "11     1.927500          5.800000  14706.538            81499.0  \n",
       "12     0.160000          9.283333  14430.902            84806.0  \n",
       "13     0.175000          9.608333  14764.610            87859.0  \n",
       "14     0.101667          8.933333  15351.448            93006.0  \n",
       "15     0.140000          8.075000  16068.805           101755.0  \n",
       "16     0.107500          7.358333  16648.189           104198.0  \n",
       "17     0.089167          6.158333  17197.738           111596.0  \n",
       "18     0.132500          5.275000  18063.529           111486.0  \n",
       "19     0.395000          4.875000  18525.933           120037.0  \n",
       "20     0.655000          4.358333  19280.084           126803.0  "
      ]
     },
     "execution_count": 29,
     "metadata": {},
     "output_type": "execute_result"
    }
   ],
   "source": [
    "# use sql to get a data frame with danceabilty, valence, interest rate and unemployment\n",
    "cleandata= duckdb.sql(\"SELECT avg_danceability, median_danceability,\\\n",
    "            avg_valence, median_valence, newmusicdata.year, fedfundrate FROM\\\n",
    "            newmusicdata INNER JOIN econdata ON \\\n",
    "            newmusicdata.year = econdata.Year\").df()\n",
    "cleandata= duckdb.sql(\"SELECT avg_danceability, median_danceability, \\\n",
    "            avg_valence, median_valence, cleandata.year, \\\n",
    "            fedfundrate, UnemploymentRate FROM cleandata INNER JOIN newundata\\\n",
    "            ON cleandata.year = newundata.Year\").df()\n",
    "cleandata= duckdb.sql(\"SELECT avg_danceability, median_danceability, \\\n",
    "        avg_valence, median_valence, cleandata.year, \\\n",
    "        fedfundrate, UnemploymentRate, US_GDP, Entertainment_GDP FROM cleandata INNER JOIN gdp_entgdp_df\\\n",
    "        ON cleandata.year = gdp_entgdp_df.Year\").df()\n",
    "cleandata"
   ]
  },
  {
   "cell_type": "markdown",
   "id": "903536bf-b7e4-4179-9558-8113e1630454",
   "metadata": {},
   "source": [
    "### Data visualization and analysis\n"
   ]
  },
  {
   "cell_type": "code",
   "execution_count": 30,
   "id": "7197edb4-8aa5-4def-be31-64641e1dfff3",
   "metadata": {},
   "outputs": [
    {
     "data": {
      "text/html": [
       "<div>\n",
       "<style scoped>\n",
       "    .dataframe tbody tr th:only-of-type {\n",
       "        vertical-align: middle;\n",
       "    }\n",
       "\n",
       "    .dataframe tbody tr th {\n",
       "        vertical-align: top;\n",
       "    }\n",
       "\n",
       "    .dataframe thead th {\n",
       "        text-align: right;\n",
       "    }\n",
       "</style>\n",
       "<table border=\"1\" class=\"dataframe\">\n",
       "  <thead>\n",
       "    <tr style=\"text-align: right;\">\n",
       "      <th></th>\n",
       "      <th>avg_danceability</th>\n",
       "      <th>median_danceability</th>\n",
       "      <th>avg_valence</th>\n",
       "      <th>median_valence</th>\n",
       "      <th>year</th>\n",
       "      <th>fedfundrate</th>\n",
       "      <th>UnemploymentRate</th>\n",
       "      <th>US_GDP</th>\n",
       "      <th>Entertainment_GDP</th>\n",
       "    </tr>\n",
       "  </thead>\n",
       "  <tbody>\n",
       "    <tr>\n",
       "      <th>avg_danceability</th>\n",
       "      <td>1.000000</td>\n",
       "      <td>0.682317</td>\n",
       "      <td>-0.052325</td>\n",
       "      <td>-0.034308</td>\n",
       "      <td>0.285477</td>\n",
       "      <td>-0.343103</td>\n",
       "      <td>0.179900</td>\n",
       "      <td>0.264323</td>\n",
       "      <td>0.292223</td>\n",
       "    </tr>\n",
       "    <tr>\n",
       "      <th>median_danceability</th>\n",
       "      <td>0.682317</td>\n",
       "      <td>1.000000</td>\n",
       "      <td>-0.255535</td>\n",
       "      <td>-0.195979</td>\n",
       "      <td>0.453319</td>\n",
       "      <td>-0.549500</td>\n",
       "      <td>0.315289</td>\n",
       "      <td>0.423907</td>\n",
       "      <td>0.455095</td>\n",
       "    </tr>\n",
       "    <tr>\n",
       "      <th>avg_valence</th>\n",
       "      <td>-0.052325</td>\n",
       "      <td>-0.255535</td>\n",
       "      <td>1.000000</td>\n",
       "      <td>0.950564</td>\n",
       "      <td>-0.852670</td>\n",
       "      <td>0.648715</td>\n",
       "      <td>-0.143470</td>\n",
       "      <td>-0.860870</td>\n",
       "      <td>-0.852439</td>\n",
       "    </tr>\n",
       "    <tr>\n",
       "      <th>median_valence</th>\n",
       "      <td>-0.034308</td>\n",
       "      <td>-0.195979</td>\n",
       "      <td>0.950564</td>\n",
       "      <td>1.000000</td>\n",
       "      <td>-0.815863</td>\n",
       "      <td>0.537144</td>\n",
       "      <td>0.016127</td>\n",
       "      <td>-0.834427</td>\n",
       "      <td>-0.820627</td>\n",
       "    </tr>\n",
       "    <tr>\n",
       "      <th>year</th>\n",
       "      <td>0.285477</td>\n",
       "      <td>0.453319</td>\n",
       "      <td>-0.852670</td>\n",
       "      <td>-0.815863</td>\n",
       "      <td>1.000000</td>\n",
       "      <td>-0.790895</td>\n",
       "      <td>0.381572</td>\n",
       "      <td>0.995889</td>\n",
       "      <td>0.996710</td>\n",
       "    </tr>\n",
       "    <tr>\n",
       "      <th>fedfundrate</th>\n",
       "      <td>-0.343103</td>\n",
       "      <td>-0.549500</td>\n",
       "      <td>0.648715</td>\n",
       "      <td>0.537144</td>\n",
       "      <td>-0.790895</td>\n",
       "      <td>1.000000</td>\n",
       "      <td>-0.677569</td>\n",
       "      <td>-0.743498</td>\n",
       "      <td>-0.780760</td>\n",
       "    </tr>\n",
       "    <tr>\n",
       "      <th>UnemploymentRate</th>\n",
       "      <td>0.179900</td>\n",
       "      <td>0.315289</td>\n",
       "      <td>-0.143470</td>\n",
       "      <td>0.016127</td>\n",
       "      <td>0.381572</td>\n",
       "      <td>-0.677569</td>\n",
       "      <td>1.000000</td>\n",
       "      <td>0.317123</td>\n",
       "      <td>0.341436</td>\n",
       "    </tr>\n",
       "    <tr>\n",
       "      <th>US_GDP</th>\n",
       "      <td>0.264323</td>\n",
       "      <td>0.423907</td>\n",
       "      <td>-0.860870</td>\n",
       "      <td>-0.834427</td>\n",
       "      <td>0.995889</td>\n",
       "      <td>-0.743498</td>\n",
       "      <td>0.317123</td>\n",
       "      <td>1.000000</td>\n",
       "      <td>0.993216</td>\n",
       "    </tr>\n",
       "    <tr>\n",
       "      <th>Entertainment_GDP</th>\n",
       "      <td>0.292223</td>\n",
       "      <td>0.455095</td>\n",
       "      <td>-0.852439</td>\n",
       "      <td>-0.820627</td>\n",
       "      <td>0.996710</td>\n",
       "      <td>-0.780760</td>\n",
       "      <td>0.341436</td>\n",
       "      <td>0.993216</td>\n",
       "      <td>1.000000</td>\n",
       "    </tr>\n",
       "  </tbody>\n",
       "</table>\n",
       "</div>"
      ],
      "text/plain": [
       "                     avg_danceability  median_danceability  avg_valence  \\\n",
       "avg_danceability             1.000000             0.682317    -0.052325   \n",
       "median_danceability          0.682317             1.000000    -0.255535   \n",
       "avg_valence                 -0.052325            -0.255535     1.000000   \n",
       "median_valence              -0.034308            -0.195979     0.950564   \n",
       "year                         0.285477             0.453319    -0.852670   \n",
       "fedfundrate                 -0.343103            -0.549500     0.648715   \n",
       "UnemploymentRate             0.179900             0.315289    -0.143470   \n",
       "US_GDP                       0.264323             0.423907    -0.860870   \n",
       "Entertainment_GDP            0.292223             0.455095    -0.852439   \n",
       "\n",
       "                     median_valence      year  fedfundrate  UnemploymentRate  \\\n",
       "avg_danceability          -0.034308  0.285477    -0.343103          0.179900   \n",
       "median_danceability       -0.195979  0.453319    -0.549500          0.315289   \n",
       "avg_valence                0.950564 -0.852670     0.648715         -0.143470   \n",
       "median_valence             1.000000 -0.815863     0.537144          0.016127   \n",
       "year                      -0.815863  1.000000    -0.790895          0.381572   \n",
       "fedfundrate                0.537144 -0.790895     1.000000         -0.677569   \n",
       "UnemploymentRate           0.016127  0.381572    -0.677569          1.000000   \n",
       "US_GDP                    -0.834427  0.995889    -0.743498          0.317123   \n",
       "Entertainment_GDP         -0.820627  0.996710    -0.780760          0.341436   \n",
       "\n",
       "                       US_GDP  Entertainment_GDP  \n",
       "avg_danceability     0.264323           0.292223  \n",
       "median_danceability  0.423907           0.455095  \n",
       "avg_valence         -0.860870          -0.852439  \n",
       "median_valence      -0.834427          -0.820627  \n",
       "year                 0.995889           0.996710  \n",
       "fedfundrate         -0.743498          -0.780760  \n",
       "UnemploymentRate     0.317123           0.341436  \n",
       "US_GDP               1.000000           0.993216  \n",
       "Entertainment_GDP    0.993216           1.000000  "
      ]
     },
     "execution_count": 30,
     "metadata": {},
     "output_type": "execute_result"
    }
   ],
   "source": [
    "# inspect the correlation\n",
    "cleandata.corr()"
   ]
  },
  {
   "cell_type": "markdown",
   "id": "94197fa5-d1c9-4b68-8f5c-9b42bbe97f25",
   "metadata": {},
   "source": [
    "Danceability and valence has a highest correlation as what we expected. However, danceability has a weak +ve correlation with Unemployment rate (0.04) and a weak -ve correlation (-0.02) with fedfundrate. In addition, valence has an even lower +ve correlation with Unemployment rate (0.007)and Interest Rate (0.1). \n"
   ]
  },
  {
   "cell_type": "markdown",
   "id": "87ab6bb8-4ccf-4b7b-b3cc-4a4ed70aeaec",
   "metadata": {},
   "source": [
    "Visualize the highest correlation in the table between US and US Entertainment GDP."
   ]
  },
  {
   "cell_type": "code",
   "execution_count": 31,
   "id": "4c2e5f94-d6c4-47eb-9c70-ee6df9d430bb",
   "metadata": {},
   "outputs": [
    {
     "data": {
      "text/plain": [
       "<Axes: xlabel='US_GDP', ylabel='Entertainment_GDP'>"
      ]
     },
     "execution_count": 31,
     "metadata": {},
     "output_type": "execute_result"
    },
    {
     "data": {
      "image/png": "[encoded data removed]",
      "text/plain": [
       "<Figure size 640x480 with 1 Axes>"
      ]
     },
     "metadata": {},
     "output_type": "display_data"
    }
   ],
   "source": [
    "sns.scatterplot(data=cleandata, x=\"US_GDP\", y=\"Entertainment_GDP\")"
   ]
  },
  {
   "cell_type": "code",
   "execution_count": 32,
   "id": "9a166be7-d4d6-4a0c-a5f6-422500212bd4",
   "metadata": {},
   "outputs": [
    {
     "data": {
      "text/plain": [
       "<Axes: xlabel='year', ylabel='avg_valence'>"
      ]
     },
     "execution_count": 32,
     "metadata": {},
     "output_type": "execute_result"
    },
    {
     "data": {
      "image/png": "[encoded data removed]",
      "text/plain": [
       "<Figure size 640x480 with 2 Axes>"
      ]
     },
     "metadata": {},
     "output_type": "display_data"
    }
   ],
   "source": [
    "# visualize time series of valence and danceability across the years\n",
    "fig, ax1 = plt.subplots()\n",
    "sns.lineplot(x='year', y='avg_danceability', data=cleandata, ax=ax1, color='blue', label='avg_danceability')\n",
    "ax2 = ax1.twinx()\n",
    "sns.lineplot(x='year', y='avg_valence', data=cleandata, ax=ax2, color='red', label='avg_valence')"
   ]
  },
  {
   "cell_type": "markdown",
   "id": "54a95476-0153-4b90-8a13-d759f7379266",
   "metadata": {},
   "source": [
    "From the graph, we can see that the overall trend between danceability and valence is mostly similar, except for the period from 2010 onwards, where danceability increases while valence decreases. Note that both danceability and valence are the average of that year as we have multiple songs in a year from the dataset. "
   ]
  },
  {
   "cell_type": "code",
   "execution_count": 33,
   "id": "d95f7c83-5985-4481-9171-102ea504e9d6",
   "metadata": {},
   "outputs": [
    {
     "data": {
      "text/plain": [
       "<Axes: xlabel='year', ylabel='avg_valence'>"
      ]
     },
     "execution_count": 33,
     "metadata": {},
     "output_type": "execute_result"
    },
    {
     "data": {
      "image/png": "[encoded data removed]",
      "text/plain": [
       "<Figure size 640x480 with 2 Axes>"
      ]
     },
     "metadata": {},
     "output_type": "display_data"
    }
   ],
   "source": [
    "# visualize time series of valence and fedfundrate across the years\n",
    "fig, ax1 = plt.subplots()\n",
    "sns.lineplot(x='year', y='fedfundrate', data=cleandata, ax=ax1, color='blue', label='fedfundrate')\n",
    "ax2 = ax1.twinx()\n",
    "sns.lineplot(x='year', y='avg_valence', data=cleandata, ax=ax2, color='red', label='avg_valence')"
   ]
  },
  {
   "cell_type": "code",
   "execution_count": 34,
   "id": "7efdf034-2ab5-41f9-bf50-48836b3e7ab0",
   "metadata": {},
   "outputs": [
    {
     "data": {
      "text/plain": [
       "<Axes: xlabel='year', ylabel='avg_danceability'>"
      ]
     },
     "execution_count": 34,
     "metadata": {},
     "output_type": "execute_result"
    },
    {
     "data": {
      "image/png": "[encoded data removed]",
      "text/plain": [
       "<Figure size 640x480 with 2 Axes>"
      ]
     },
     "metadata": {},
     "output_type": "display_data"
    }
   ],
   "source": [
    "# visualize time series of danceability and fedfundrate across the years\n",
    "fig, ax1 = plt.subplots()\n",
    "sns.lineplot(x='year', y='fedfundrate', data=cleandata, ax=ax1, color='blue', label='fedfundrate')\n",
    "ax2 = ax1.twinx()\n",
    "sns.lineplot(x='year', y='avg_danceability', data=cleandata, ax=ax2, color='red', label='avg_danceability')"
   ]
  },
  {
   "cell_type": "code",
   "execution_count": 35,
   "id": "844a0d91-7756-4968-84b2-c857790d9686",
   "metadata": {},
   "outputs": [
    {
     "data": {
      "text/plain": [
       "<Axes: xlabel='year', ylabel='avg_valence'>"
      ]
     },
     "execution_count": 35,
     "metadata": {},
     "output_type": "execute_result"
    },
    {
     "data": {
      "image/png": "[encoded data removed]",
      "text/plain": [
       "<Figure size 640x480 with 2 Axes>"
      ]
     },
     "metadata": {},
     "output_type": "display_data"
    }
   ],
   "source": [
    "# visualize time series of valence and unemploymentrate across the years\n",
    "fig, ax1 = plt.subplots()\n",
    "sns.lineplot(x='year', y='UnemploymentRate', data=cleandata, ax=ax1, color='blue', label='UnemploymentRate')\n",
    "ax2 = ax1.twinx()\n",
    "sns.lineplot(x='year', y='avg_valence', data=cleandata, ax=ax2, color='red', label='avg_valence')"
   ]
  },
  {
   "cell_type": "code",
   "execution_count": 36,
   "id": "56b505c2-20fa-441b-8830-d689d84d3300",
   "metadata": {},
   "outputs": [
    {
     "data": {
      "text/plain": [
       "<Axes: xlabel='year', ylabel='avg_danceability'>"
      ]
     },
     "execution_count": 36,
     "metadata": {},
     "output_type": "execute_result"
    },
    {
     "data": {
      "image/png": "[encoded data removed]",
      "text/plain": [
       "<Figure size 640x480 with 2 Axes>"
      ]
     },
     "metadata": {},
     "output_type": "display_data"
    }
   ],
   "source": [
    "# visualize time series of danceability and unemploymentrate across the years\n",
    "fig, ax1 = plt.subplots()\n",
    "sns.lineplot(x='year', y='UnemploymentRate', data=cleandata, ax=ax1, color='blue', label='UnemploymentRate')\n",
    "ax2 = ax1.twinx()\n",
    "sns.lineplot(x='year', y='avg_danceability', data=cleandata, ax=ax2, color='red', label='avg_danceability')"
   ]
  },
  {
   "cell_type": "markdown",
   "id": "3390f8f1-6115-4c93-9144-24e3fdd88936",
   "metadata": {},
   "source": [
    "Inspect why dancebility and valence has such weak correlation with fedfundrate and unemploymentrate by plotting scatter plots. \n",
    "We found out that regardless of the fed fund rate and unemployment rate, we have songs with a full spectrum of danceability and valence. This might justify why there is a week correlation. \n",
    "\n",
    "NOTE: we reduce the transparency of the dot to make sure we can determine overlapping to get more accurate perceptions of the fange of songs' danceability and valence. "
   ]
  },
  {
   "cell_type": "code",
   "execution_count": null,
   "id": "270b0c9d-c2a1-4a67-9f66-2eed002606a8",
   "metadata": {},
   "outputs": [],
   "source": [
    "dance_fedfund_graph= sns.scatterplot(cleandata, x=\"fedfundrate\", y=\"avg_danceability\", alpha=0.6)\n"
   ]
  },
  {
   "cell_type": "code",
   "execution_count": null,
   "id": "dde79805-1674-472a-a16a-8259feba3e51",
   "metadata": {},
   "outputs": [],
   "source": [
    "valence_fedfund_graph= sns.scatterplot(cleandata, x=\"fedfundrate\", y=\"avg_valence\", alpha=0.6)"
   ]
  },
  {
   "cell_type": "code",
   "execution_count": null,
   "id": "387aff72-c828-45f3-a14d-4d412ca2239f",
   "metadata": {},
   "outputs": [],
   "source": [
    "dance_un_graph= sns.scatterplot(cleandata, x=\"UnemploymentRate\", y=\"avg_danceability\", alpha=0.6)"
   ]
  },
  {
   "cell_type": "code",
   "execution_count": null,
   "id": "71c6183a-2e03-403b-947e-b7425e8c69d2",
   "metadata": {},
   "outputs": [],
   "source": [
    "valence_un_graph= sns.scatterplot(cleandata, x=\"UnemploymentRate\", y=\"avg_valence\", alpha=0.6)"
   ]
  },
  {
   "cell_type": "markdown",
   "id": "5dfa7af5-83d5-4e0f-88fb-d8b8f223225c",
   "metadata": {},
   "source": [
    "END Khai 1.33pm (cells below are not needed, all cells are merged)"
   ]
  },
  {
   "cell_type": "markdown",
   "id": "36da57c2-000b-440f-89a4-f3f03b2d60cf",
   "metadata": {},
   "source": [
    "### Data Cleaning\n",
    "While looking through the different factors of calebelgut's dataset, we realized that a potential problem that caused the low correlation may be due to the fact that we did not account for each song's popularity, thus not accurately representing the music sentiment of the general population. Therefore we did further data cleaning and only considered songs above a certain popularity.**\n",
    "\n",
    "The Popularity scale was from 0 to 100 and after looking at summary stats, we decided to filter to only songs with a rating greater or equal to 70."
   ]
  },
  {
   "cell_type": "code",
   "execution_count": null,
   "id": "14899035-20f2-48c7-bedb-cfd27f83df4c",
   "metadata": {},
   "outputs": [],
   "source": [
    "# confirm the scale of popularity\n",
    "musicdata['popularity'].unique()"
   ]
  },
  {
   "cell_type": "code",
   "execution_count": null,
   "id": "6b12ae2c-b3a5-4011-85dd-d51a277d8dd4",
   "metadata": {},
   "outputs": [],
   "source": [
    "#check the mean, mode and median of songs' popularity\n",
    "print(musicdata['popularity'].mean())\n",
    "print(musicdata['popularity'].mode())\n",
    "print(musicdata['popularity'].median())"
   ]
  },
  {
   "cell_type": "code",
   "execution_count": null,
   "id": "1f7764db-b28f-4294-bded-f1619af5d688",
   "metadata": {},
   "outputs": [],
   "source": [
    "#create a dataframe just as before but with popularity>=70\n",
    "\n",
    "# checking to see if we have NaN values\n",
    "print(\"Number of music popularity: \", len(musicdata['popularity']))\n",
    "print(\"Nan is present: \",\\\n",
    "      np.isnan(musicdata['popularity']).any())"
   ]
  },
  {
   "cell_type": "code",
   "execution_count": null,
   "id": "a0328d6c-e4a5-4955-ab87-cf914a104fa1",
   "metadata": {},
   "outputs": [],
   "source": [
    "# use sql to get a data frame with danceabilty, valence, popularity, interest rate and unemployment rate\n",
    "popdata= duckdb.sql(\"SELECT danceability, valence, popularity, musicdata.year, fedfundrate FROM\\\n",
    "            musicdata INNER JOIN econdata ON musicdata.year = econdata.year WHERE popularity >=70\").df()\n",
    "popdata= duckdb.sql(\"SELECT danceability, valence, popularity, popdata.year, \\\n",
    "        fedfundrate, UnemploymentRate FROM popdata INNER JOIN newundata\\\n",
    "            ON popdata.year = newundata.Year\").df()\n",
    "popdata"
   ]
  },
  {
   "cell_type": "markdown",
   "id": "9597a5fd-ee83-4f69-8113-b5eb9640793b",
   "metadata": {},
   "source": [
    "### Data Analysis"
   ]
  },
  {
   "cell_type": "code",
   "execution_count": null,
   "id": "f6ba1c18-7b51-442b-84c2-62d2144610eb",
   "metadata": {},
   "outputs": [],
   "source": [
    "popdata.corr()"
   ]
  },
  {
   "cell_type": "markdown",
   "id": "4e726fe7-750c-42e3-9baf-ed0bb08e8648",
   "metadata": {},
   "source": [
    "Danceability and valence has a highest correlation (from 0.55 to 0.41) as what we expected but lower than what we had before filtering out songs with popularity less than 70. However, danceability has a weaker +ve correlation with Unemployment rate (from 0.04 to 0.03) and a greater -ve correlation (-0.02 to -0.08) with fedfundrate. In addition, valence has a significant higher +ve correlation with Unemployment rate (from 0.007 to 0.06)and fedfundrate (0.1 to 0.25). "
   ]
  },
  {
   "cell_type": "code",
   "execution_count": null,
   "id": "8c36f85f-95d5-42f8-a61e-c48fba35676a",
   "metadata": {},
   "outputs": [],
   "source": [
    "dance_fedfund_graph= sns.scatterplot(popdata, x=\"fedfundrate\", y=\"danceability\", alpha=0.1)"
   ]
  },
  {
   "cell_type": "code",
   "execution_count": null,
   "id": "616902ed-ed37-42da-931b-28143e71637c",
   "metadata": {},
   "outputs": [],
   "source": [
    "valence_fedfund_graph= sns.scatterplot(popdata, x=\"fedfundrate\", y=\"valence\", alpha=0.1)"
   ]
  },
  {
   "cell_type": "code",
   "execution_count": null,
   "id": "a180b640-d2d2-47cb-8b70-ce9a1ae7cb68",
   "metadata": {},
   "outputs": [],
   "source": [
    "dance_un_graph= sns.scatterplot(popdata, x=\"UnemploymentRate\", y=\"danceability\", alpha=0.1)"
   ]
  },
  {
   "cell_type": "code",
   "execution_count": null,
   "id": "c4dca92c-a373-4ab4-9b1b-0eb1bebce2dc",
   "metadata": {},
   "outputs": [],
   "source": [
    "valence_un_graph= sns.scatterplot(popdata, x=\"UnemploymentRate\", y=\"valence\", alpha=0.1)"
   ]
  },
  {
   "cell_type": "markdown",
   "id": "0ce15355-7a7b-424f-93e0-f8e4d580c3c4",
   "metadata": {},
   "source": [
    "Since we notice some the number of very popular songs in each year is different, we think it could affect the corr. As such, we decide to look at the mean, median  and mode of danceability and valence for each year and compare it to the fedfundrate and unemploymentrate"
   ]
  },
  {
   "cell_type": "code",
   "execution_count": null,
   "id": "1a4728eb-8454-4ac1-b43d-d6effd6b0dfc",
   "metadata": {},
   "outputs": [],
   "source": [
    "# look at the mean, median  and mode of danceability and valence for each year correspond to the fedfundrate and unemploymentrate\n",
    "analysis = duckdb.sql(\"SELECT AVG(danceability), MEDIAN(danceability), \\\n",
    "        MODE(danceability), AVG(valence), MEDIAN(valence), \\\n",
    "        MODE(valence), year, fedfundrate, UnemploymentRate FROM popdata GROUP BY year, fedfundrate, UnemploymentRate\").df()\n",
    "analysis"
   ]
  },
  {
   "cell_type": "code",
   "execution_count": null,
   "id": "fed34dab-7513-418e-987d-df80b0c0ee55",
   "metadata": {},
   "outputs": [],
   "source": [
    "analysis.corr()"
   ]
  },
  {
   "cell_type": "markdown",
   "id": "9beec6c9-9b9b-46e4-974c-1b9c082c2eeb",
   "metadata": {},
   "source": [
    "### Sanity check\n",
    "\n",
    "We decide to use another dataset to check if we can yield better corr. This dataset contains top 10000 songs from 1960 to 2023 and has valence a column.\n",
    "\n",
    "### Data Cleaning"
   ]
  },
  {
   "cell_type": "code",
   "execution_count": null,
   "id": "ca91b309-d28b-497d-93b1-33dccf10304f",
   "metadata": {},
   "outputs": [],
   "source": [
    "#rename the Album Release Date col, easier without space for writing SQL later\n",
    "print(songdata.head())\n",
    "songdata.rename(columns={\"Album Release Date\": \"Album_Release_Date\"}, inplace=True)\n",
    "songdata"
   ]
  },
  {
   "cell_type": "code",
   "execution_count": null,
   "id": "987743f5-4b67-43ab-af03-14b3e930295d",
   "metadata": {},
   "outputs": [],
   "source": [
    "songdata['Album_Release_Date'] = pd.to_datetime(songdata['Album_Release_Date'], format='%Y-%m-%d', errors='coerce')"
   ]
  },
  {
   "cell_type": "code",
   "execution_count": null,
   "id": "54d086df-6a08-466b-b936-2e41a9982066",
   "metadata": {},
   "outputs": [],
   "source": [
    "songdata = duckdb.sql(\"SELECT *, year(Album_Release_Date) AS year FROM songdata\").df()\n",
    "songdata"
   ]
  },
  {
   "cell_type": "code",
   "execution_count": null,
   "id": "4c639691-2f08-46d9-8e33-93e2477f7dd4",
   "metadata": {},
   "outputs": [],
   "source": [
    "# no need to get popularity here in this dataset, b/c \n",
    "# this new data includes top 10000 songs\n",
    "newcleandata= duckdb.sql(\"SELECT songdata.Year,\\\n",
    "        valence, UnemploymentRate FROM songdata INNER JOIN \\\n",
    "        newundata ON songdata.year = newundata.year\").df()\n",
    "newcleandata= duckdb.sql(\"SELECT newcleandata.year,\\\n",
    "        valence, UnemploymentRate, fedfundrate FROM newcleandata INNER JOIN \\\n",
    "        econdata ON newcleandata.year = econdata.year\").df()\n",
    "\n",
    "newcleandata"
   ]
  },
  {
   "cell_type": "code",
   "execution_count": null,
   "id": "4a7699d6-1298-46e6-8209-9f0ee1b3140b",
   "metadata": {},
   "outputs": [],
   "source": [
    "# checking to see if we have NaN values\n",
    "print(\"Number of rows in valence: \", len(newcleandata['Valence']))\n",
    "print(\"Nan is present: \",\\\n",
    "      np.isnan(newcleandata['Valence']).any())"
   ]
  },
  {
   "cell_type": "code",
   "execution_count": null,
   "id": "3ce714f0-f76d-4256-b37f-831b627eaf00",
   "metadata": {},
   "outputs": [],
   "source": [
    "#examine the data corr \n",
    "newcleandata.corr()"
   ]
  },
  {
   "cell_type": "markdown",
   "id": "66ccbe24-ca29-4f87-bca7-e0331f73ad87",
   "metadata": {},
   "source": [
    "The correlation of valence and unemployment rate is different to the first data set, we have -0.01 and we have 0.06 in the previous dataset. \n",
    "The correlation between valence and fedfunddate is 0.15 and previously 0.25 (almost similar)."
   ]
  },
  {
   "cell_type": "markdown",
   "id": "f8cc35e2-4906-45ec-92b9-d346bcca3439",
   "metadata": {},
   "source": [
    "# Attempt 3"
   ]
  },
  {
   "cell_type": "code",
   "execution_count": null,
   "id": "5d3ec2ce-5b96-4359-a559-2abe99551510",
   "metadata": {},
   "outputs": [],
   "source": []
  },
  {
   "cell_type": "code",
   "execution_count": null,
   "id": "4259a14b-1274-4a59-b1d1-91389bafe425",
   "metadata": {},
   "outputs": [],
   "source": []
  },
  {
   "cell_type": "markdown",
   "id": "7ba83743-4a13-431d-b37f-799e5180d814",
   "metadata": {},
   "source": [
    "***Turning Point***\n",
    "\n",
    "https://fred.stlouisfed.org/series/GDP\n",
    "https://fred.stlouisfed.org/series/USPRFRMSPRTMSMNGSP\n"
   ]
  },
  {
   "cell_type": "code",
   "execution_count": null,
   "id": "f0c74a7c-057e-4d6a-9c7e-d83bec3b29bc",
   "metadata": {},
   "outputs": [],
   "source": [
    "\n",
    "us_gdp_data = pd.read_csv(\"GDP.csv\")\n",
    "us_entertainmentgdp_data = pd.read_csv(\"USPRFRMSPRTMSMNGSP.csv\")\n",
    "\n",
    "us_gdp_data.head()\n",
    "print(us_entertainmentgdp_data.dtypes)\n",
    "print(us_entertainmentgdp_data.columns)"
   ]
  },
  {
   "cell_type": "code",
   "execution_count": null,
   "id": "ee3d0f86-dea9-45fe-b34f-d8ef319a0ed1",
   "metadata": {},
   "outputs": [],
   "source": [
    "us_entertainmentgdp_data = us_entertainmentgdp_data.rename(columns={\"USPRFRMSPRTMSMNGSP\": \"Entertainment_GDP\"})\n",
    "us_entertainmentgdp_data.tail()"
   ]
  },
  {
   "cell_type": "code",
   "execution_count": null,
   "id": "a406b62a",
   "metadata": {},
   "outputs": [],
   "source": [
    "gdp_ent_df = pd.merge(gdp_df, entertainment_df, how=\"inner\", on=\"DATE\")\n",
    "gdp_ent_df.tail()"
   ]
  },
  {
   "cell_type": "code",
   "execution_count": null,
   "id": "f4a601e1",
   "metadata": {},
   "outputs": [],
   "source": [
    "# simplifying the column name USPRFRMSPRTMSMNGSP to ENT\n",
    "gdp_ent_df = gdp_ent_df.rename(columns={\"USPRFRMSPRTMSMNGSP\": \"ENT\"})\n",
    "\n",
    "sns.scatterplot(data=gdp_ent_df, x=\"GDP\", y=\"ENT\")"
   ]
  },
  {
   "cell_type": "code",
   "execution_count": null,
   "id": "1526060f",
   "metadata": {},
   "outputs": [],
   "source": [
    "gdp_ent_df[[\"GDP\", \"ENT\"]].corr()"
   ]
  },
  {
   "cell_type": "markdown",
   "id": "5acf85b1-3927-424b-9732-5f642358745c",
   "metadata": {},
   "source": [
    "### Data Discussion\n",
    "The first dataset from spotify  defines the popularity of a song from the current viewership  while the second data set (top 10000 songs) defines popularity from a historical perspective (how popular was a top hit during its age). In our context, the second dataset would be better suited since we are comparing the unemployment rate or interest rate of that period to the popularity of songs of that period. Thus, comparing historical economic data with current popularity could obscure our research. \n",
    "\n",
    "Secondly, we soon realized that the simple variables we picked actually turned out to be not so simple. The danceability and valence curve, the interest rate and unemployment rate curve are all complex measures that oscillate and spike in unpredictable trends. Thus, we tried to fit linear relationships to the data which was difficult. This may be due to the fact that many factors contribute to music consumption and sentiment, such as, changing music taste/consumption and current event (covid for example) that fundamentally changes how people behave and thus changing music preference and taste. For example, when people are employed, they are happier and consumer happier music (shown in data set 2 where unemployment rate has a negative correlation with valence in music) but in another perspective, when people are unemployment, the need more happy music (shown in data set 1, where unemployment rate has a positive correlation with valence in music). \n",
    "\n",
    "Lastly, we believe that due to the complex nature of virtually all the indicators we picked, we want to inspect more variables that would strengthen our model. Variables we have in mind are genres of music, socio-economics factors, other econ factors, music taste/preferences, and so on. "
   ]
  },
  {
   "cell_type": "markdown",
   "id": "c34bfb56-cb13-4730-b0ec-115ca05f55f0",
   "metadata": {},
   "source": [
    "### Data Limitations¶\n",
    "One limitation is that the first spotify data set defines the popularity of a song from the current viewership perspective, making it not representative of historical data. \n",
    "\n",
    "Another limitation is that the unemployment raw data itself is missing some values that we dropped. Although this doesn’t affect greatly since we average the months of that year’s unemployment data, this could cause the average to be higher or lower due to the dropped month’s historical trend (for example, the february month could be usually lower than january data, making the overall yearly employment higher than it actually is). \n",
    "\n",
    "The spotify data set and 2nd song data (top10000 songs) set that we have represent the popularity globally. Couldn't find a dataset based on only the US population."
   ]
  },
  {
   "cell_type": "markdown",
   "id": "7f5f9f48-f7a6-4033-908f-0c9666b2ce47",
   "metadata": {},
   "source": [
    "#### Questions\n",
    "- Our data (see the graphs near the beginning) are very not linear friendly, how can we transform it or make sense of it?\n",
    "- Given the low correlation and linear regression coefficient, is there a better model for us to train the data?\n",
    "- How can we transform our model to better fit the data?\n",
    "- How and do we have to cite resources?"
   ]
  },
  {
   "cell_type": "code",
   "execution_count": null,
   "id": "3b68156f-5ee6-46c5-bc2e-df4af446ce7b",
   "metadata": {},
   "outputs": [],
   "source": []
  }
 ],
 "metadata": {
  "kernelspec": {
   "display_name": "Python 3 (ipykernel)",
   "language": "python",
   "name": "python3"
  },
  "language_info": {
   "codemirror_mode": {
    "name": "ipython",
    "version": 3
   },
   "file_extension": ".py",
   "mimetype": "text/x-python",
   "name": "python",
   "nbconvert_exporter": "python",
   "pygments_lexer": "ipython3",
   "version": "3.11.9"
  }
 },
 "nbformat": 4,
 "nbformat_minor": 5
}
