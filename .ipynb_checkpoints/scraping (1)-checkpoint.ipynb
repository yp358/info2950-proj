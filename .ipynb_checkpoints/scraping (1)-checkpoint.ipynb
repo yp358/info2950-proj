{
 "cells": [
  {
   "cell_type": "code",
   "execution_count": 25,
   "id": "fdb67010-fcce-446e-8832-e0c65e9c21ae",
   "metadata": {},
   "outputs": [],
   "source": [
    "import numpy as np\n",
    "import pandas as pd\n",
    "import matplotlib.pyplot as plt\n",
    "import seaborn as sns\n",
    "import datetime\n",
    "from sklearn.linear_model import LinearRegression, LogisticRegression\n",
    "import duckdb\n",
    "import requests\n",
    "from bs4 import BeautifulSoup\n",
    "import time"
   ]
  },
  {
   "cell_type": "code",
   "execution_count": 26,
   "id": "e351a792-fbca-4a11-ab70-1805922504cc",
   "metadata": {},
   "outputs": [],
   "source": [
    "# for i in range(2015):\n",
    "#     url = 'https://billboardtop100of.com/1960-2/'.format(i) \n",
    "#     page = requests.get(url) \n",
    "#     soup = BeautifulSoup(page.text, 'html.parser') "
   ]
  },
  {
   "cell_type": "code",
   "execution_count": 63,
   "id": "8cd4db4d-8ddf-41a3-95f6-e90000c58496",
   "metadata": {},
   "outputs": [],
   "source": [
    "year = []\n",
    "rank = []\n",
    "artist = []\n",
    "song = []\n",
    "\n",
    "# Loop through the years 1960 to 2015\n",
    "for i in range(1960, 2019):\n",
    "    try:\n",
    "        # Format the URL with the current year\n",
    "        url = 'https://billboardtop100of.com/{}-2/'.format(i)\n",
    "\n",
    "        # Request the page and parse the HTML\n",
    "        page = requests.get(url)\n",
    "        soup = BeautifulSoup(page.text, 'html.parser')\n",
    "\n",
    "        # Extract the year from the page (clean up the title text to get just the year)\n",
    "        y = soup.find(\"h1\", class_=\"entry-title\").get_text().strip().split()[-1]  # Extract year\n",
    "\n",
    "        # Find all rows in the table\n",
    "        table_rows = soup.find_all('tr')\n",
    "\n",
    "        # Loop through each row and extract columns\n",
    "        for row in table_rows:\n",
    "            columns = row.find_all('td')\n",
    "\n",
    "            # Ensure there are exactly 3 columns, and none of them are empty\n",
    "            if len(columns) == 3 and all(col.text.strip() for col in columns):\n",
    "                ranks = columns[0].text.strip()  # Get the rank\n",
    "                artists = columns[1].text.strip()  # Get the artist\n",
    "\n",
    "                # Handle the song column, removing 'LYRICS' if it exists\n",
    "                songs = columns[2].text.strip().split('LYRICS')[0].strip()  # Clean song title\n",
    "\n",
    "                # Append the year and the extracted data to the respective lists\n",
    "                year.append(y)\n",
    "                rank.append(ranks)\n",
    "                artist.append(artists)\n",
    "                song.append(songs)\n",
    "\n",
    "    except Exception as e:\n",
    "        print(f\"Error processing year {i}: {e}\")\n",
    "        continue\n",
    "\n",
    "data = {\"Year\": year, \"Rank\": rank, \"Artist\": artist, \"Song\": song} \n",
    "\n",
    "df = pd.DataFrame(data) \n",
    "\n",
    "df = df.drop_duplicates().dropna()\n",
    "\n",
    "df.to_csv('billboard.csv', index = False) "
   ]
  },
  {
   "cell_type": "code",
   "execution_count": 61,
   "id": "14df5d82-bdea-4a49-9ae4-e4f6199ba1fc",
   "metadata": {},
   "outputs": [
    {
     "name": "stdout",
     "output_type": "stream",
     "text": [
      "      Year Rank                          Artist             Song\n",
      "5595  2016   96                      Tim McGraw  Humble And Kind\n",
      "5596  2016   97                          Future           Wicked\n",
      "5597  2016   98                       Desiigner    Tiimmy Turner\n",
      "5598  2016   99  Wiz Khalifa feat. Charlie Puth    See You Again\n",
      "5599  2016  100                   One Direction          Perfect\n"
     ]
    }
   ],
   "source": [
    "print(df.tail())"
   ]
  },
  {
   "cell_type": "code",
   "execution_count": null,
   "id": "df5df7f8-549c-4f1e-89f3-986cdce03ed0",
   "metadata": {},
   "outputs": [],
   "source": []
  }
 ],
 "metadata": {
  "kernelspec": {
   "display_name": "Python 3 (ipykernel)",
   "language": "python",
   "name": "python3"
  },
  "language_info": {
   "codemirror_mode": {
    "name": "ipython",
    "version": 3
   },
   "file_extension": ".py",
   "mimetype": "text/x-python",
   "name": "python",
   "nbconvert_exporter": "python",
   "pygments_lexer": "ipython3",
   "version": "3.12.2"
  }
 },
 "nbformat": 4,
 "nbformat_minor": 5
}
