{
 "cells": [
  {
   "cell_type": "code",
   "execution_count": 21,
   "id": "7b05f1ed-99ba-4887-a2e7-d702106945d8",
   "metadata": {},
   "outputs": [],
   "source": [
    "import numpy as np\n",
    "import pandas as pd\n",
    "import matplotlib.pyplot as plt\n",
    "import seaborn as sns\n",
    "import datetime\n",
    "from sklearn.linear_model import LinearRegression, LogisticRegression\n",
    "import duckdb\n",
    "import requests\n",
    "from bs4 import BeautifulSoup\n",
    "import time\n",
    "import unicodedata"
   ]
  },
  {
   "cell_type": "code",
   "execution_count": 22,
   "id": "8ee10cc0-dbf9-4458-ba34-9a5c67e2a0ba",
   "metadata": {},
   "outputs": [],
   "source": [
    "billboard = pd.read_csv('no_match.csv') \n",
    "spotify = pd.read_csv('top10000song.csv')"
   ]
  },
  {
   "cell_type": "code",
   "execution_count": 23,
   "id": "5a00af61-9d54-4bfc-8dc2-2ed768d23ac4",
   "metadata": {},
   "outputs": [
    {
     "name": "stdout",
     "output_type": "stream",
     "text": [
      "Index(['Year', 'Rank', 'Artist', 'Song', 'valence', 'danceability', 'energy',\n",
      "       'tempo'],\n",
      "      dtype='object')\n",
      "Index(['Year', 'Rank', 'Artist', 'Song'], dtype='object')\n"
     ]
    }
   ],
   "source": [
    "spotify = spotify.rename(columns={'Track Name': 'name', 'Artist Name(s)': 'artists'}) \n",
    "\n",
    "print(billboard.columns)\n",
    "billboard.drop(['valence','danceability','energy','tempo'], axis = 1, inplace=True)\n",
    "print(billboard.columns) "
   ]
  },
  {
   "cell_type": "code",
   "execution_count": 24,
   "id": "8c05f47b-85f7-49b4-8627-99ef78ea80cf",
   "metadata": {},
   "outputs": [
    {
     "name": "stdout",
     "output_type": "stream",
     "text": [
      "(2124, 8)\n",
      "   count_star()\n",
      "0           122\n",
      "(1937, 8)\n"
     ]
    }
   ],
   "source": [
    "def remove_accents(text):\n",
    "    if isinstance(text, str):\n",
    "        return unicodedata.normalize('NFKD', text).encode('ascii', 'ignore').decode('utf-8')\n",
    "    return text\n",
    "\n",
    "# Clean and normalize 'Artist' and 'Song' columns in the no_match dataset\n",
    "billboard['Artist'] = billboard['Artist'].apply(remove_accents) \\\n",
    "                                    .str.lower() \\\n",
    "                                    .str.replace(r'\\(.*?\\)', '', regex=True) \\\n",
    "                                    .str.replace(r'[^a-z\\s]', '', regex=True) \\\n",
    "                                    .str.strip()\n",
    "\n",
    "billboard['Song'] = billboard['Song'].apply(remove_accents) \\\n",
    "                                  .str.lower() \\\n",
    "                                  .str.replace(r'\\(.*?\\)', '', regex=True) \\\n",
    "                                  .str.replace(r'[^a-z\\s]', '', regex=True) \\\n",
    "                                  .str.strip()\n",
    "\n",
    "# Clean and normalize 'Artist Name(s)' and 'Track Name' columns in the Spotify dataset\n",
    "spotify['artists'] = spotify['artists'].apply(remove_accents) \\\n",
    "                                                      .str.lower() \\\n",
    "                                                      .str.replace(r'\\(.*?\\)', '', regex=True) \\\n",
    "                                                      .str.replace(r'[^a-z\\s]', '', regex=True) \\\n",
    "                                                      .str.strip()\n",
    "\n",
    "spotify['name'] = spotify['name'].apply(remove_accents) \\\n",
    "                                              .str.lower() \\\n",
    "                                              .str.replace(r'\\(.*?\\)', '', regex=True) \\\n",
    "                                              .str.replace(r'[^a-z\\s]', '', regex=True) \\\n",
    "                                              .str.strip()\n",
    "\n",
    "# Attempt to merge the cleaned datasets on 'Artist' and 'Song'/'Track Name'\n",
    "merged_df = duckdb.sql(\"\"\"\n",
    "                        SELECT billboard.Year, billboard.Rank, billboard.Artist, billboard.Song, \n",
    "                               MEDIAN(spotify.valence) AS valence, MEDIAN(spotify.danceability) AS danceability, \n",
    "                               MEDIAN(spotify.energy) AS energy, MEDIAN(spotify.tempo) AS tempo\n",
    "                        FROM billboard\n",
    "                        LEFT JOIN spotify ON billboard.Song = spotify.name AND billboard.Artist = spotify.artists\n",
    "                        GROUP BY billboard.Year, billboard.Artist, billboard.Song, billboard.Rank\n",
    "                        ORDER BY billboard.Year, billboard.Rank\n",
    "                    \"\"\").df()\n",
    "\n",
    "\n",
    "print(merged_df.shape)\n",
    "# Checking how many matches were found after cleaning\n",
    "\n",
    "unmatched_rows = merged_df[merged_df['valence'].isna()]\n",
    "\n",
    "\n",
    "\n",
    "after =duckdb.sql(\"\"\"\n",
    "                       SELECT COUNT(*) \n",
    "                       FROM unmatched_rows\n",
    "                       WHERE Year < 2020 AND Year >= 2010  \n",
    "                    \"\"\").df()\n",
    "print(after) \n",
    "\n",
    "\n",
    "print(unmatched_rows.shape) \n",
    "\n",
    "\n",
    "# matched_rows[['Year', 'Rank', 'Artist', 'Song']].head(), unmatched_rows[['Year', 'Rank', 'Artist', 'Song']].head(), unmatched_rows.shape\n",
    "\n",
    "\n",
    "merged_df.to_csv('second_merge.csv', index = False) "
   ]
  },
  {
   "cell_type": "code",
   "execution_count": null,
   "id": "b7aee34e-b9e9-44bb-881f-61564008e0f5",
   "metadata": {},
   "outputs": [],
   "source": []
  },
  {
   "cell_type": "code",
   "execution_count": null,
   "id": "0e66f9a8-0766-4caa-8b44-5893d051006c",
   "metadata": {},
   "outputs": [],
   "source": []
  }
 ],
 "metadata": {
  "kernelspec": {
   "display_name": "Python 3 (ipykernel)",
   "language": "python",
   "name": "python3"
  },
  "language_info": {
   "codemirror_mode": {
    "name": "ipython",
    "version": 3
   },
   "file_extension": ".py",
   "mimetype": "text/x-python",
   "name": "python",
   "nbconvert_exporter": "python",
   "pygments_lexer": "ipython3",
   "version": "3.12.2"
  }
 },
 "nbformat": 4,
 "nbformat_minor": 5
}
