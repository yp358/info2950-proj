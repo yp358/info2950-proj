{
 "cells": [
  {
   "cell_type": "markdown",
   "metadata": {},
   "source": [
    "# INFO 2950 Final Project - Phase II\n",
    "##### Janice Shen (js3678), Khai Xin Kuan (kk996), Sandy Lin (sl2534), David Park (yp358)"
   ]
  },
  {
   "cell_type": "code",
   "execution_count": 5,
   "metadata": {},
   "outputs": [],
   "source": [
    "import pandas as pd\n",
    "import numpy as np\n",
    "import duckdb\n",
    "import seaborn as sns\n",
    "import matplotlib.pyplot as plt\n",
    "import datetime\n",
    "from sklearn.linear_model import LinearRegression, LogisticRegression\n",
    "import statsmodels.api as sm"
   ]
  },
  {
   "cell_type": "code",
   "execution_count": 6,
   "metadata": {},
   "outputs": [
    {
     "data": {
      "text/html": [
       "<div>\n",
       "<style scoped>\n",
       "    .dataframe tbody tr th:only-of-type {\n",
       "        vertical-align: middle;\n",
       "    }\n",
       "\n",
       "    .dataframe tbody tr th {\n",
       "        vertical-align: top;\n",
       "    }\n",
       "\n",
       "    .dataframe thead th {\n",
       "        text-align: right;\n",
       "    }\n",
       "</style>\n",
       "<table border=\"1\" class=\"dataframe\">\n",
       "  <thead>\n",
       "    <tr style=\"text-align: right;\">\n",
       "      <th></th>\n",
       "      <th>Unnamed: 0</th>\n",
       "      <th>danceability</th>\n",
       "      <th>valence</th>\n",
       "      <th>year</th>\n",
       "      <th>recession</th>\n",
       "      <th>election</th>\n",
       "      <th>fedfundrate</th>\n",
       "      <th>UnemploymentRate</th>\n",
       "      <th>US_GDP</th>\n",
       "      <th>Entertainment_GDP</th>\n",
       "      <th>year_1</th>\n",
       "      <th>State_prisons</th>\n",
       "      <th>fertility</th>\n",
       "      <th>DeathRate</th>\n",
       "      <th>S&amp;P500</th>\n",
       "    </tr>\n",
       "  </thead>\n",
       "  <tbody>\n",
       "    <tr>\n",
       "      <th>0</th>\n",
       "      <td>0</td>\n",
       "      <td>0.4500</td>\n",
       "      <td>0.3670</td>\n",
       "      <td>1997</td>\n",
       "      <td>0</td>\n",
       "      <td>0</td>\n",
       "      <td>5.460</td>\n",
       "      <td>4.941667</td>\n",
       "      <td>8362.655</td>\n",
       "      <td>37156.0</td>\n",
       "      <td>1997</td>\n",
       "      <td>1099347.0</td>\n",
       "      <td>1.9710</td>\n",
       "      <td>877.7</td>\n",
       "      <td>0.33</td>\n",
       "    </tr>\n",
       "    <tr>\n",
       "      <th>1</th>\n",
       "      <td>1</td>\n",
       "      <td>0.6175</td>\n",
       "      <td>0.1140</td>\n",
       "      <td>1997</td>\n",
       "      <td>0</td>\n",
       "      <td>0</td>\n",
       "      <td>5.460</td>\n",
       "      <td>4.941667</td>\n",
       "      <td>8362.655</td>\n",
       "      <td>37156.0</td>\n",
       "      <td>1997</td>\n",
       "      <td>1099347.0</td>\n",
       "      <td>1.9710</td>\n",
       "      <td>877.7</td>\n",
       "      <td>0.33</td>\n",
       "    </tr>\n",
       "    <tr>\n",
       "      <th>2</th>\n",
       "      <td>2</td>\n",
       "      <td>0.5500</td>\n",
       "      <td>0.0438</td>\n",
       "      <td>1997</td>\n",
       "      <td>0</td>\n",
       "      <td>0</td>\n",
       "      <td>5.460</td>\n",
       "      <td>4.941667</td>\n",
       "      <td>8362.655</td>\n",
       "      <td>37156.0</td>\n",
       "      <td>1997</td>\n",
       "      <td>1099347.0</td>\n",
       "      <td>1.9710</td>\n",
       "      <td>877.7</td>\n",
       "      <td>0.33</td>\n",
       "    </tr>\n",
       "    <tr>\n",
       "      <th>3</th>\n",
       "      <td>3</td>\n",
       "      <td>0.6180</td>\n",
       "      <td>0.5610</td>\n",
       "      <td>1997</td>\n",
       "      <td>0</td>\n",
       "      <td>0</td>\n",
       "      <td>5.460</td>\n",
       "      <td>4.941667</td>\n",
       "      <td>8362.655</td>\n",
       "      <td>37156.0</td>\n",
       "      <td>1997</td>\n",
       "      <td>1099347.0</td>\n",
       "      <td>1.9710</td>\n",
       "      <td>877.7</td>\n",
       "      <td>0.33</td>\n",
       "    </tr>\n",
       "    <tr>\n",
       "      <th>4</th>\n",
       "      <td>4</td>\n",
       "      <td>0.7150</td>\n",
       "      <td>0.6120</td>\n",
       "      <td>1997</td>\n",
       "      <td>0</td>\n",
       "      <td>0</td>\n",
       "      <td>5.460</td>\n",
       "      <td>4.941667</td>\n",
       "      <td>8362.655</td>\n",
       "      <td>37156.0</td>\n",
       "      <td>1997</td>\n",
       "      <td>1099347.0</td>\n",
       "      <td>1.9710</td>\n",
       "      <td>877.7</td>\n",
       "      <td>0.33</td>\n",
       "    </tr>\n",
       "    <tr>\n",
       "      <th>...</th>\n",
       "      <td>...</td>\n",
       "      <td>...</td>\n",
       "      <td>...</td>\n",
       "      <td>...</td>\n",
       "      <td>...</td>\n",
       "      <td>...</td>\n",
       "      <td>...</td>\n",
       "      <td>...</td>\n",
       "      <td>...</td>\n",
       "      <td>...</td>\n",
       "      <td>...</td>\n",
       "      <td>...</td>\n",
       "      <td>...</td>\n",
       "      <td>...</td>\n",
       "      <td>...</td>\n",
       "    </tr>\n",
       "    <tr>\n",
       "      <th>1425</th>\n",
       "      <td>1425</td>\n",
       "      <td>0.3550</td>\n",
       "      <td>0.1370</td>\n",
       "      <td>2016</td>\n",
       "      <td>0</td>\n",
       "      <td>1</td>\n",
       "      <td>0.395</td>\n",
       "      <td>4.875000</td>\n",
       "      <td>18525.933</td>\n",
       "      <td>120037.0</td>\n",
       "      <td>2016</td>\n",
       "      <td>1288466.0</td>\n",
       "      <td>1.8205</td>\n",
       "      <td>728.8</td>\n",
       "      <td>0.12</td>\n",
       "    </tr>\n",
       "    <tr>\n",
       "      <th>1426</th>\n",
       "      <td>1426</td>\n",
       "      <td>0.7180</td>\n",
       "      <td>0.2050</td>\n",
       "      <td>2016</td>\n",
       "      <td>0</td>\n",
       "      <td>1</td>\n",
       "      <td>0.395</td>\n",
       "      <td>4.875000</td>\n",
       "      <td>18525.933</td>\n",
       "      <td>120037.0</td>\n",
       "      <td>2016</td>\n",
       "      <td>1288466.0</td>\n",
       "      <td>1.8205</td>\n",
       "      <td>728.8</td>\n",
       "      <td>0.12</td>\n",
       "    </tr>\n",
       "    <tr>\n",
       "      <th>1427</th>\n",
       "      <td>1427</td>\n",
       "      <td>0.6030</td>\n",
       "      <td>0.3040</td>\n",
       "      <td>2016</td>\n",
       "      <td>0</td>\n",
       "      <td>1</td>\n",
       "      <td>0.395</td>\n",
       "      <td>4.875000</td>\n",
       "      <td>18525.933</td>\n",
       "      <td>120037.0</td>\n",
       "      <td>2016</td>\n",
       "      <td>1288466.0</td>\n",
       "      <td>1.8205</td>\n",
       "      <td>728.8</td>\n",
       "      <td>0.12</td>\n",
       "    </tr>\n",
       "    <tr>\n",
       "      <th>1428</th>\n",
       "      <td>1428</td>\n",
       "      <td>0.6890</td>\n",
       "      <td>0.2830</td>\n",
       "      <td>2016</td>\n",
       "      <td>0</td>\n",
       "      <td>1</td>\n",
       "      <td>0.395</td>\n",
       "      <td>4.875000</td>\n",
       "      <td>18525.933</td>\n",
       "      <td>120037.0</td>\n",
       "      <td>2016</td>\n",
       "      <td>1288466.0</td>\n",
       "      <td>1.8205</td>\n",
       "      <td>728.8</td>\n",
       "      <td>0.12</td>\n",
       "    </tr>\n",
       "    <tr>\n",
       "      <th>1429</th>\n",
       "      <td>1429</td>\n",
       "      <td>0.6470</td>\n",
       "      <td>0.3960</td>\n",
       "      <td>2016</td>\n",
       "      <td>0</td>\n",
       "      <td>1</td>\n",
       "      <td>0.395</td>\n",
       "      <td>4.875000</td>\n",
       "      <td>18525.933</td>\n",
       "      <td>120037.0</td>\n",
       "      <td>2016</td>\n",
       "      <td>1288466.0</td>\n",
       "      <td>1.8205</td>\n",
       "      <td>728.8</td>\n",
       "      <td>0.12</td>\n",
       "    </tr>\n",
       "  </tbody>\n",
       "</table>\n",
       "<p>1430 rows × 15 columns</p>\n",
       "</div>"
      ],
      "text/plain": [
       "      Unnamed: 0  danceability  valence  year  recession  election  \\\n",
       "0              0        0.4500   0.3670  1997          0         0   \n",
       "1              1        0.6175   0.1140  1997          0         0   \n",
       "2              2        0.5500   0.0438  1997          0         0   \n",
       "3              3        0.6180   0.5610  1997          0         0   \n",
       "4              4        0.7150   0.6120  1997          0         0   \n",
       "...          ...           ...      ...   ...        ...       ...   \n",
       "1425        1425        0.3550   0.1370  2016          0         1   \n",
       "1426        1426        0.7180   0.2050  2016          0         1   \n",
       "1427        1427        0.6030   0.3040  2016          0         1   \n",
       "1428        1428        0.6890   0.2830  2016          0         1   \n",
       "1429        1429        0.6470   0.3960  2016          0         1   \n",
       "\n",
       "      fedfundrate  UnemploymentRate     US_GDP  Entertainment_GDP  year_1  \\\n",
       "0           5.460          4.941667   8362.655            37156.0    1997   \n",
       "1           5.460          4.941667   8362.655            37156.0    1997   \n",
       "2           5.460          4.941667   8362.655            37156.0    1997   \n",
       "3           5.460          4.941667   8362.655            37156.0    1997   \n",
       "4           5.460          4.941667   8362.655            37156.0    1997   \n",
       "...           ...               ...        ...                ...     ...   \n",
       "1425        0.395          4.875000  18525.933           120037.0    2016   \n",
       "1426        0.395          4.875000  18525.933           120037.0    2016   \n",
       "1427        0.395          4.875000  18525.933           120037.0    2016   \n",
       "1428        0.395          4.875000  18525.933           120037.0    2016   \n",
       "1429        0.395          4.875000  18525.933           120037.0    2016   \n",
       "\n",
       "      State_prisons  fertility  DeathRate  S&P500  \n",
       "0         1099347.0     1.9710      877.7    0.33  \n",
       "1         1099347.0     1.9710      877.7    0.33  \n",
       "2         1099347.0     1.9710      877.7    0.33  \n",
       "3         1099347.0     1.9710      877.7    0.33  \n",
       "4         1099347.0     1.9710      877.7    0.33  \n",
       "...             ...        ...        ...     ...  \n",
       "1425      1288466.0     1.8205      728.8    0.12  \n",
       "1426      1288466.0     1.8205      728.8    0.12  \n",
       "1427      1288466.0     1.8205      728.8    0.12  \n",
       "1428      1288466.0     1.8205      728.8    0.12  \n",
       "1429      1288466.0     1.8205      728.8    0.12  \n",
       "\n",
       "[1430 rows x 15 columns]"
      ]
     },
     "execution_count": 6,
     "metadata": {},
     "output_type": "execute_result"
    }
   ],
   "source": [
    "#load all datasets\n",
    "final = pd.read_csv(\"final_clean_data.csv\")\n",
    "final"
   ]
  },
  {
   "cell_type": "markdown",
   "metadata": {},
   "source": [
    "### Correlation visualization and analysis\n"
   ]
  },
  {
   "cell_type": "markdown",
   "metadata": {},
   "source": [
    "Using the large data frame that contains all relevant information about both the music sentiments and the economic metrics, we made a correlation matrix, examining the correlation of how and if certain economic variables correspond with a certain change in music sentiments. \n",
    "\n",
    "Although we note that there is a strong correlation between US_GDP and Entertainment_GDP (0.993423), US_GDP and year (0.995226), and Entertainment_GDP and Year (0.995377). However, since our research question aims to tackle the relationship between music sentiment variables (valence, danceability) with key economic indicators, we discern these strong correlations to be deemed as insignificant.\n",
    "\n",
    "With that said, the correlation matrix reveals no strong relationship between music sentiment and different economic factors. \n",
    "\n",
    "The strongest relationship is between US GDP and valence with a negative correlation of -0.20. Valence and fedfundrate also have a weak positive relationship of 0.13. Valence and the Unemployment rate have a weak positive relationship of 0.09. \n",
    "\n",
    "The correlation is even worse for danceability, where the correlation between danceability and all other economic metrics (fedfundrate, unemployment rate, and US GDP) are < 0.05. "
   ]
  },
  {
   "cell_type": "code",
   "execution_count": 3,
   "metadata": {},
   "outputs": [
    {
     "ename": "CatalogException",
     "evalue": "Catalog Error: Table with name newmusicdata does not exist!\nDid you mean \"temp.information_schema.schemata\"?",
     "output_type": "error",
     "traceback": [
      "\u001b[0;31m---------------------------------------------------------------------------\u001b[0m",
      "\u001b[0;31mCatalogException\u001b[0m                          Traceback (most recent call last)",
      "Cell \u001b[0;32mIn[3], line 1\u001b[0m\n\u001b[0;32m----> 1\u001b[0m cleandata\u001b[38;5;241m=\u001b[39m duckdb\u001b[38;5;241m.\u001b[39msql(\u001b[38;5;124m\"\u001b[39m\u001b[38;5;124mSELECT danceability,valence, \u001b[39m\u001b[38;5;130;01m\\\u001b[39;00m\n\u001b[1;32m      2\u001b[0m \u001b[38;5;124m            newmusicdata.Year AS year, fedfundrate, UnemploymentRate, recession, election FROM \u001b[39m\u001b[38;5;130;01m\\\u001b[39;00m\n\u001b[1;32m      3\u001b[0m \u001b[38;5;124m            newmusicdata INNER JOIN econdata ON \u001b[39m\u001b[38;5;130;01m\\\u001b[39;00m\n\u001b[1;32m      4\u001b[0m \u001b[38;5;124m            newmusicdata.Year = econdata.Year\u001b[39m\u001b[38;5;124m\"\u001b[39m)\u001b[38;5;241m.\u001b[39mdf()\n\u001b[1;32m      5\u001b[0m cleandata\u001b[38;5;241m=\u001b[39m duckdb\u001b[38;5;241m.\u001b[39msql(\u001b[38;5;124m\"\u001b[39m\u001b[38;5;124mSELECT danceability,valence, \u001b[39m\u001b[38;5;130;01m\\\u001b[39;00m\n\u001b[1;32m      6\u001b[0m \u001b[38;5;124m        cleandata.Year, recession, election,\u001b[39m\u001b[38;5;130;01m\\\u001b[39;00m\n\u001b[1;32m      7\u001b[0m \u001b[38;5;124m        fedfundrate, UnemploymentRate, US_GDP, \u001b[39m\u001b[38;5;130;01m\\\u001b[39;00m\n\u001b[1;32m      8\u001b[0m \u001b[38;5;124m        Entertainment_GDP FROM cleandata INNER JOIN gdp_entgdp_df\u001b[39m\u001b[38;5;130;01m\\\u001b[39;00m\n\u001b[1;32m      9\u001b[0m \u001b[38;5;124m        ON cleandata.year = gdp_entgdp_df.year\u001b[39m\u001b[38;5;124m\"\u001b[39m)\u001b[38;5;241m.\u001b[39mdf()\n\u001b[1;32m     10\u001b[0m cleandata\n",
      "File \u001b[0;32m/opt/anaconda3/envs/info2950/lib/python3.12/site-packages/duckdb/__init__.py:457\u001b[0m, in \u001b[0;36msql\u001b[0;34m(query, **kwargs)\u001b[0m\n\u001b[1;32m    455\u001b[0m \u001b[38;5;28;01melse\u001b[39;00m:\n\u001b[1;32m    456\u001b[0m     conn \u001b[38;5;241m=\u001b[39m duckdb\u001b[38;5;241m.\u001b[39mconnect(\u001b[38;5;124m\"\u001b[39m\u001b[38;5;124m:default:\u001b[39m\u001b[38;5;124m\"\u001b[39m)\n\u001b[0;32m--> 457\u001b[0m \u001b[38;5;28;01mreturn\u001b[39;00m conn\u001b[38;5;241m.\u001b[39msql(query, \u001b[38;5;241m*\u001b[39m\u001b[38;5;241m*\u001b[39mkwargs)\n",
      "\u001b[0;31mCatalogException\u001b[0m: Catalog Error: Table with name newmusicdata does not exist!\nDid you mean \"temp.information_schema.schemata\"?"
     ]
    }
   ],
   "source": []
  },
  {
   "cell_type": "code",
   "execution_count": null,
   "metadata": {},
   "outputs": [],
   "source": [
    "cleandata.corr()"
   ]
  },
  {
   "cell_type": "markdown",
   "metadata": {},
   "source": [
    "# Hypothesis 1\n",
    "US gdp and entertainment gdp are the most correlated, therefore we chose to run a regression on this.\n",
    "\n",
    "Hypothesis 1: The average valence of popular songs by year from 1960-2016 in the US has an inverse relationship with the corresponding US Gross Domestic Product (GDP) of the given year.\n"
   ]
  },
  {
   "cell_type": "code",
   "execution_count": null,
   "metadata": {},
   "outputs": [],
   "source": [
    "X= cleandata[\"US_GDP\"]\n",
    "y= cleandata[\"danceability\"] \n",
    "model = LinearRegression().fit(X, y)\n",
    "print(f\"GDP Coeff: {var_coef:.2f}\")\n",
    "print(f\"intercept: {model.intercept_:.2f}\")"
   ]
  },
  {
   "cell_type": "code",
   "execution_count": null,
   "metadata": {},
   "outputs": [],
   "source": [
    "X_train= cleandata[input_vars]\n",
    "train_predictions = model.predict(X_train)"
   ]
  },
  {
   "cell_type": "code",
   "execution_count": null,
   "metadata": {},
   "outputs": [],
   "source": [
    "residuals = cleandata[\"danceability\"] - train_predictions\n",
    "residuals.head()"
   ]
  },
  {
   "cell_type": "code",
   "execution_count": null,
   "metadata": {},
   "outputs": [],
   "source": [
    "def generate_residual_plot(pred, resid):\n",
    "    sns.scatterplot(x= pred, y=resid, marker=\"o\")\n",
    "    plt.axhline(y=0 ,color=\"black\")\n",
    "    plt.xlabel(\"Predicted Danceability\")\n",
    "    plt.ylabel(\"Residuals\")\n",
    "    plt.title(\"Residual Plot\")\n",
    "    plt.show()\n",
    "generate_residual_plot(train_predictions, residuals)"
   ]
  },
  {
   "cell_type": "markdown",
   "metadata": {},
   "source": [
    " hypothesis testing"
   ]
  },
  {
   "cell_type": "code",
   "execution_count": null,
   "metadata": {
    "scrolled": true
   },
   "outputs": [],
   "source": [
    "Xmar = cleandata[[\"fedfundrate\", \"US_GDP\", \"recession\", \"fertility\"]]\n",
    "ymar = cleandata[[\"danceability\"]]\n",
    "\n",
    "Xmar = sm.add_constant(Xmar)\n",
    "est = sm.OLS(ymar, Xmar).fit()\n",
    "print('Multivar OLS Regression for Danceability:')\n",
    "print(est.summary())"
   ]
  },
  {
   "cell_type": "code",
   "execution_count": null,
   "metadata": {},
   "outputs": [],
   "source": []
  },
  {
   "cell_type": "code",
   "execution_count": null,
   "metadata": {},
   "outputs": [],
   "source": []
  },
  {
   "cell_type": "code",
   "execution_count": null,
   "metadata": {},
   "outputs": [],
   "source": []
  },
  {
   "cell_type": "markdown",
   "metadata": {},
   "source": [
    "# Hypothesis two: \n"
   ]
  },
  {
   "cell_type": "code",
   "execution_count": null,
   "metadata": {},
   "outputs": [],
   "source": [
    "input_vars = [ \"UnemploymentRate\", \"election\", \\\n",
    "              \"DeathRate\", \"S&P500\"]\n",
    "\n",
    "## A5 part a: your code here\n",
    "\n",
    "X= cleandata[input_vars]\n",
    "y= cleandata[\"valence\"] \n",
    "model = LinearRegression().fit(X, y)\n",
    "\n",
    "# Given code\n",
    "for var_name, var_coef in zip(input_vars, model.coef_):\n",
    "    # A5 part b: your code here\n",
    "    print(f\"{var_name}: {var_coef:.2f}\")\n",
    "\n",
    "# A5 part c: your code here\n",
    "print(f\"intercept: {model.intercept_:.2f}\")"
   ]
  },
  {
   "cell_type": "code",
   "execution_count": null,
   "metadata": {},
   "outputs": [],
   "source": [
    "X_train= cleandata[input_vars]\n",
    "train_predictions = model.predict(X_train)"
   ]
  },
  {
   "cell_type": "code",
   "execution_count": null,
   "metadata": {},
   "outputs": [],
   "source": [
    "residuals = cleandata[\"valence\"] - train_predictions\n",
    "residuals.head()"
   ]
  },
  {
   "cell_type": "code",
   "execution_count": null,
   "metadata": {},
   "outputs": [],
   "source": [
    "def generate_residual_plot(pred, resid):\n",
    "    sns.scatterplot(x= pred, y=resid, marker=\"o\")\n",
    "    plt.axhline(y=0 ,color=\"black\")\n",
    "    plt.xlabel(\"Predicted Danceability\")\n",
    "    plt.ylabel(\"Residuals\")\n",
    "    plt.title(\"Residual Plot\")\n",
    "    plt.show()\n",
    "generate_residual_plot(train_predictions, residuals)"
   ]
  },
  {
   "cell_type": "code",
   "execution_count": null,
   "metadata": {},
   "outputs": [],
   "source": []
  },
  {
   "cell_type": "code",
   "execution_count": null,
   "metadata": {},
   "outputs": [],
   "source": [
    "Xmar = cleandata[[ \"UnemploymentRate\", \"election\", \\\n",
    "              \"DeathRate\", \"S&P500\"]]\n",
    "ymar = cleandata[[\"valence\"]]\n",
    "\n",
    "Xmar = sm.add_constant(Xmar)\n",
    "est = sm.OLS(ymar, Xmar).fit()\n",
    "print('Multivar OLS Regression for Valence:')\n",
    "print(est.summary())"
   ]
  },
  {
   "cell_type": "markdown",
   "metadata": {},
   "source": [
    "multivariable - which variable chose and why. single variable regresion for each and ensured each of them are random residual as possible and use them (explain limitations)\n",
    "single variable regression - indepth about transformation, plot them, see if can improve the model, log, square. "
   ]
  },
  {
   "cell_type": "code",
   "execution_count": null,
   "metadata": {},
   "outputs": [],
   "source": []
  },
  {
   "cell_type": "markdown",
   "metadata": {},
   "source": [
    "### Plotting Within Music Sentiment Variables: Danceability vs Valence"
   ]
  },
  {
   "cell_type": "markdown",
   "metadata": {},
   "source": [
    "We visualize how valence trends with danceability over time because we want to observe any peculiarities that may have skewed the correlation result. As observed in the correlation matrix above, we saw that the correlation between valence and danceability is 0.41, which was surprising as we expected it to be higher. Therefore, we plotted it to if the direction that both variables moved were always different or if there was something else going on. From the graph, we can see that the overall trend between danceability and valence is mostly similar, except for the period from 2012 onwards, where danceability increases while valence decreases."
   ]
  },
  {
   "cell_type": "code",
   "execution_count": null,
   "metadata": {},
   "outputs": [],
   "source": [
    "sns.lineplot(x=\"valence\", y=\"danceability\", data= cleandata, marker=\"o\")\n",
    "plt.title('Danceability agaisnt Valence')"
   ]
  },
  {
   "cell_type": "code",
   "execution_count": null,
   "metadata": {},
   "outputs": [],
   "source": [
    "# visualize time series of valence and danceability across the years\n",
    "fig, ax1 = plt.subplots()\n",
    "\n",
    "sns.lineplot(x='year', y='danceability', data=cleandata,\\\n",
    "    ax=ax1, color='blue', label='Danceability')\n",
    "ax1.set_ylabel('Danceability', color='blue') \n",
    "\n",
    "ax2 = ax1.twinx()\n",
    "\n",
    "sns.lineplot(x='year', y='valence', data=cleandata, \\\n",
    "    ax=ax2, color='red', label='Valence')\n",
    "ax2.set_ylabel('Valence', color='red') \n",
    "\n",
    "ax1.set_title('Danceability and Valence Over the Years')\n",
    "ax1.set_xlabel('Year')\n",
    "\n",
    "# fix legends: Add them manually by using the correct handles\n",
    "lines1, _ = ax1.get_legend_handles_labels()\n",
    "lines2, _ = ax2.get_legend_handles_labels() \n",
    "\n",
    "# add both legends to ax1, ensuring the labels are correct\n",
    "ax1.legend(lines1, ['Danceability'], loc='upper left')\n",
    "ax2.legend(lines2, ['Valence'], loc='upper right')\n",
    "\n",
    "# reseting the x-axis ticks to be per year\n",
    "years = np.arange(int(cleandata['year'].min()),\\\n",
    "    int(cleandata['year'].max()) + 1, 1)\n",
    "ax1.set_xticks(years)\n",
    "ax1.set_xticklabels(years, rotation=45) \n",
    "\n",
    "plt.tight_layout() \n",
    "plt.show()"
   ]
  },
  {
   "cell_type": "markdown",
   "metadata": {},
   "source": [
    "### Plotting To Visualize the Trends Between Different Music Variables Vs Different Economic Variables"
   ]
  },
  {
   "cell_type": "markdown",
   "metadata": {},
   "source": [
    "#### Music Sentiment vs. Federal Fund Rate"
   ]
  },
  {
   "cell_type": "markdown",
   "metadata": {},
   "source": [
    "As we start our exploration with music variables with economic variables, we first plot the two music sentiment variables with the federal fund rate to visualize why the federal fund rate vs. valence has the strongest correlation (albeit being a weak correlation) amongst economic variables, while having only a -0.01 correlation for federal fund rate vs. danceability."
   ]
  },
  {
   "cell_type": "markdown",
   "metadata": {},
   "source": [
    " We first plotted fedfundrate against valence across the years. Interestingly, we do observe fedfundrate and valence going in similar directions. However, the spikes for fedfundrate are a lot more extreme, with extreme ups and extreme downs. On the other hand, valence progresses a lot more steadily, with a steady decline over time. "
   ]
  },
  {
   "cell_type": "code",
   "execution_count": null,
   "metadata": {},
   "outputs": [],
   "source": [
    "# visualize time series of valence and fedfundrate across the years\n",
    "fig, ax1 = plt.subplots()\n",
    "sns.lineplot(x='year', y='fedfundrate', data=cleandata, \\\n",
    "    ax=ax1, color='blue', label='fedfundrate')\n",
    "ax2 = ax1.twinx()\n",
    "sns.lineplot(x='year', y='valence', data=cleandata, \\\n",
    "    ax=ax2, color='red', label='valence')\n",
    "\n",
    "ax1.set_title('Fed Fund Rate and Valence Over the Years')\n",
    "ax1.set_xlabel('Year')\n",
    "\n",
    "lines1, _ = ax1.get_legend_handles_labels() \n",
    "lines2, _ = ax2.get_legend_handles_labels()  \n",
    "\n",
    "ax1.legend(lines1, ['Fed Fund Rate'], loc='upper left')\n",
    "ax2.legend(lines2, ['Valence'], loc='upper right')\n",
    "\n",
    "ax1.set_xticks(years)\n",
    "ax1.set_xticklabels(years, rotation=45) \n",
    "\n",
    "plt.tight_layout() \n",
    "plt.show()"
   ]
  },
  {
   "cell_type": "markdown",
   "metadata": {},
   "source": [
    "We then plotted fedfundrate against danceability. We don't observe any trend between the two variables. While Danceability remained stable, fedfundrate had a large spike, which later plummeted. "
   ]
  },
  {
   "cell_type": "code",
   "execution_count": null,
   "metadata": {},
   "outputs": [],
   "source": [
    "# visualize time series of danceability and fedfundrate across the years\n",
    "fig, ax1 = plt.subplots()\n",
    "sns.lineplot(x='year', y='fedfundrate', data=cleandata, \\\n",
    "    ax=ax1, color='blue', label='fedfundrate')\n",
    "ax2 = ax1.twinx()\n",
    "sns.lineplot(x='year', y='danceability', data=cleandata,\\\n",
    "    ax=ax2, color='red', label='danceability')\n",
    "\n",
    "\n",
    "ax1.set_title('Fed Fund Rate and Valence Over the Years')\n",
    "ax1.set_xlabel('Year')\n",
    "\n",
    "lines1, _ = ax1.get_legend_handles_labels()  # Get handles for ax1\n",
    "lines2, _ = ax2.get_legend_handles_labels()  # Get handles for ax2\n",
    "\n",
    "ax1.legend(lines1, ['Fed Fund Rate'], loc='upper left')\n",
    "ax2.legend(lines2, ['Danceability'], loc='upper right')\n",
    "\n",
    "ax1.set_xticks(years)\n",
    "ax1.set_xticklabels(years, rotation=45) \n",
    "\n",
    "plt.tight_layout() \n",
    "plt.show()"
   ]
  },
  {
   "cell_type": "markdown",
   "metadata": {},
   "source": [
    "#### Music Variables vs. Unemployment Rate"
   ]
  },
  {
   "cell_type": "markdown",
   "metadata": {},
   "source": [
    "We also examine the relationship between music variables vs. unemployment rate to explain why we see similar correlation patterns: why is unemployment rate with valence slightly positive (0.09) while being extremely weakly negative (-0.01) with danceability? Also, we aim to see if we could observe any patterns despite the weak correlations."
   ]
  },
  {
   "cell_type": "markdown",
   "metadata": {},
   "source": [
    "Next, we looked at the relationship between the unemployment rate and valence. The plot doesn't seem to indicate any trends between unemployment Rate and valence Throughout the lineplot, valence seems to be steadily going down while the unemployment rate seems to be spiking up and down. "
   ]
  },
  {
   "cell_type": "code",
   "execution_count": null,
   "metadata": {},
   "outputs": [],
   "source": [
    "# visualize time series of valence and unemploymentrate across the years\n",
    "fig, ax1 = plt.subplots()\n",
    "sns.lineplot(x='year', y='UnemploymentRate', data=cleandata, ax=ax1,\\\n",
    "    color='blue', label='UnemploymentRate')\n",
    "ax2 = ax1.twinx()\n",
    "sns.lineplot(x='year', y='valence', data=cleandata, ax=ax2, \\\n",
    "    color='red', label='valence')\n",
    "\n",
    "ax1.set_title('Unemployment Rate and Valence Over the Years')\n",
    "ax1.set_xlabel('Year')\n",
    "\n",
    "lines1, _ = ax1.get_legend_handles_labels()\n",
    "lines2, _ = ax2.get_legend_handles_labels()\n",
    "ax1.legend(lines1, ['Unemployment Rate'], loc='upper left')\n",
    "ax2.legend(lines2, ['Valence'], loc='upper right')\n",
    "\n",
    "ax1.set_xticks(years)\n",
    "ax1.set_xticklabels(years, rotation=45) \n",
    "\n",
    "plt.tight_layout() \n",
    "plt.show()\n"
   ]
  },
  {
   "cell_type": "markdown",
   "metadata": {},
   "source": [
    "We then plotted danceability with unemployment. Again, given the low correlation in the correlation matrix, these two factors interestingly look like they have a relationship. While unemployment spiked more severely over the years, with ups and downs, music danceability follows a similar trend but remains more steady around a small range. "
   ]
  },
  {
   "cell_type": "code",
   "execution_count": null,
   "metadata": {},
   "outputs": [],
   "source": [
    "# visualize time series of danceability and unemploymentrate across the years\n",
    "fig, ax1 = plt.subplots()\n",
    "sns.lineplot(x='year', y='UnemploymentRate', data=cleandata, ax=ax1, \\\n",
    "    color='blue', label='UnemploymentRate')\n",
    "ax2 = ax1.twinx()\n",
    "sns.lineplot(x='year', y='danceability', data=cleandata, ax=ax2, \\\n",
    "    color='red', label='danceability')\n",
    "\n",
    "ax1.set_title('Unemployment Rate and Danceability Over the Years')\n",
    "ax1.set_xlabel('Year')\n",
    "\n",
    "lines1, _ = ax1.get_legend_handles_labels()\n",
    "lines2, _ = ax2.get_legend_handles_labels()\n",
    "ax1.legend(lines1, ['Unemployment Rate'], loc='upper left')\n",
    "ax2.legend(lines2, ['Danceability'], loc='upper right')\n",
    "\n",
    "ax1.set_xticks(years)\n",
    "ax1.set_xticklabels(years, rotation=45) \n",
    "\n",
    "plt.tight_layout() \n",
    "plt.show()"
   ]
  },
  {
   "cell_type": "markdown",
   "metadata": {},
   "source": [
    "#### Music Data vs. US GDP"
   ]
  },
  {
   "cell_type": "markdown",
   "metadata": {},
   "source": [
    "We then plotted danceability with US GDP. There appears to be no correlation as danceability remains stable, while US GDP increased throughout the year, danceability remains similar, oscillating slightly in the center. "
   ]
  },
  {
   "cell_type": "code",
   "execution_count": null,
   "metadata": {},
   "outputs": [],
   "source": [
    "fig, ax1 = plt.subplots()\n",
    "sns.lineplot(x='year', y='US_GDP', data=cleandata, ax=ax1, \n",
    "             color='blue', label='US GDP')\n",
    "ax2 = ax1.twinx()\n",
    "sns.lineplot(x='year', y='danceability', data=cleandata, ax=ax2, \n",
    "             color='red', label='danceability')\n",
    "plt.title('US GDP and Danceability Over the Years')\n",
    "\n",
    "ax1.set_xticks(years)\n",
    "ax1.set_xticklabels(years, rotation=45) \n",
    "\n",
    "plt.tight_layout() \n",
    "plt.show()"
   ]
  },
  {
   "cell_type": "markdown",
   "metadata": {},
   "source": [
    "We then plotted valence with US GDP. There appears to be negative correlation. While valence steadily and slowly decreased over time, US GDP increased linearly over time. "
   ]
  },
  {
   "cell_type": "code",
   "execution_count": null,
   "metadata": {},
   "outputs": [],
   "source": [
    "fig, ax1 = plt.subplots()\n",
    "sns.lineplot(x='year', y='US_GDP', data=cleandata, ax=ax1, \\\n",
    "             color='blue', label='US GDP')\n",
    "ax2 = ax1.twinx()\n",
    "sns.lineplot(x='year', y='valence', data=cleandata, \n",
    "             ax=ax2, color='red', label='valence')\n",
    "plt.title('US GDP and Valence Over the Years')\n",
    "\n",
    "ax1.set_xticks(years)\n",
    "ax1.set_xticklabels(years, rotation=45) \n",
    "\n",
    "plt.tight_layout() \n",
    "plt.show()"
   ]
  },
  {
   "cell_type": "markdown",
   "metadata": {},
   "source": [
    "### Scatterplot to Analyze Data Points "
   ]
  },
  {
   "cell_type": "markdown",
   "metadata": {},
   "source": [
    "With the scatterplot, we inspect why dancebility and valence has such weak correlation with fedfundrate and unemploymentrate by plotting scatter plots. To demonstrate this, we reduce the transparency of the dot to make sure we can determine overlapping to get more accurate perceptions of the range of songs' danceability and valence. We found out that regardless of the fed fund rate and unemployment rate, we have songs with a full spectrum of danceability and valence. This might justify why there is a weak correlation.\n",
    "\n"
   ]
  },
  {
   "cell_type": "markdown",
   "metadata": {},
   "source": [
    "Scatterplot for fedfundrate and danceability. Danceability seems to generally shift up (become higher) when interest rate increases. "
   ]
  },
  {
   "cell_type": "code",
   "execution_count": null,
   "metadata": {},
   "outputs": [],
   "source": [
    "dance_fedfund_graph= sns.scatterplot(cleandata, x=\"fedfundrate\",\\\n",
    "                                     y=\"danceability\", alpha=0.6)\n",
    "plt.title('Scatterplot for Federal Fund Rate and Danceability')"
   ]
  },
  {
   "cell_type": "markdown",
   "metadata": {},
   "source": [
    "Scatterplot for fedfundrate and valence. There appears to be a wide range of valence across all fedfundrate. "
   ]
  },
  {
   "cell_type": "code",
   "execution_count": null,
   "metadata": {},
   "outputs": [],
   "source": [
    "valence_fedfund_graph= sns.scatterplot(cleandata, \\\n",
    "                    x=\"fedfundrate\", y=\"valence\", alpha=0.6)\n",
    "plt.title('Scatterplot for Federal Fund Rate and Valence')"
   ]
  },
  {
   "cell_type": "markdown",
   "metadata": {},
   "source": [
    "Scatterplot for unemployment rate and valence. There appears to be a wide range of danceability across all unemployment rate. However, the range of danceability seems to be slightly smaller when unemployment rate increases. "
   ]
  },
  {
   "cell_type": "code",
   "execution_count": null,
   "metadata": {},
   "outputs": [],
   "source": [
    "dance_un_graph= sns.scatterplot(cleandata, x=\"UnemploymentRate\", \\\n",
    "                                y=\"danceability\", alpha=0.6)\n",
    "plt.title('Scatterplot for Unemployment Rate and Danceability')"
   ]
  },
  {
   "cell_type": "markdown",
   "metadata": {},
   "source": [
    "Scatterplot for unemployment rate and valence. There appears to be a wide range of valence across all unemployment rate."
   ]
  },
  {
   "cell_type": "code",
   "execution_count": null,
   "metadata": {},
   "outputs": [],
   "source": [
    "valence_un_graph= sns.scatterplot(cleandata, x=\"UnemploymentRate\", \\\n",
    "                                  y=\"valence\", alpha=0.6)\n",
    "plt.title('Scatterplot for Unemployment Rate and Valence')"
   ]
  },
  {
   "cell_type": "markdown",
   "metadata": {},
   "source": [
    "### Data Limitation\n",
    "\n",
    "From our journey of exploring the relationship between music sentiment and key economic variables, we came to the realization that *the navigation of the relationship we aim to discover in simplistic terms requires a further extension of qualitative research*, **especially in terms of addressing which data sources we ought to reconsider and how we address the vast range of music sentiments, and in terms of addressing the complex musical and economic natures**. \n",
    "\n",
    "To address this problem, we primarily used the Spotify (to get the quantitative values for music sentiment) dataset. Yet, it might be true that the **popularity column of Spotify commits recency bias. In other words, songs that were recently published are significantly more popular than the older ones**. Such matter of wrongful bias could offer explanation in why we are yet to find tracks that is evenly distributed across the years, and our methodologies must be improved to better accurately represent the most representative songs across the decade. Therefore, further exploration of methods to attain better--or more evenly distributed--data must be considered. For example, in the further phases of our analysis, we could use *Billboard charts*, the most well-known American music charting organization, across the years *and link it to the Spotify data* to normalize our distribution across time, and also have a better representation in what the American public listened to at their respective times.\n",
    "\n",
    "Even if we do solve the inequalities of the number of tracks across the years, we must **question the complex nature of music**. Indeed, the preference of vibes are from human endeavor, thus the possibility of those realms being connected by human endeavor and psychological elements can be held. Yet, the factor of *time* makes our relationship with music so excitingly complex. You ask a man in post-World War II--a pompous time in America--what music he listens to, and he'll answer *cool jazz* (a music with solemn vibes); you ask another man of the late 2000s--a desolate time amidst the sub-prime mortgage crisis--what music he plays on repeat, and he'll answer *electronic dance music*. Hence, the variability of musical preference is so severe--not only across time, but across individuals--that pinpointing this into a limited number of songs insults the rich nature of human complexity with music.\n",
    "\n",
    "- Data is limited to yearly basis due to the lack of monthly data available. (EXPAND ON THIS)\n",
    "\n",
    "The **economic structure can not be watered down into simplicity either**. Economics, even at the micro scale, is yet to offer a simple equation albeit the centuries of studies by the erudite. The elements of psychology, rational thinking, complex mathematics makes it even harder for one to fully comprehend the damned nature of individual interactions between one party with another. Now, consider the national scale, where many of the key economic indicators we've put in our analysis is a result of millions of interactions. Then, consider governments and federal institutions with different political leanings, of which might enact contrasting monetary and/or fiscal policies even with similar economic conditions. **The multitude of parties and factors involved that produce our key economic indicators explain why music sentiments might not directly show the a strong corelation with one of the economical index we used in our analysis.**\n",
    "\n",
    "Another limitation we have is that because **the popular songs that we have for each year is uneven**, we decided to only include popular songs from 2000-2015 where the number of songs is relatively even. This step in data cleaning not only reduce the number of data entries we have but also restrict our datasets to not have recent popular songs. \n",
    "\n",
    "- Model cannot be addressed with models that we have learned in class. Prior research has been using more complex models to determine the relationship between economic data and music sentiments.\n",
    "\n",
    "**Therefore, complexities in addressing the data, addressing sentiment, and addressing economy are reasons why we believe that further discussion and research is needed.** Given the complexities of these realms, the over-simplification to a couple of numbers \"algorithmically\" produced by Spotify and a couple of economic statistics can explain the reason why we are yet to find a strong relationship. Thankfully, by adding more variables or implementing better methods of standardization, we are able to at least progress in our question.\n",
    "\n"
   ]
  },
  {
   "cell_type": "markdown",
   "metadata": {},
   "source": [
    "## Questions\n",
    "- Given that we are not able to use models other than regression models, should we try to limit our scope of research so that we could produce a better model for our project?\n",
    "    - For example, would examining the impact of COVID to key economical indicators and music sentiment help us make a better model?\n",
    "    - Yet, if the aim of regression models is to predict, how can fit in the predictive part of our project if we constrict our model with a certain time period?\n",
    "- What would alternative methods to constrict our data other than time?\n",
    "    - Could genre be one? Tempo? or constricting the range of interest rates? unemployment rates?\n",
    "- In contrast, can we expand/modify our research question so that we could look at different realms (other than music and economics)?\n",
    "    - For example, can we modify our question so that we look at statistics such as population rates or prison rates and relate that to music sentiment?"
   ]
  },
  {
   "cell_type": "markdown",
   "metadata": {},
   "source": [
    "### Reference\n",
    "1. Plot 2 y variables in a graph: https://stackoverflow.com/questions/55654500/seaborn-plot-with-second-y-axis"
   ]
  }
 ],
 "metadata": {
  "kernelspec": {
   "display_name": "Python 3 (ipykernel)",
   "language": "python",
   "name": "python3"
  },
  "language_info": {
   "codemirror_mode": {
    "name": "ipython",
    "version": 3
   },
   "file_extension": ".py",
   "mimetype": "text/x-python",
   "name": "python",
   "nbconvert_exporter": "python",
   "pygments_lexer": "ipython3",
   "version": "3.12.2"
  }
 },
 "nbformat": 4,
 "nbformat_minor": 4
}
