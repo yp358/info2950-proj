{
 "cells": [
  {
   "cell_type": "code",
   "execution_count": 89,
   "id": "8268e78c-fa14-4ad6-acc7-8f98d7014027",
   "metadata": {},
   "outputs": [],
   "source": [
    "import numpy as np\n",
    "import pandas as pd\n",
    "import matplotlib.pyplot as plt\n",
    "import seaborn as sns\n",
    "import datetime\n",
    "from sklearn.linear_model import LinearRegression, LogisticRegression\n",
    "import duckdb\n",
    "import requests\n",
    "from bs4 import BeautifulSoup\n",
    "import time\n",
    "import unicodedata"
   ]
  },
  {
   "cell_type": "code",
   "execution_count": 90,
   "id": "4c914883-16e8-4c2c-adf9-526d41cd7f72",
   "metadata": {},
   "outputs": [],
   "source": [
    "spotify = pd.read_csv('data.csv')\n",
    "billboard = pd.read_csv('bill.csv')\n"
   ]
  },
  {
   "cell_type": "code",
   "execution_count": 91,
   "id": "f0324384-c94a-4675-8710-a45aeb3e982c",
   "metadata": {},
   "outputs": [],
   "source": [
    "# Split 'Artist' by 'feat.' or 'ft.' and combine the feature artist into the 'Artist' column\n",
    "billboard[['Artist', 'FeatureArtist']] = billboard['Artist'].str.split(r'\\s+(?:feat\\.|ft\\.)\\s+', n=1, expand=True)\n",
    "billboard['Artist'] = billboard.apply(lambda row: f\"{row['Artist']}, {row['FeatureArtist']}\" if pd.notna(row['FeatureArtist']) else row['Artist'], axis=1) \n",
    "\n",
    "billboard.drop(columns=['FeatureArtist'], inplace=True)\n",
    "\n",
    "# Clean Spotify 'name' and 'artists' columns\n",
    "spotify['name'] = spotify['name'].str.replace(r'\\(feat.\\..*?\\)', '', regex=True).str.replace(r'\\(ft.\\..*?\\)', '', regex=True).str.strip()\n",
    "spotify['artists'] = spotify['artists'].str.strip(\"[]\").str.replace(\"'\", \"\").str.lower().str.translate(str.maketrans\\\n",
    "                                        ('', '', \"!\\\"#$%&'()*+-./:;<=>?@[\\\\]^_`{|}~\")).str.strip()\n",
    "\n"
   ]
  },
  {
   "cell_type": "code",
   "execution_count": 92,
   "id": "45c152de-4bcf-440b-85d1-3b530616fc2a",
   "metadata": {},
   "outputs": [],
   "source": [
    "def remove_accents(text):\n",
    "    if isinstance(text, str):\n",
    "        return unicodedata.normalize('NFKD', text).encode('ascii', 'ignore').decode('utf-8')\n",
    "    return text\n",
    "\n",
    "billboard['Artist'] = billboard['Artist'].apply(remove_accents) \\\n",
    "                                    .str.lower() \\\n",
    "                                    .str.replace(r'\\(.*?\\)', '', regex=True) \\\n",
    "                                    .str.replace(r'[^a-z\\s]', '', regex=True) \\\n",
    "                                    .str.strip()\n",
    "\n",
    "billboard['Song'] = billboard['Song'].apply(remove_accents) \\\n",
    "                                  .str.lower() \\\n",
    "                                  .str.replace(r'\\(.*?\\)', '', regex=True) \\\n",
    "                                  .str.replace(r'[^a-z\\s]', '', regex=True) \\\n",
    "                                  .str.strip()\n",
    "\n",
    "# Clean and normalize 'Artist Name(s)' and 'Track Name' columns in the Spotify dataset\n",
    "spotify['artists'] = spotify['artists'].apply(remove_accents) \\\n",
    "                                                      .str.lower() \\\n",
    "                                                      .str.replace(r'\\(.*?\\)', '', regex=True) \\\n",
    "                                                      .str.replace(r'[^a-z\\s]', '', regex=True) \\\n",
    "                                                      .str.strip()\n",
    "\n",
    "spotify['name'] = spotify['name'].apply(remove_accents) \\\n",
    "                                              .str.lower() \\\n",
    "                                              .str.replace(r'\\(.*?\\)', '', regex=True) \\\n",
    "                                              .str.replace(r'[^a-z\\s]', '', regex=True) \\\n",
    "                                              .str.strip()\n",
    "\n",
    "billboard['Artist'] = billboard['Artist'].str.lower().str.translate(str.maketrans('', '', \"!\\\"#$%&'()*+-./:;<=>?@[\\\\]^_`{|}~\")).str.strip()\n",
    "\n",
    "billboard['Song'] = billboard['Song'].str.replace('-', ' ') \\\n",
    "                                      .str.replace('/', ' ') \\\n",
    "                                      .str.replace('&', ' ') \\\n",
    "                                      .str.lower().str.translate(str.maketrans('', '', \"!\\\"#$%&'()*+,-./:;<=>?@[\\\\]^_`{|}~\")).str.strip()\n",
    "\n",
    "\n",
    " \n",
    "\n",
    "spotify['name'] = spotify['name'].str.replace('-', ' ') \\\n",
    "                              .str.replace('/', ' ') \\\n",
    "                              .str.replace('&', ' ') \\\n",
    "                              .str.lower().str.translate(str.maketrans('', '', \"!\\\"#$%&'()*+,-./:;<=>?@[\\\\]^_`{|}~\")).str.strip()"
   ]
  },
  {
   "cell_type": "code",
   "execution_count": 93,
   "id": "6285c5ba-baf5-4265-a83f-e67b691d92c2",
   "metadata": {},
   "outputs": [],
   "source": [
    "spotify['name'] = spotify['name'].str.lower().str.strip()\n",
    "spotify['artists'] = spotify['artists'].str.lower().str.strip()\n",
    "\n",
    "\n",
    "# print(spotify.shape)\n",
    "# print(spotify.groupby(['name', 'artists']).ngroups) \n",
    "\n",
    "\n"
   ]
  },
  {
   "cell_type": "code",
   "execution_count": 94,
   "id": "79d818a3-843f-4168-962c-3f8258f98722",
   "metadata": {},
   "outputs": [],
   "source": [
    "top_music = duckdb.sql(\"\"\"\n",
    "                        SELECT billboard.Year, billboard.Rank, billboard.Artist, billboard.Song, \n",
    "                               MEDIAN(spotify.valence) AS valence, MEDIAN(spotify.danceability) AS danceability, \n",
    "                               MEDIAN(spotify.energy) AS energy, MEDIAN(spotify.tempo) AS tempo\n",
    "                        FROM billboard\n",
    "                        LEFT JOIN spotify ON billboard.Song = spotify.name AND billboard.Artist = spotify.artists\n",
    "                        GROUP BY billboard.Year, billboard.Artist, billboard.Song, billboard.Rank\n",
    "                        ORDER BY billboard.Year, billboard.Rank\n",
    "                    \"\"\").df()\n",
    "\n",
    "# Drop duplicates and save the result\n",
    "top_music = top_music.drop_duplicates()"
   ]
  },
  {
   "cell_type": "code",
   "execution_count": 95,
   "id": "a8099533-426d-4274-83b2-09f2c81c17ae",
   "metadata": {},
   "outputs": [
    {
     "name": "stdout",
     "output_type": "stream",
     "text": [
      "   Year  Rank           Artist                       Song\n",
      "0  1960     1      percy faith  theme from a summer place\n",
      "2  1960     3  everly brothers               cathys clown\n",
      "3  1960     4   johnny preston               running bear\n",
      "4  1960     5     mark dinning                 teen angel\n",
      "7  1960     8      jimmy jones                  handy man\n",
      "(2124, 8)\n",
      "   count_star()\n",
      "0           425\n"
     ]
    }
   ],
   "source": [
    "#check to see what values are still missing \n",
    "\n",
    "no_match = top_music[top_music['valence'].isna()]\n",
    "print(no_match[['Year', 'Rank', 'Artist', 'Song']].head())\n",
    "print(no_match.shape) \n",
    "\n",
    "\n",
    "after =duckdb.sql(\"\"\"\n",
    "                       SELECT COUNT(*) \n",
    "                       FROM no_match\n",
    "                       WHERE Year < 1980 AND Year >=1970   \n",
    "                    \"\"\").df()\n",
    "\n",
    "print(after) "
   ]
  },
  {
   "cell_type": "code",
   "execution_count": null,
   "id": "c4dd4059-a878-41c9-a43a-596ecd7a80a1",
   "metadata": {},
   "outputs": [],
   "source": [
    "no_match.to_csv('no_match.csv', index = False) \n",
    "spotify.to_csv('spot.csv', index = False) \n",
    "top_music.to_csv('top.csv', index=False)"
   ]
  },
  {
   "cell_type": "code",
   "execution_count": null,
   "id": "a25362bc-9557-4ca0-993f-eab178d3442a",
   "metadata": {},
   "outputs": [],
   "source": []
  }
 ],
 "metadata": {
  "kernelspec": {
   "display_name": "Python 3 (ipykernel)",
   "language": "python",
   "name": "python3"
  },
  "language_info": {
   "codemirror_mode": {
    "name": "ipython",
    "version": 3
   },
   "file_extension": ".py",
   "mimetype": "text/x-python",
   "name": "python",
   "nbconvert_exporter": "python",
   "pygments_lexer": "ipython3",
   "version": "3.12.2"
  }
 },
 "nbformat": 4,
 "nbformat_minor": 5
}
